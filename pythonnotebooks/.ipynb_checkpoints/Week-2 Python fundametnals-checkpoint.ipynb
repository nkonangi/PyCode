{
 "cells": [
  {
   "cell_type": "markdown",
   "id": "9083e2e9",
   "metadata": {},
   "source": [
    "## Tuples"
   ]
  },
  {
   "cell_type": "code",
   "execution_count": 4,
   "id": "ef49c5f5",
   "metadata": {},
   "outputs": [
    {
     "name": "stdout",
     "output_type": "stream",
     "text": [
      "('max', 28, 'New York')\n"
     ]
    }
   ],
   "source": [
    "tuple1 =(\"max\", 28, \"New York\")\n",
    "print(tuple1)"
   ]
  },
  {
   "cell_type": "code",
   "execution_count": 5,
   "id": "8dcf6a55",
   "metadata": {},
   "outputs": [
    {
     "name": "stdout",
     "output_type": "stream",
     "text": [
      "('abc', 1, 3, 'test')\n"
     ]
    }
   ],
   "source": [
    "tuple2= \"abc\",1,3,\"test\"\n",
    "print(tuple2)"
   ]
  },
  {
   "cell_type": "code",
   "execution_count": 6,
   "id": "b801079d",
   "metadata": {},
   "outputs": [
    {
     "ename": "TypeError",
     "evalue": "'tuple' object does not support item assignment",
     "output_type": "error",
     "traceback": [
      "\u001b[0;31m---------------------------------------------------------------------------\u001b[0m",
      "\u001b[0;31mTypeError\u001b[0m                                 Traceback (most recent call last)",
      "Cell \u001b[0;32mIn[6], line 1\u001b[0m\n\u001b[0;32m----> 1\u001b[0m tuple2[\u001b[38;5;241m2\u001b[39m] \u001b[38;5;241m=\u001b[39m \u001b[38;5;124m\"\u001b[39m\u001b[38;5;124mtest\u001b[39m\u001b[38;5;124m\"\u001b[39m\n",
      "\u001b[0;31mTypeError\u001b[0m: 'tuple' object does not support item assignment"
     ]
    }
   ],
   "source": [
    "tuple2[2] = \"test\""
   ]
  },
  {
   "cell_type": "code",
   "execution_count": 7,
   "id": "4afbc637",
   "metadata": {
    "scrolled": true
   },
   "outputs": [
    {
     "name": "stdout",
     "output_type": "stream",
     "text": [
      "shanthi\n",
      "40\n"
     ]
    }
   ],
   "source": [
    "person=(\"shanthi\", 40, \"atlanta\")\n",
    "name, age, city = person\n",
    "print(name)\n",
    "print(age)"
   ]
  },
  {
   "cell_type": "code",
   "execution_count": 10,
   "id": "4b3dcbac",
   "metadata": {},
   "outputs": [
    {
     "name": "stdout",
     "output_type": "stream",
     "text": [
      "5\n",
      "<class 'int'>\n",
      "persone type ois  <class 'tuple'>\n"
     ]
    }
   ],
   "source": [
    "mytup = (5)\n",
    "print(mytup)\n",
    "print(type(mytup))\n",
    "print(\"persone type ois \", type(person))"
   ]
  },
  {
   "cell_type": "code",
   "execution_count": 9,
   "id": "34684ea5",
   "metadata": {},
   "outputs": [
    {
     "name": "stdout",
     "output_type": "stream",
     "text": [
      "5\n"
     ]
    }
   ],
   "source": [
    "mynum = mytup\n",
    "print(mynum)"
   ]
  },
  {
   "cell_type": "code",
   "execution_count": 11,
   "id": "f19ed164",
   "metadata": {},
   "outputs": [
    {
     "name": "stdout",
     "output_type": "stream",
     "text": [
      "max\n",
      "28\n",
      "New York\n"
     ]
    }
   ],
   "source": [
    "for i in tuple1:\n",
    "    print(i)"
   ]
  },
  {
   "cell_type": "code",
   "execution_count": 12,
   "id": "e618f247",
   "metadata": {},
   "outputs": [
    {
     "name": "stdout",
     "output_type": "stream",
     "text": [
      "0 max\n",
      "1 28\n",
      "2 New York\n"
     ]
    }
   ],
   "source": [
    "for i in range(len(tuple1)):\n",
    "    print(i, tuple1[i])"
   ]
  },
  {
   "cell_type": "code",
   "execution_count": 13,
   "id": "e15872ae",
   "metadata": {},
   "outputs": [
    {
     "name": "stdout",
     "output_type": "stream",
     "text": [
      "0 max\n",
      "1 28\n",
      "2 New York\n"
     ]
    }
   ],
   "source": [
    "for index, val in enumerate(tuple1):\n",
    "    print(index, val)"
   ]
  },
  {
   "cell_type": "code",
   "execution_count": null,
   "id": "cc47a7aa",
   "metadata": {},
   "outputs": [],
   "source": [
    "#does enumerate works on list and strings as well?"
   ]
  },
  {
   "cell_type": "code",
   "execution_count": 14,
   "id": "3fdb8406",
   "metadata": {},
   "outputs": [
    {
     "name": "stdout",
     "output_type": "stream",
     "text": [
      "0 t\n",
      "1 e\n",
      "2 s\n",
      "3 t\n",
      "4 i\n",
      "5 n\n",
      "6 g\n",
      "7  \n",
      "8 a\n",
      "9 s\n",
      "10 d\n",
      "11 l\n",
      "12 f\n",
      "13 a\n",
      "14 s\n",
      "15 d\n",
      "16 l\n",
      "17 f\n",
      "18 j\n",
      "19 k\n",
      "20 d\n",
      "21 s\n",
      "22 f\n"
     ]
    }
   ],
   "source": [
    "mystr =\"testing asdlfasdlfjkdsf\"\n",
    "for index, val in enumerate(mystr):\n",
    "    print(index, val)"
   ]
  },
  {
   "cell_type": "code",
   "execution_count": 15,
   "id": "9f4daec9",
   "metadata": {},
   "outputs": [
    {
     "name": "stdout",
     "output_type": "stream",
     "text": [
      "8\n"
     ]
    }
   ],
   "source": [
    "mytup = (1,2,4,5,6,3,4,5)\n",
    "print(len(mytup))"
   ]
  },
  {
   "cell_type": "code",
   "execution_count": 16,
   "id": "0b218fd7",
   "metadata": {},
   "outputs": [
    {
     "name": "stdout",
     "output_type": "stream",
     "text": [
      "count 2\n",
      "index  2\n"
     ]
    }
   ],
   "source": [
    "print(\"count\", mytup.count(4))\n",
    "print(\"index \", mytup.index(4))"
   ]
  },
  {
   "cell_type": "code",
   "execution_count": 17,
   "id": "b70455b3",
   "metadata": {},
   "outputs": [
    {
     "name": "stdout",
     "output_type": "stream",
     "text": [
      "<class 'tuple'>\n",
      "(1, 3, 5, 6)\n"
     ]
    }
   ],
   "source": [
    "tup4 = tuple([1,3,5,6])\n",
    "print(type(tup4))\n",
    "print(tup4)"
   ]
  },
  {
   "cell_type": "code",
   "execution_count": 18,
   "id": "729263e2",
   "metadata": {},
   "outputs": [
    {
     "name": "stdout",
     "output_type": "stream",
     "text": [
      "<class 'tuple'>\n",
      "(2, 4, 5, 6)\n"
     ]
    }
   ],
   "source": [
    "l =[2,4,5,6]\n",
    "tup5 = tuple(l)\n",
    "print(type(tup5))\n",
    "print(tup5)"
   ]
  },
  {
   "cell_type": "code",
   "execution_count": 19,
   "id": "b8cb3542",
   "metadata": {},
   "outputs": [
    {
     "name": "stdout",
     "output_type": "stream",
     "text": [
      "['a', 'b', 'c']\n"
     ]
    }
   ],
   "source": [
    "t5 = ('a','b','c')\n",
    "l1 = list(t5)\n",
    "print(l1)"
   ]
  },
  {
   "cell_type": "code",
   "execution_count": 21,
   "id": "268d126c",
   "metadata": {},
   "outputs": [
    {
     "name": "stdout",
     "output_type": "stream",
     "text": [
      "104 bytes\n",
      "88 bytes\n"
     ]
    }
   ],
   "source": [
    "#compare memeory sizes\n",
    "import sys\n",
    "\n",
    "mylist =[0,1,2,3,4,5]\n",
    "mytup = (0,1,2,3,4,5)\n",
    "\n",
    "print(sys.getsizeof(mylist),\"bytes\")\n",
    "print(sys.getsizeof(mytup),\"bytes\")"
   ]
  },
  {
   "cell_type": "code",
   "execution_count": 25,
   "id": "5d78a0d4",
   "metadata": {},
   "outputs": [],
   "source": [
    "def divis(a,b) :\n",
    "    q = a//b\n",
    "    r = a%b\n",
    "    return (q,r)"
   ]
  },
  {
   "cell_type": "code",
   "execution_count": 26,
   "id": "7d9ddb3c",
   "metadata": {},
   "outputs": [
    {
     "name": "stdout",
     "output_type": "stream",
     "text": [
      "(3, 1)\n"
     ]
    }
   ],
   "source": [
    "print(divis(10,3))"
   ]
  },
  {
   "cell_type": "code",
   "execution_count": 27,
   "id": "a041e15b",
   "metadata": {},
   "outputs": [
    {
     "name": "stdout",
     "output_type": "stream",
     "text": [
      "3\n"
     ]
    }
   ],
   "source": [
    "quo, rem = divis(10,3)\n",
    "print(quo)"
   ]
  },
  {
   "cell_type": "markdown",
   "id": "942f0189",
   "metadata": {},
   "source": [
    "# SETS"
   ]
  },
  {
   "cell_type": "code",
   "execution_count": 28,
   "id": "beb458e2",
   "metadata": {},
   "outputs": [
    {
     "name": "stdout",
     "output_type": "stream",
     "text": [
      "{1, 2, 3, 4, 5}\n"
     ]
    }
   ],
   "source": [
    "s1 = {1,2,3,4,5}\n",
    "print(s1)\n",
    "print(len(s1))"
   ]
  },
  {
   "cell_type": "code",
   "execution_count": 30,
   "id": "779f75ed",
   "metadata": {},
   "outputs": [
    {
     "name": "stdout",
     "output_type": "stream",
     "text": [
      "{1, 2, 3, 4, 5}\n",
      "5\n"
     ]
    }
   ],
   "source": [
    "s2 = {1,2,3,4,5,1}\n",
    "print(s2)\n",
    "print(len(s2))"
   ]
  },
  {
   "cell_type": "code",
   "execution_count": 31,
   "id": "172d8165",
   "metadata": {},
   "outputs": [
    {
     "name": "stdout",
     "output_type": "stream",
     "text": [
      "{}\n"
     ]
    }
   ],
   "source": [
    "emptyset={}\n",
    "print(emptyset)"
   ]
  },
  {
   "cell_type": "code",
   "execution_count": 32,
   "id": "42c13cbf",
   "metadata": {},
   "outputs": [
    {
     "name": "stdout",
     "output_type": "stream",
     "text": [
      "set()\n"
     ]
    }
   ],
   "source": [
    "emptyset=set()\n",
    "print(emptyset)"
   ]
  },
  {
   "cell_type": "code",
   "execution_count": 42,
   "id": "6b057358",
   "metadata": {},
   "outputs": [
    {
     "name": "stdout",
     "output_type": "stream",
     "text": [
      "true\n"
     ]
    }
   ],
   "source": [
    "l =[1,2,3,4,5,6,1,2]\n",
    "\n",
    "s = set()\n",
    "f = 0\n",
    "for i in l :\n",
    "    if  i in s :\n",
    "        f = 1\n",
    "        print(\"true\")\n",
    "        break\n",
    "    else :\n",
    "        s.add(i)\n",
    "\n",
    "if (f == 0):\n",
    "    print(\"false\")\n",
    "    "
   ]
  },
  {
   "cell_type": "code",
   "execution_count": 43,
   "id": "f1ddd401",
   "metadata": {},
   "outputs": [],
   "source": [
    "def checkForDuplicate(l):\n",
    "    s = set()\n",
    "    for i in l :\n",
    "        if  i in s :\n",
    "            return True\n",
    "        else :\n",
    "               s.add(i)\n",
    "    return False\n",
    "\n",
    "    "
   ]
  },
  {
   "cell_type": "code",
   "execution_count": 44,
   "id": "4a69a662",
   "metadata": {},
   "outputs": [
    {
     "name": "stdout",
     "output_type": "stream",
     "text": [
      "True\n"
     ]
    }
   ],
   "source": [
    "l =[1,2,3,4,5,6,1,2]\n",
    "print(checkForDuplicate(l))"
   ]
  },
  {
   "cell_type": "code",
   "execution_count": 47,
   "id": "c41acd29",
   "metadata": {},
   "outputs": [
    {
     "name": "stdout",
     "output_type": "stream",
     "text": [
      "{2}\n"
     ]
    }
   ],
   "source": [
    "l1=[1,2,2,1]\n",
    "l2=[2,2]\n",
    "\n",
    "s1= set(l1)\n",
    "s2= set(l2)\n",
    "intersetion_set = s1.intersection(s2)\n",
    "\n",
    "print(intersetion_set)"
   ]
  },
  {
   "cell_type": "code",
   "execution_count": 56,
   "id": "cf092fb7",
   "metadata": {},
   "outputs": [],
   "source": [
    "def intersect(l1,l2):\n",
    "    return (set(l1).intersection(set(l2)))"
   ]
  },
  {
   "cell_type": "code",
   "execution_count": 57,
   "id": "6d9d33aa",
   "metadata": {},
   "outputs": [
    {
     "name": "stdout",
     "output_type": "stream",
     "text": [
      "{2}\n"
     ]
    }
   ],
   "source": [
    "l1=[1,2,2,1]\n",
    "l2=[2,2]\n",
    "\n",
    "print(intersect(l1,l2))"
   ]
  },
  {
   "cell_type": "markdown",
   "id": "d22f05f7",
   "metadata": {},
   "source": [
    "# Dictionaries"
   ]
  },
  {
   "cell_type": "code",
   "execution_count": 60,
   "id": "57f65dd2",
   "metadata": {},
   "outputs": [],
   "source": [
    "numbers = [1,2,3,2,1,1,4,5,6,5,5]"
   ]
  },
  {
   "cell_type": "code",
   "execution_count": 61,
   "id": "29024c9a",
   "metadata": {},
   "outputs": [
    {
     "name": "stdout",
     "output_type": "stream",
     "text": [
      "{1: 3, 2: 2, 3: 1, 4: 1, 5: 3, 6: 1}\n"
     ]
    }
   ],
   "source": [
    "counts ={}\n",
    "for num in numbers :\n",
    "    if num in counts:\n",
    "        counts[num] += 1\n",
    "    else : \n",
    "        counts[num] = 1\n",
    "print(counts)\n"
   ]
  },
  {
   "cell_type": "code",
   "execution_count": 66,
   "id": "30be3b68",
   "metadata": {},
   "outputs": [],
   "source": [
    "def twosums(nums, target) :\n",
    "    sumdict = {}\n",
    "    for i in range(len(nums)) :\n",
    "        c = target-nums[i]\n",
    "        if c  in sumdict :\n",
    "            return [i, sumdict[c]]\n",
    "        else :\n",
    "            sumdict[nums[i]] = i"
   ]
  },
  {
   "cell_type": "code",
   "execution_count": 67,
   "id": "fd551bb7",
   "metadata": {},
   "outputs": [
    {
     "name": "stdout",
     "output_type": "stream",
     "text": [
      "[2, 1]\n"
     ]
    }
   ],
   "source": [
    "nums =[3,2,4]\n",
    "target = 6\n",
    "\n",
    "print(twosums(nums, target))"
   ]
  },
  {
   "cell_type": "code",
   "execution_count": 68,
   "id": "83557966",
   "metadata": {},
   "outputs": [
    {
     "name": "stdout",
     "output_type": "stream",
     "text": [
      "[1, 0]\n"
     ]
    }
   ],
   "source": [
    "nums =[2,7,11,15]\n",
    "target = 9\n",
    "\n",
    "print(twosums(nums, target))"
   ]
  },
  {
   "cell_type": "code",
   "execution_count": 69,
   "id": "88722d38",
   "metadata": {},
   "outputs": [],
   "source": [
    "def sqr(x):\n",
    "    return x*x"
   ]
  },
  {
   "cell_type": "code",
   "execution_count": 70,
   "id": "0a7afcba",
   "metadata": {},
   "outputs": [],
   "source": [
    "def addition(x):\n",
    "    return x+x"
   ]
  },
  {
   "cell_type": "code",
   "execution_count": 71,
   "id": "72cca6f1",
   "metadata": {},
   "outputs": [],
   "source": [
    "func_list = [sqr, addition]"
   ]
  },
  {
   "cell_type": "code",
   "execution_count": null,
   "id": "0d3df180",
   "metadata": {},
   "outputs": [],
   "source": [
    "numbers = [1,2,3,4,5]"
   ]
  },
  {
   "cell_type": "code",
   "execution_count": 72,
   "id": "9a3c2272",
   "metadata": {},
   "outputs": [
    {
     "name": "stdout",
     "output_type": "stream",
     "text": [
      "[False, False]\n"
     ]
    }
   ],
   "source": [
    "print(list(map(lambda x : x in numbers , func_list)))"
   ]
  },
  {
   "cell_type": "code",
   "execution_count": 74,
   "id": "8dfbf9f4",
   "metadata": {},
   "outputs": [],
   "source": [
    "numbers = [1,2,3,4,5,6,7,8]"
   ]
  },
  {
   "cell_type": "code",
   "execution_count": 76,
   "id": "98be6cd8",
   "metadata": {},
   "outputs": [
    {
     "name": "stdout",
     "output_type": "stream",
     "text": [
      "[2, 4, 6, 8]\n"
     ]
    }
   ],
   "source": [
    "even_list = list(filter(lambda x : x%2 == 0 , numbers))\n",
    "print(even_list)"
   ]
  },
  {
   "cell_type": "code",
   "execution_count": 78,
   "id": "e2f77da5",
   "metadata": {},
   "outputs": [],
   "source": [
    "letters = ['a', 'b','c','d','d','i','o','j']\n",
    "vowels =['a','e', 'o','i','u']"
   ]
  },
  {
   "cell_type": "code",
   "execution_count": 80,
   "id": "cf2f77b3",
   "metadata": {},
   "outputs": [
    {
     "name": "stdout",
     "output_type": "stream",
     "text": [
      "['a', 'i', 'o']\n"
     ]
    }
   ],
   "source": [
    "owens_list = list(filter(lambda x : x in vowels , letters))\n",
    "print(owens_list)"
   ]
  },
  {
   "cell_type": "code",
   "execution_count": 81,
   "id": "605d5330",
   "metadata": {},
   "outputs": [
    {
     "name": "stdout",
     "output_type": "stream",
     "text": [
      "6\n"
     ]
    }
   ],
   "source": [
    "str1 = \"my isname isisis jameis isis bond\";\n",
    "sub = \"is\";\n",
    "print(str1.count(sub, 4))"
   ]
  },
  {
   "cell_type": "code",
   "execution_count": null,
   "id": "9454fa38",
   "metadata": {},
   "outputs": [],
   "source": []
  }
 ],
 "metadata": {
  "kernelspec": {
   "display_name": "Python 3 (ipykernel)",
   "language": "python",
   "name": "python3"
  },
  "language_info": {
   "codemirror_mode": {
    "name": "ipython",
    "version": 3
   },
   "file_extension": ".py",
   "mimetype": "text/x-python",
   "name": "python",
   "nbconvert_exporter": "python",
   "pygments_lexer": "ipython3",
   "version": "3.11.5"
  }
 },
 "nbformat": 4,
 "nbformat_minor": 5
}
