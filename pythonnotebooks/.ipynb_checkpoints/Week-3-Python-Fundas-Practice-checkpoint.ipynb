{
 "cells": [
  {
   "cell_type": "markdown",
   "id": "099b1ac4",
   "metadata": {},
   "source": [
    "## Week 3 : Python fundametals Class rework"
   ]
  },
  {
   "cell_type": "markdown",
   "id": "43cfe2d6",
   "metadata": {},
   "source": [
    "##### Object Oriented Programming"
   ]
  },
  {
   "cell_type": "code",
   "execution_count": null,
   "id": "4cc9cf13",
   "metadata": {},
   "outputs": [],
   "source": [
    "OOP : Programming paradigm that uses objects to represent and manipulate data\n",
    "    Focus on creating reusable and modular code\n",
    "Benifits : \n",
    "    Easier Manintenance\n",
    "    Code Reusability\n",
    "    Faster Development\n",
    "    "
   ]
  },
  {
   "cell_type": "code",
   "execution_count": 4,
   "id": "1bcad6f6",
   "metadata": {},
   "outputs": [
    {
     "name": "stdout",
     "output_type": "stream",
     "text": [
      "woof !!!\n"
     ]
    }
   ],
   "source": [
    "class Dog:\n",
    "    def bark(self):\n",
    "        print(\"woof !!!\")\n",
    "\n",
    "mydog = Dog()\n",
    "mydog.bark()"
   ]
  },
  {
   "cell_type": "markdown",
   "id": "ecfb5bac",
   "metadata": {},
   "source": [
    "#### Class : Blue print\n",
    "Object: Materialized content as per the blue print defined by that perticular class\n",
    "\n",
    "class class_name:\n",
    "    \n",
    "    #class body"
   ]
  },
  {
   "cell_type": "code",
   "execution_count": null,
   "id": "768fc2c5",
   "metadata": {},
   "outputs": [],
   "source": [
    "Variables - Attributes\n",
    "Functions - Methods\n"
   ]
  },
  {
   "cell_type": "code",
   "execution_count": null,
   "id": "973b3b7c",
   "metadata": {},
   "outputs": [],
   "source": [
    "Used as 1. Name space or \n",
    "        2. Blueprint for creating obects\n",
    "    "
   ]
  },
  {
   "cell_type": "code",
   "execution_count": 10,
   "id": "10547500",
   "metadata": {},
   "outputs": [],
   "source": [
    "class Myclass :\n",
    "    mynum = 1234\n",
    "    def say_hello(name):\n",
    "        print(\"hello \"+name)"
   ]
  },
  {
   "cell_type": "code",
   "execution_count": 6,
   "id": "0d133f71",
   "metadata": {},
   "outputs": [
    {
     "data": {
      "text/plain": [
       "1234"
      ]
     },
     "execution_count": 6,
     "metadata": {},
     "output_type": "execute_result"
    }
   ],
   "source": [
    "Myclass.mynum"
   ]
  },
  {
   "cell_type": "code",
   "execution_count": 11,
   "id": "9b47177a",
   "metadata": {},
   "outputs": [
    {
     "name": "stdout",
     "output_type": "stream",
     "text": [
      "hello narasimha\n"
     ]
    }
   ],
   "source": [
    "Myclass.say_hello(\"narasimha\")"
   ]
  },
  {
   "cell_type": "code",
   "execution_count": 8,
   "id": "f04b2fc1",
   "metadata": {},
   "outputs": [],
   "source": [
    "obj = Myclass()"
   ]
  },
  {
   "cell_type": "code",
   "execution_count": 9,
   "id": "240213d1",
   "metadata": {},
   "outputs": [
    {
     "ename": "TypeError",
     "evalue": "Myclass.say_hello() takes 1 positional argument but 2 were given",
     "output_type": "error",
     "traceback": [
      "\u001b[0;31m---------------------------------------------------------------------------\u001b[0m",
      "\u001b[0;31mTypeError\u001b[0m                                 Traceback (most recent call last)",
      "Cell \u001b[0;32mIn[9], line 1\u001b[0m\n\u001b[0;32m----> 1\u001b[0m obj\u001b[38;5;241m.\u001b[39msay_hello(\u001b[38;5;124m\"\u001b[39m\u001b[38;5;124mnarasimha\u001b[39m\u001b[38;5;124m\"\u001b[39m)\n",
      "\u001b[0;31mTypeError\u001b[0m: Myclass.say_hello() takes 1 positional argument but 2 were given"
     ]
    }
   ],
   "source": [
    "obj.say_hello(\"narasimha\") ## "
   ]
  },
  {
   "cell_type": "markdown",
   "id": "fe13883c",
   "metadata": {},
   "source": [
    "#### Python Class has 3 components\n",
    "\n",
    "1. Initializer or Constructor\n",
    "2. Instance Variables\n",
    "3. Class Methods\n",
    "\n",
    "\n",
    "The __init__ function is a special method of the class. It is popularly known as the initializer method or Constructor.The initializer's primary purpose is to create an object and set the initial state of the object.\n",
    "\n",
    "    The init method takes at least one argument - the self argument.\n",
    "    The self argument must be the first argument of the init method.\n",
    "    Once you have the self, you can have zero or more arguments to the init.\n",
    "\n",
    "\n",
    "Self Arguemnt: The self argument is always hidden, and Python will automatically pass it and manage it. While creating and working with objects, we never use the self argument,and it remains hidden from the outside world. So, when you create an object of a class, Python will call the class's init method and pass the hidden self and other arguments.\n"
   ]
  },
  {
   "cell_type": "code",
   "execution_count": 24,
   "id": "01a33d1d",
   "metadata": {},
   "outputs": [],
   "source": [
    "class Car:  \n",
    "    def __init__(self, name,brand):\n",
    "        self.name = name\n",
    "        self.brand = brand\n",
    "    def launch(self):\n",
    "        print(f\"{self.name} by {self.brand} launched\")\n",
    "    def __repr__(self) :\n",
    "        print(\"car object name is : \" + self.name)"
   ]
  },
  {
   "cell_type": "code",
   "execution_count": 25,
   "id": "5db76081",
   "metadata": {},
   "outputs": [
    {
     "name": "stdout",
     "output_type": "stream",
     "text": [
      "car object name is : rav4\n"
     ]
    },
    {
     "ename": "TypeError",
     "evalue": "__str__ returned non-string (type NoneType)",
     "output_type": "error",
     "traceback": [
      "\u001b[0;31m---------------------------------------------------------------------------\u001b[0m",
      "\u001b[0;31mTypeError\u001b[0m                                 Traceback (most recent call last)",
      "Cell \u001b[0;32mIn[25], line 3\u001b[0m\n\u001b[1;32m      1\u001b[0m \u001b[38;5;66;03m# Creating an object\u001b[39;00m\n\u001b[1;32m      2\u001b[0m car1 \u001b[38;5;241m=\u001b[39m Car(\u001b[38;5;124m\"\u001b[39m\u001b[38;5;124mrav4\u001b[39m\u001b[38;5;124m\"\u001b[39m, \u001b[38;5;124m\"\u001b[39m\u001b[38;5;124mtoyota\u001b[39m\u001b[38;5;124m\"\u001b[39m)\n\u001b[0;32m----> 3\u001b[0m \u001b[38;5;28mprint\u001b[39m(car1)\n\u001b[1;32m      5\u001b[0m car2 \u001b[38;5;241m=\u001b[39m Car() \u001b[38;5;66;03m## Missing positional arguments\u001b[39;00m\n\u001b[1;32m      6\u001b[0m car1\u001b[38;5;241m.\u001b[39mlaunch()\n",
      "\u001b[0;31mTypeError\u001b[0m: __str__ returned non-string (type NoneType)"
     ]
    }
   ],
   "source": [
    "# Creating an object\n",
    "car1 = Car(\"rav4\", \"toyota\")\n",
    "print(car1)\n",
    "\n",
    "car2 = Car() ## Missing positional arguments\n",
    "car1.launch()"
   ]
  },
  {
   "cell_type": "markdown",
   "id": "86f84eba",
   "metadata": {},
   "source": [
    "###### All instance variables should be created prefixing the self."
   ]
  },
  {
   "cell_type": "code",
   "execution_count": 16,
   "id": "b211d612",
   "metadata": {},
   "outputs": [
    {
     "name": "stdout",
     "output_type": "stream",
     "text": [
      "rav4\n",
      "toyota\n",
      "rav4 by toyota launched\n"
     ]
    }
   ],
   "source": [
    "# Accessing instance variables and Methods\n",
    "\n",
    "print(car1.name)\n",
    "print(car1.brand)\n",
    "car1.launch()"
   ]
  },
  {
   "cell_type": "code",
   "execution_count": 18,
   "id": "730f8552",
   "metadata": {},
   "outputs": [
    {
     "name": "stdout",
     "output_type": "stream",
     "text": [
      "rav4\n",
      "toyota\n",
      "rav4 Limited\n",
      "rav4 by toyota launched\n"
     ]
    }
   ],
   "source": [
    "# Modifying instance variables\n",
    "car1.brand = \"rav4 Limited\"\n",
    "print(car1.name)\n",
    "print(car1.brand)\n",
    "car1.launch()"
   ]
  },
  {
   "cell_type": "code",
   "execution_count": 19,
   "id": "692dc0ca",
   "metadata": {},
   "outputs": [
    {
     "name": "stdout",
     "output_type": "stream",
     "text": [
      "Japanese\n"
     ]
    }
   ],
   "source": [
    "# Adding new variable to the Object\n",
    "car1.brand = \"Japanese\"\n",
    "print(car1.brand)"
   ]
  },
  {
   "cell_type": "markdown",
   "id": "67e60586",
   "metadata": {},
   "source": [
    "#### Class Methods\n",
    "\n",
    "We can create functions inside the body of the class. If we want this function to become an instance method, we must pass the \"self\" to the function as the first argument.The first argument is always self for all the instance methods.\n"
   ]
  },
  {
   "cell_type": "markdown",
   "id": "1f35c006",
   "metadata": {},
   "source": [
    "### Summerise on Classes\n",
    "\n",
    "Python Class is a blueprint for creating objects. We can create a Python class using the class keyword and define a class name.\n",
    "\n",
    "The class body can have three things.\n",
    "\n",
    "    1. Class initializer\n",
    "\n",
    "    2. Instance Variables\n",
    "\n",
    "    3. Class Methods\n",
    "\n",
    "The primary purpose of the class initializer is to set an initial value for the required instance variables.\n",
    "\n",
    "Instance, variables are automatically created when you set a value for a new instance variable name.\n",
    "\n",
    "We can create class methods inside the class body. A class method must have the first argument for the self.\n",
    "The self argument is always passed by Python, and it remains hidden from the class users. That's all except one last thing.\n",
    "We always name the self variable as self. However, you can name it whatever you want. It is a standard convention to always name it as \"self.\"\n",
    "\n"
   ]
  },
  {
   "cell_type": "code",
   "execution_count": 28,
   "id": "397a64e1",
   "metadata": {},
   "outputs": [],
   "source": [
    "class Student :\n",
    "    \n",
    "    def __init__(self, name, age, cgpa):\n",
    "        print(\"creating a student object\")\n",
    "        self.name = name\n",
    "        self.age = age\n",
    "        self.cgpa = cgpa\n",
    "        \n",
    "    def study(self):\n",
    "        self.study_hours = 5\n",
    "        print(\" I am studying \")\n",
    "        \n",
    "    def sleep(self):\n",
    "        print(\" I am sleeping \")\n",
    "        "
   ]
  },
  {
   "cell_type": "code",
   "execution_count": 33,
   "id": "adfc7285",
   "metadata": {},
   "outputs": [
    {
     "name": "stdout",
     "output_type": "stream",
     "text": [
      "creating a student object\n",
      "narasimha\n",
      "creating a student object\n",
      " I am studying \n",
      "5\n"
     ]
    }
   ],
   "source": [
    "s1 = Student(\"narasimha\", 12 , 3.5)\n",
    "#print(s1.study_hours) # willn't work as study() is not yet called.\n",
    "print(s1.name)\n",
    "s2 = Student(\"sri\", 13 , 4)\n",
    "s2.study()\n",
    "print(s2.study_hours)"
   ]
  },
  {
   "cell_type": "code",
   "execution_count": 35,
   "id": "11081383",
   "metadata": {},
   "outputs": [],
   "source": [
    "class Car:\n",
    "    def __init__(self):\n",
    "        self.current_state = \"Standing\"\n",
    "        self.current_speed = 0\n",
    "    def start(self):\n",
    "        self.current_state = \"Running\"\n",
    "        self.current_speed = 10\n",
    "    def stop(self):\n",
    "        self.current_state = \"Standing\"\n",
    "        self.current_speed = 0\n",
    "    def speed_up(self, speed):\n",
    "        if self.current_state == \"Standing\" :\n",
    "            self.start()\n",
    "        self.current_speed += speed"
   ]
  },
  {
   "cell_type": "code",
   "execution_count": null,
   "id": "8139e732",
   "metadata": {},
   "outputs": [],
   "source": [
    "## Class Memthod and Class Member variable\n",
    "class Car :\n",
    "    brand = \"Toyota\"\n",
    "    def launch_year():\n",
    "        return 2000\n",
    "## Instance Methods and Instance variables\n",
    "class Car:\n",
    "    def __init__(self):\n",
    "        self.current_state = \"Standing\"\n",
    "        self.current_speed = 0\n",
    "    def show_state(self):\n",
    "        print(f\"{self.current_state} and the current speed is {self.current_speed}\")\n",
    "        "
   ]
  },
  {
   "cell_type": "code",
   "execution_count": null,
   "id": "ebe1b066",
   "metadata": {},
   "outputs": [],
   "source": [
    "class Car :\n",
    "    brand = \"Toyota\" # Class varibale and accessible by using both class and object. Its shared between the classes.\n",
    "    \n",
    "    @classmethod  # Decorator to mark this class as class method but letting it to access using the object name\n",
    "    def launch_year(cls): # cls is a mandotry class parameter and python will take care of passing this object.\n",
    "        return 2000\n",
    "    \n",
    "     def __init__(self):\n",
    "        self.current_state = \"Standing\"\n",
    "        self.current_speed = 0\n",
    "        \n",
    "    def show_state(self):\n",
    "        print(f\"{self.current_state} and the current speed is {self.current_speed}\")\n",
    "        "
   ]
  }
 ],
 "metadata": {
  "kernelspec": {
   "display_name": "Python 3 (ipykernel)",
   "language": "python",
   "name": "python3"
  },
  "language_info": {
   "codemirror_mode": {
    "name": "ipython",
    "version": 3
   },
   "file_extension": ".py",
   "mimetype": "text/x-python",
   "name": "python",
   "nbconvert_exporter": "python",
   "pygments_lexer": "ipython3",
   "version": "3.11.5"
  }
 },
 "nbformat": 4,
 "nbformat_minor": 5
}
