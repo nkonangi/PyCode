{
 "cells": [
  {
   "cell_type": "markdown",
   "id": "b47fba79",
   "metadata": {},
   "source": [
    "# Python Fundamentals - Week 2"
   ]
  },
  {
   "cell_type": "markdown",
   "id": "cfccc0a5",
   "metadata": {},
   "source": [
    "### Tuples"
   ]
  },
  {
   "cell_type": "code",
   "execution_count": 203,
   "id": "897b4983",
   "metadata": {},
   "outputs": [
    {
     "data": {
      "text/plain": [
       "{1, 2, 3, 4}"
      ]
     },
     "execution_count": 203,
     "metadata": {},
     "output_type": "execute_result"
    }
   ],
   "source": [
    "# Creating a set with unordered elements\n",
    "my_set = {3, 1, 2, 4, 2}\n",
    "\n",
    "# Displaying the set\n",
    "my_set\n"
   ]
  },
  {
   "cell_type": "code",
   "execution_count": 1,
   "id": "f150976a",
   "metadata": {},
   "outputs": [
    {
     "name": "stdout",
     "output_type": "stream",
     "text": [
      "('Max', 28, 'New York')\n"
     ]
    }
   ],
   "source": [
    "# Define a new tuple\n",
    "tuple_1 = (\"Max\", 28, \"New York\")\n",
    "print(tuple_1)"
   ]
  },
  {
   "cell_type": "code",
   "execution_count": 2,
   "id": "c64721dc",
   "metadata": {},
   "outputs": [
    {
     "name": "stdout",
     "output_type": "stream",
     "text": [
      "('Linda', 25, 'Miami')\n"
     ]
    }
   ],
   "source": [
    "# Parentheses are optional\n",
    "tuple_2 = \"Linda\", 25, \"Miami\"\n",
    "print(tuple_2)"
   ]
  },
  {
   "cell_type": "code",
   "execution_count": 3,
   "id": "be04b55d",
   "metadata": {},
   "outputs": [
    {
     "ename": "TypeError",
     "evalue": "'tuple' object does not support item assignment",
     "output_type": "error",
     "traceback": [
      "\u001b[1;31m---------------------------------------------------------------------------\u001b[0m",
      "\u001b[1;31mTypeError\u001b[0m                                 Traceback (most recent call last)",
      "\u001b[1;32m<ipython-input-3-5ee50213ebff>\u001b[0m in \u001b[0;36m<module>\u001b[1;34m\u001b[0m\n\u001b[0;32m      1\u001b[0m \u001b[1;31m# Tuples are immutable (ERROR)\u001b[0m\u001b[1;33m\u001b[0m\u001b[1;33m\u001b[0m\u001b[1;33m\u001b[0m\u001b[0m\n\u001b[1;32m----> 2\u001b[1;33m \u001b[0mtuple_1\u001b[0m\u001b[1;33m[\u001b[0m\u001b[1;36m2\u001b[0m\u001b[1;33m]\u001b[0m \u001b[1;33m=\u001b[0m \u001b[1;34m\"Boston\"\u001b[0m\u001b[1;33m\u001b[0m\u001b[1;33m\u001b[0m\u001b[0m\n\u001b[0m",
      "\u001b[1;31mTypeError\u001b[0m: 'tuple' object does not support item assignment"
     ]
    }
   ],
   "source": [
    "# Tuples are immutable (ERROR)\n",
    "tuple_1[2] = \"Boston\""
   ]
  },
  {
   "cell_type": "code",
   "execution_count": 215,
   "id": "3d2abf36",
   "metadata": {},
   "outputs": [
    {
     "data": {
      "text/plain": [
       "['Alice', 'Max']"
      ]
     },
     "execution_count": 215,
     "metadata": {},
     "output_type": "execute_result"
    }
   ],
   "source": [
    "# List all the names\n",
    "new_tuple = ([\"Alice\", 25, \"New York\"], [\"Max\", 28, \"New York\"])\n",
    "\n",
    "[item[0] for item in new_tuple]"
   ]
  },
  {
   "cell_type": "code",
   "execution_count": 7,
   "id": "98ea3401",
   "metadata": {},
   "outputs": [
    {
     "name": "stdout",
     "output_type": "stream",
     "text": [
      "Alice\n",
      "25\n",
      "New York\n",
      "<class 'tuple'>\n"
     ]
    }
   ],
   "source": [
    "# Tuple unpacking\n",
    "person = (\"Alice\", 25, \"New York\")\n",
    "name, age, city = person\n",
    "print(name)\n",
    "print(age)\n",
    "print(city)\n",
    "print(type(person))"
   ]
  },
  {
   "cell_type": "code",
   "execution_count": 5,
   "id": "eab5caf9",
   "metadata": {},
   "outputs": [],
   "source": [
    "# Example: int\n",
    "my_tuple = (5)"
   ]
  },
  {
   "cell_type": "code",
   "execution_count": 6,
   "id": "26cb7b53",
   "metadata": {},
   "outputs": [
    {
     "name": "stdout",
     "output_type": "stream",
     "text": [
      "5\n",
      "<class 'int'>\n"
     ]
    }
   ],
   "source": [
    "print(my_tuple)\n",
    "print(type(my_tuple))"
   ]
  },
  {
   "cell_type": "code",
   "execution_count": 9,
   "id": "3225076a",
   "metadata": {},
   "outputs": [
    {
     "name": "stdout",
     "output_type": "stream",
     "text": [
      "(25, 2)\n",
      "<class 'int'>\n"
     ]
    }
   ],
   "source": [
    "# Example: tuple\n",
    "tuple_3 = (25, 2)\n",
    "\n",
    "print(tuple_3)\n",
    "print(type(my_tuple))"
   ]
  },
  {
   "cell_type": "code",
   "execution_count": 10,
   "id": "3565606d",
   "metadata": {},
   "outputs": [],
   "source": [
    "# Iterate through a tuple\n",
    "tuple_1 = (\"Max\", 28, \"New York\")"
   ]
  },
  {
   "cell_type": "code",
   "execution_count": 11,
   "id": "4215379a",
   "metadata": {},
   "outputs": [
    {
     "name": "stdout",
     "output_type": "stream",
     "text": [
      "Max\n",
      "28\n",
      "New York\n"
     ]
    }
   ],
   "source": [
    "for item in tuple_1:\n",
    "    print(item)"
   ]
  },
  {
   "cell_type": "code",
   "execution_count": 12,
   "id": "081fca6d",
   "metadata": {},
   "outputs": [
    {
     "name": "stdout",
     "output_type": "stream",
     "text": [
      "0 Max\n",
      "1 28\n",
      "2 New York\n"
     ]
    }
   ],
   "source": [
    "for i in range(len(tuple_1)):\n",
    "    print(i, tuple_1[i])"
   ]
  },
  {
   "cell_type": "code",
   "execution_count": 13,
   "id": "d99f04c2",
   "metadata": {
    "scrolled": true
   },
   "outputs": [
    {
     "name": "stdout",
     "output_type": "stream",
     "text": [
      "0 Max\n",
      "1 28\n",
      "2 New York\n"
     ]
    }
   ],
   "source": [
    "for idx, val in enumerate(tuple_1):\n",
    "    print(idx, val)"
   ]
  },
  {
   "cell_type": "code",
   "execution_count": 14,
   "id": "4747d659",
   "metadata": {},
   "outputs": [
    {
     "name": "stdout",
     "output_type": "stream",
     "text": [
      "True\n"
     ]
    }
   ],
   "source": [
    "# Search a tuple\n",
    "if \"New York\" in tuple_1:\n",
    "    print(True)\n",
    "else:\n",
    "    print(False)"
   ]
  },
  {
   "cell_type": "code",
   "execution_count": 15,
   "id": "6077287b",
   "metadata": {},
   "outputs": [
    {
     "name": "stdout",
     "output_type": "stream",
     "text": [
      "False\n"
     ]
    }
   ],
   "source": [
    "if \"Chicago\" in tuple_1:\n",
    "    print(True)\n",
    "else:\n",
    "    print(False)"
   ]
  },
  {
   "cell_type": "code",
   "execution_count": 17,
   "id": "0643272b",
   "metadata": {},
   "outputs": [],
   "source": [
    "# Some tuples properties\n",
    "my_tuple = ('a','p','p','l','e')"
   ]
  },
  {
   "cell_type": "code",
   "execution_count": 18,
   "id": "319d8b62",
   "metadata": {},
   "outputs": [
    {
     "name": "stdout",
     "output_type": "stream",
     "text": [
      "5\n"
     ]
    }
   ],
   "source": [
    "# len() : get the number of elements in a tuple\n",
    "print(len(my_tuple))"
   ]
  },
  {
   "cell_type": "code",
   "execution_count": 19,
   "id": "ab26ef4d",
   "metadata": {},
   "outputs": [
    {
     "name": "stdout",
     "output_type": "stream",
     "text": [
      "2\n"
     ]
    }
   ],
   "source": [
    "# count(x) : Return the number of items that is equal to x\n",
    "print(my_tuple.count('p'))"
   ]
  },
  {
   "cell_type": "code",
   "execution_count": 20,
   "id": "1f211258",
   "metadata": {},
   "outputs": [
    {
     "name": "stdout",
     "output_type": "stream",
     "text": [
      "3\n"
     ]
    }
   ],
   "source": [
    "# index(x) : Return index of first item that is equal to x\n",
    "print(my_tuple.index('l'))"
   ]
  },
  {
   "cell_type": "code",
   "execution_count": 21,
   "id": "39703784",
   "metadata": {},
   "outputs": [
    {
     "name": "stdout",
     "output_type": "stream",
     "text": [
      "('a', 'p', 'p', 'l', 'e', 'a', 'p', 'p', 'l', 'e')\n"
     ]
    }
   ],
   "source": [
    "# repetition (such as lists and strings)\n",
    "print(('a','p','p','l','e') * 2)"
   ]
  },
  {
   "cell_type": "code",
   "execution_count": 22,
   "id": "91e3b88f",
   "metadata": {},
   "outputs": [
    {
     "name": "stdout",
     "output_type": "stream",
     "text": [
      "(1, 2, 3)\n"
     ]
    }
   ],
   "source": [
    "# Convert an iterable (list, dict, string) with the built-in tuple function\n",
    "tuple_4 = tuple([1, 2, 3])\n",
    "print(tuple_4)"
   ]
  },
  {
   "cell_type": "code",
   "execution_count": 23,
   "id": "94773122",
   "metadata": {},
   "outputs": [
    {
     "name": "stdout",
     "output_type": "stream",
     "text": [
      "('a', 'b', 'c', 'd')\n"
     ]
    }
   ],
   "source": [
    "# Convert list to a tuple\n",
    "my_list = ['a', 'b', 'c', 'd']\n",
    "list_to_tuple = tuple(my_list)\n",
    "print(list_to_tuple)"
   ]
  },
  {
   "cell_type": "code",
   "execution_count": 24,
   "id": "0c41a206",
   "metadata": {},
   "outputs": [
    {
     "name": "stdout",
     "output_type": "stream",
     "text": [
      "('H', 'e', 'l', 'l', 'o')\n"
     ]
    }
   ],
   "source": [
    "# convert string to tuple\n",
    "str_to_tuple = tuple('Hello')\n",
    "print(str_to_tuple)"
   ]
  },
  {
   "cell_type": "code",
   "execution_count": 25,
   "id": "36b9b7c7",
   "metadata": {},
   "outputs": [
    {
     "name": "stdout",
     "output_type": "stream",
     "text": [
      "['a', 'b', 'c', 'd']\n"
     ]
    }
   ],
   "source": [
    "# Convert tuple to list\n",
    "my_tuple = ('a', 'b', 'c', 'd')\n",
    "tuple_to_str = list(my_tuple)\n",
    "print(tuple_to_str)"
   ]
  },
  {
   "cell_type": "code",
   "execution_count": 26,
   "id": "8f3462da",
   "metadata": {},
   "outputs": [],
   "source": [
    "my_list = [0, 1, 2, 5, 10]\n",
    "my_tuple = (0, 1, 2, 5, 10)"
   ]
  },
  {
   "cell_type": "code",
   "execution_count": 27,
   "id": "8587c6d8",
   "metadata": {},
   "outputs": [
    {
     "name": "stdout",
     "output_type": "stream",
     "text": [
      "96 bytes\n",
      "80 bytes\n"
     ]
    }
   ],
   "source": [
    "# compare the size\n",
    "import sys\n",
    "\n",
    "print(sys.getsizeof(my_list), \"bytes\")\n",
    "print(sys.getsizeof(my_tuple), \"bytes\")"
   ]
  },
  {
   "cell_type": "code",
   "execution_count": 30,
   "id": "852cb6f2",
   "metadata": {},
   "outputs": [],
   "source": [
    "# Using a tuple to return multiple values\n",
    "def divide(a, b):\n",
    "    quotient = a // b\n",
    "    remainder = a % b\n",
    "#     return (quotient, remainder)\n",
    "    return quotient, remainder"
   ]
  },
  {
   "cell_type": "code",
   "execution_count": 31,
   "id": "28033711",
   "metadata": {},
   "outputs": [
    {
     "name": "stdout",
     "output_type": "stream",
     "text": [
      "3 1\n"
     ]
    }
   ],
   "source": [
    "# result = divide(10, 3) # 10 = 3 x 3 + 1\n",
    "quo, rem = divide(10, 3)\n",
    "# print(result)\n",
    "print(quo, rem)"
   ]
  },
  {
   "cell_type": "markdown",
   "id": "f11b8688",
   "metadata": {},
   "source": [
    "### Sets"
   ]
  },
  {
   "cell_type": "code",
   "execution_count": 32,
   "id": "d86b5344",
   "metadata": {},
   "outputs": [
    {
     "name": "stdout",
     "output_type": "stream",
     "text": [
      "{1, 4, 5, 6, 9, 10, 19}\n"
     ]
    }
   ],
   "source": [
    "# Define a new set\n",
    "set1 = {1, 5, 10, 4, 6, 9, 19}\n",
    "print(set1)"
   ]
  },
  {
   "cell_type": "code",
   "execution_count": 33,
   "id": "46e128a8",
   "metadata": {},
   "outputs": [
    {
     "name": "stdout",
     "output_type": "stream",
     "text": [
      "7\n"
     ]
    }
   ],
   "source": [
    "print(len(set1))"
   ]
  },
  {
   "cell_type": "code",
   "execution_count": 34,
   "id": "e0e68149",
   "metadata": {},
   "outputs": [
    {
     "name": "stdout",
     "output_type": "stream",
     "text": [
      "19\n"
     ]
    }
   ],
   "source": [
    "print(max(set1))"
   ]
  },
  {
   "cell_type": "code",
   "execution_count": 207,
   "id": "0ee5290a",
   "metadata": {},
   "outputs": [
    {
     "name": "stdout",
     "output_type": "stream",
     "text": [
      "{0, 1, 2, 3, 4, 6, 7, 8, 'b', 10, 1000, 'a', -4}\n"
     ]
    }
   ],
   "source": [
    "# The sorted behavior is due to small values of integers which is not necessarily the case\n",
    "\n",
    "# Check this out:\n",
    "new_set = {1, 3, 4, 2, 0, -4, 6, 10, 7, 8, \"a\", \"b\", 1000}\n",
    "print(new_set)"
   ]
  },
  {
   "cell_type": "code",
   "execution_count": 40,
   "id": "b1b1c738",
   "metadata": {},
   "outputs": [
    {
     "name": "stdout",
     "output_type": "stream",
     "text": [
      "set()\n"
     ]
    }
   ],
   "source": [
    "# Define an empty set\n",
    "empty_set = set()\n",
    "print(empty_set)"
   ]
  },
  {
   "cell_type": "code",
   "execution_count": 37,
   "id": "91520d3a",
   "metadata": {},
   "outputs": [
    {
     "ename": "TypeError",
     "evalue": "'set' object is not subscriptable",
     "output_type": "error",
     "traceback": [
      "\u001b[1;31m---------------------------------------------------------------------------\u001b[0m",
      "\u001b[1;31mTypeError\u001b[0m                                 Traceback (most recent call last)",
      "\u001b[1;32m<ipython-input-37-41d8e5f20fb8>\u001b[0m in \u001b[0;36m<module>\u001b[1;34m\u001b[0m\n\u001b[0;32m      2\u001b[0m \u001b[0mset1\u001b[0m \u001b[1;33m=\u001b[0m \u001b[1;33m{\u001b[0m\u001b[1;36m1\u001b[0m\u001b[1;33m,\u001b[0m \u001b[1;36m5\u001b[0m\u001b[1;33m,\u001b[0m \u001b[1;36m10\u001b[0m\u001b[1;33m,\u001b[0m \u001b[1;36m4\u001b[0m\u001b[1;33m,\u001b[0m \u001b[1;36m6\u001b[0m\u001b[1;33m,\u001b[0m \u001b[1;36m9\u001b[0m\u001b[1;33m,\u001b[0m \u001b[1;36m19\u001b[0m\u001b[1;33m}\u001b[0m\u001b[1;33m\u001b[0m\u001b[1;33m\u001b[0m\u001b[0m\n\u001b[0;32m      3\u001b[0m \u001b[1;33m\u001b[0m\u001b[0m\n\u001b[1;32m----> 4\u001b[1;33m \u001b[0mset1\u001b[0m\u001b[1;33m[\u001b[0m\u001b[1;36m2\u001b[0m\u001b[1;33m]\u001b[0m\u001b[1;33m\u001b[0m\u001b[1;33m\u001b[0m\u001b[0m\n\u001b[0m",
      "\u001b[1;31mTypeError\u001b[0m: 'set' object is not subscriptable"
     ]
    }
   ],
   "source": [
    "# Define a new set\n",
    "set1 = {1, 5, 10, 4, 6, 9, 19}\n",
    "\n",
    "set1[2]"
   ]
  },
  {
   "cell_type": "code",
   "execution_count": 38,
   "id": "fd207339",
   "metadata": {},
   "outputs": [
    {
     "name": "stdout",
     "output_type": "stream",
     "text": [
      "{8, 2, 4, 6}\n"
     ]
    }
   ],
   "source": [
    "# Sets remove duplicate elements\n",
    "numbers = {2, 4, 6, 6, 2, 8}\n",
    "print(numbers) "
   ]
  },
  {
   "cell_type": "code",
   "execution_count": 41,
   "id": "135cea0c",
   "metadata": {},
   "outputs": [
    {
     "name": "stdout",
     "output_type": "stream",
     "text": [
      "{'apple', 'banana', 'cherry'}\n"
     ]
    }
   ],
   "source": [
    "# Set built-in functions\n",
    "\n",
    "fruits = {\"apple\", \"banana\", \"cherry\"}\n",
    "print(fruits)"
   ]
  },
  {
   "cell_type": "code",
   "execution_count": 42,
   "id": "3d338e4f",
   "metadata": {},
   "outputs": [
    {
     "name": "stdout",
     "output_type": "stream",
     "text": [
      "{'apple', 'orange', 'banana', 'cherry'}\n"
     ]
    }
   ],
   "source": [
    "# Adding an element\n",
    "fruits.add(\"orange\")\n",
    "print(fruits)"
   ]
  },
  {
   "cell_type": "code",
   "execution_count": 43,
   "id": "0d267f98",
   "metadata": {},
   "outputs": [
    {
     "name": "stdout",
     "output_type": "stream",
     "text": [
      "{'apple', 'orange', 'banana'}\n"
     ]
    }
   ],
   "source": [
    "# Removing an element\n",
    "fruits.remove(\"cherry\")\n",
    "print(fruits)"
   ]
  },
  {
   "cell_type": "code",
   "execution_count": 44,
   "id": "68c4f172",
   "metadata": {},
   "outputs": [
    {
     "ename": "KeyError",
     "evalue": "'watermelon'",
     "output_type": "error",
     "traceback": [
      "\u001b[1;31m---------------------------------------------------------------------------\u001b[0m",
      "\u001b[1;31mKeyError\u001b[0m                                  Traceback (most recent call last)",
      "\u001b[1;32m<ipython-input-44-a3af67fd470f>\u001b[0m in \u001b[0;36m<module>\u001b[1;34m\u001b[0m\n\u001b[0;32m      1\u001b[0m \u001b[1;31m# Removed element has to be in the set (ERROR)\u001b[0m\u001b[1;33m\u001b[0m\u001b[1;33m\u001b[0m\u001b[1;33m\u001b[0m\u001b[0m\n\u001b[1;32m----> 2\u001b[1;33m \u001b[0mfruits\u001b[0m\u001b[1;33m.\u001b[0m\u001b[0mremove\u001b[0m\u001b[1;33m(\u001b[0m\u001b[1;34m\"watermelon\"\u001b[0m\u001b[1;33m)\u001b[0m\u001b[1;33m\u001b[0m\u001b[1;33m\u001b[0m\u001b[0m\n\u001b[0m",
      "\u001b[1;31mKeyError\u001b[0m: 'watermelon'"
     ]
    }
   ],
   "source": [
    "# Removed element has to be in the set (ERROR)\n",
    "fruits.remove(\"watermelon\")"
   ]
  },
  {
   "cell_type": "code",
   "execution_count": 45,
   "id": "9ba5f36d",
   "metadata": {},
   "outputs": [],
   "source": [
    "more_fruits = {\"orange\", \"strawberry\", \"kiwi\"}"
   ]
  },
  {
   "cell_type": "code",
   "execution_count": 46,
   "id": "0dcdcc26",
   "metadata": {},
   "outputs": [
    {
     "name": "stdout",
     "output_type": "stream",
     "text": [
      "{'orange', 'banana', 'kiwi', 'apple', 'strawberry'}\n"
     ]
    }
   ],
   "source": [
    "# Union\n",
    "all_fruits = fruits.union(more_fruits)\n",
    "print(all_fruits)"
   ]
  },
  {
   "cell_type": "code",
   "execution_count": 47,
   "id": "97fdefdb",
   "metadata": {},
   "outputs": [
    {
     "name": "stdout",
     "output_type": "stream",
     "text": [
      "{'orange'}\n"
     ]
    }
   ],
   "source": [
    "# Intersection\n",
    "common_fruits = fruits.intersection(more_fruits)\n",
    "print(common_fruits)"
   ]
  },
  {
   "cell_type": "code",
   "execution_count": 48,
   "id": "5264f173",
   "metadata": {},
   "outputs": [
    {
     "name": "stdout",
     "output_type": "stream",
     "text": [
      "{'apple', 'strawberry', 'kiwi', 'banana'}\n"
     ]
    }
   ],
   "source": [
    "# Difference\n",
    "different_fruits = all_fruits.difference(common_fruits)\n",
    "print(different_fruits)"
   ]
  },
  {
   "cell_type": "code",
   "execution_count": 49,
   "id": "9e9b0713",
   "metadata": {},
   "outputs": [
    {
     "name": "stdout",
     "output_type": "stream",
     "text": [
      "{'orange', 'banana', 'kiwi', 'apple', 'strawberry'}\n"
     ]
    }
   ],
   "source": [
    "# Update\n",
    "fruits = {\"apple\", \"banana\", \"orange\"}\n",
    "more_fruits = {\"orange\", \"strawberry\", \"kiwi\"}\n",
    "fruits.update(more_fruits)\n",
    "print(fruits)"
   ]
  },
  {
   "cell_type": "code",
   "execution_count": 50,
   "id": "35539f42",
   "metadata": {},
   "outputs": [
    {
     "name": "stdout",
     "output_type": "stream",
     "text": [
      "{'orange', 'kiwi', 'apple', 'strawberry'}\n"
     ]
    }
   ],
   "source": [
    "# discard(x): removes x, does nothing if element is not present\n",
    "fruits.discard(\"banana\")\n",
    "print(fruits)"
   ]
  },
  {
   "cell_type": "code",
   "execution_count": 51,
   "id": "1317b3c2",
   "metadata": {},
   "outputs": [
    {
     "name": "stdout",
     "output_type": "stream",
     "text": [
      "{'orange', 'kiwi', 'apple', 'strawberry'}\n"
     ]
    }
   ],
   "source": [
    "fruits.discard(\"blueberry\")\n",
    "print(fruits)"
   ]
  },
  {
   "cell_type": "code",
   "execution_count": 52,
   "id": "2cf581bd",
   "metadata": {},
   "outputs": [
    {
     "ename": "KeyError",
     "evalue": "'blueberry'",
     "output_type": "error",
     "traceback": [
      "\u001b[1;31m---------------------------------------------------------------------------\u001b[0m",
      "\u001b[1;31mKeyError\u001b[0m                                  Traceback (most recent call last)",
      "\u001b[1;32m<ipython-input-52-1f34280972cc>\u001b[0m in \u001b[0;36m<module>\u001b[1;34m\u001b[0m\n\u001b[0;32m      1\u001b[0m \u001b[1;31m# Nonexistent element (ERROR)\u001b[0m\u001b[1;33m\u001b[0m\u001b[1;33m\u001b[0m\u001b[1;33m\u001b[0m\u001b[0m\n\u001b[1;32m----> 2\u001b[1;33m \u001b[0mfruits\u001b[0m\u001b[1;33m.\u001b[0m\u001b[0mremove\u001b[0m\u001b[1;33m(\u001b[0m\u001b[1;34m\"blueberry\"\u001b[0m\u001b[1;33m)\u001b[0m\u001b[1;33m\u001b[0m\u001b[1;33m\u001b[0m\u001b[0m\n\u001b[0m",
      "\u001b[1;31mKeyError\u001b[0m: 'blueberry'"
     ]
    }
   ],
   "source": [
    "# Nonexistent element (ERROR)\n",
    "fruits.remove(\"blueberry\")"
   ]
  },
  {
   "cell_type": "code",
   "execution_count": 53,
   "id": "73b118f8",
   "metadata": {},
   "outputs": [
    {
     "name": "stdout",
     "output_type": "stream",
     "text": [
      "set()\n"
     ]
    }
   ],
   "source": [
    "# clear() : remove all elements\n",
    "fruits.clear()\n",
    "print(fruits)"
   ]
  },
  {
   "cell_type": "code",
   "execution_count": 54,
   "id": "64517cd6",
   "metadata": {},
   "outputs": [],
   "source": [
    "setA = {1, 2, 3, 4, 5, 6}\n",
    "setB = {1, 2, 3}"
   ]
  },
  {
   "cell_type": "code",
   "execution_count": 55,
   "id": "a27f9a21",
   "metadata": {},
   "outputs": [
    {
     "name": "stdout",
     "output_type": "stream",
     "text": [
      "False\n",
      "True\n"
     ]
    }
   ],
   "source": [
    "# issubset(setX): Returns True if setX contains the set\n",
    "print(setA.issubset(setB))\n",
    "print(setB.issubset(setA))"
   ]
  },
  {
   "cell_type": "code",
   "execution_count": 56,
   "id": "a5e86320",
   "metadata": {},
   "outputs": [
    {
     "name": "stdout",
     "output_type": "stream",
     "text": [
      "True\n",
      "False\n"
     ]
    }
   ],
   "source": [
    "# issuperset(setX): Returns True if the set contains setX\n",
    "print(setA.issuperset(setB))\n",
    "print(setB.issuperset(setA))"
   ]
  },
  {
   "cell_type": "code",
   "execution_count": 57,
   "id": "fc881a59",
   "metadata": {},
   "outputs": [
    {
     "name": "stdout",
     "output_type": "stream",
     "text": [
      "False\n",
      "True\n"
     ]
    }
   ],
   "source": [
    "# isdisjoint(setX) : Return True if both sets have a null intersection, i.e. no same elements\n",
    "setC = {7, 8, 9}\n",
    "print(setA.isdisjoint(setB))\n",
    "print(setA.isdisjoint(setC))"
   ]
  },
  {
   "cell_type": "markdown",
   "id": "2828c8e2",
   "metadata": {},
   "source": [
    "### LeetCode 217"
   ]
  },
  {
   "cell_type": "code",
   "execution_count": 58,
   "id": "770d3ef2",
   "metadata": {},
   "outputs": [],
   "source": [
    "# Solution 1\n",
    "def containsDuplicate(nums):\n",
    "    checker = set()\n",
    "    for num in nums:\n",
    "        if num in checker:\n",
    "            return True\n",
    "        else:\n",
    "            checker.add(num)\n",
    "    return False"
   ]
  },
  {
   "cell_type": "code",
   "execution_count": 60,
   "id": "4d6d05fe",
   "metadata": {},
   "outputs": [],
   "source": [
    "# Solution 2\n",
    "def containsDuplicate(nums):\n",
    "    return len(nums) != len(set(nums))"
   ]
  },
  {
   "cell_type": "code",
   "execution_count": 61,
   "id": "79bbc76e",
   "metadata": {},
   "outputs": [
    {
     "name": "stdout",
     "output_type": "stream",
     "text": [
      "True\n",
      "False\n",
      "True\n"
     ]
    }
   ],
   "source": [
    "# Test Case 1\n",
    "nums = [1, 2, 3, 1]\n",
    "print(containsDuplicate(nums))\n",
    "\n",
    "# Test Case 2\n",
    "nums = [1, 2, 3, 4]\n",
    "print(containsDuplicate(nums))\n",
    "\n",
    "# Test Case 3\n",
    "nums = [1, 1, 1, 3, 3, 4, 3, 2, 4, 2]\n",
    "print(containsDuplicate(nums))"
   ]
  },
  {
   "cell_type": "markdown",
   "id": "6ac95b8f",
   "metadata": {},
   "source": [
    "### LeetCode 349"
   ]
  },
  {
   "cell_type": "code",
   "execution_count": 72,
   "id": "24c3b225",
   "metadata": {},
   "outputs": [],
   "source": [
    "# Solution 1\n",
    "def intersection(nums1, nums2):\n",
    "    set1 = set(nums1)\n",
    "    set2 = set(nums2)\n",
    "    intersection_set = set1.intersection(set2)\n",
    "    return list(intersection_set)"
   ]
  },
  {
   "cell_type": "code",
   "execution_count": 74,
   "id": "f5e28305",
   "metadata": {},
   "outputs": [],
   "source": [
    "# Solution 2\n",
    "def intersection(nums1, nums2):\n",
    "    return list(set(nums1).intersection(set(nums2)))"
   ]
  },
  {
   "cell_type": "code",
   "execution_count": 75,
   "id": "4f25325b",
   "metadata": {
    "scrolled": true
   },
   "outputs": [
    {
     "name": "stdout",
     "output_type": "stream",
     "text": [
      "[2]\n",
      "[9, 4]\n"
     ]
    }
   ],
   "source": [
    "# Test Case 1\n",
    "nums1 = [1, 2, 2, 1]\n",
    "nums2 = [2, 2]\n",
    "print(intersection(nums1, nums2))\n",
    "\n",
    "# Test Case 2\n",
    "nums1 = [4, 9, 5]\n",
    "nums2 = [9, 4, 9, 8, 4]\n",
    "print(intersection(nums1, nums2))"
   ]
  },
  {
   "cell_type": "markdown",
   "id": "7f47bd92",
   "metadata": {},
   "source": [
    "### Dictionaries"
   ]
  },
  {
   "cell_type": "code",
   "execution_count": 80,
   "id": "9c3742ca",
   "metadata": {},
   "outputs": [
    {
     "name": "stdout",
     "output_type": "stream",
     "text": [
      "{'Nepal': 'Kathmandu', 'Italy': 'Rome', 'England': 'London'}\n"
     ]
    }
   ],
   "source": [
    "# Define a new dictionary\n",
    "capital_city = {\"Nepal\": \"Kathmandu\", \"Italy\": \"Rome\", \"England\": \"London\"}\n",
    "print(capital_city)"
   ]
  },
  {
   "cell_type": "code",
   "execution_count": 81,
   "id": "84a56559",
   "metadata": {},
   "outputs": [
    {
     "name": "stdout",
     "output_type": "stream",
     "text": [
      "Kathmandu\n"
     ]
    }
   ],
   "source": [
    "# Retrieve value for a given key\n",
    "print(capital_city[\"Nepal\"])"
   ]
  },
  {
   "cell_type": "code",
   "execution_count": 82,
   "id": "0b889c4b",
   "metadata": {},
   "outputs": [
    {
     "name": "stdout",
     "output_type": "stream",
     "text": [
      "Updated Dictionary:  {'Nepal': 'Kathmandu', 'Italy': 'Rome', 'England': 'London', 'Japan': 'Tokyo'}\n"
     ]
    }
   ],
   "source": [
    "# Store a new key-value pair\n",
    "capital_city[\"Japan\"] = \"Tokyo\"\n",
    "print(\"Updated Dictionary: \", capital_city)"
   ]
  },
  {
   "cell_type": "code",
   "execution_count": 83,
   "id": "f821cf06",
   "metadata": {},
   "outputs": [
    {
     "name": "stdout",
     "output_type": "stream",
     "text": [
      "{'name': 'Alice', 'age': 25, 'city': 'New York'}\n"
     ]
    }
   ],
   "source": [
    "# Another example\n",
    "person = {\"name\":\"Alice\", \"age\":25, \"city\":\"New York\"}\n",
    "print(person)"
   ]
  },
  {
   "cell_type": "code",
   "execution_count": 84,
   "id": "ec2590f2",
   "metadata": {},
   "outputs": [
    {
     "name": "stdout",
     "output_type": "stream",
     "text": [
      "dict_keys(['name', 'age', 'city'])\n"
     ]
    }
   ],
   "source": [
    "# Dictionary methods\n",
    "keys = person.keys()\n",
    "print(keys)"
   ]
  },
  {
   "cell_type": "code",
   "execution_count": 85,
   "id": "964d223d",
   "metadata": {},
   "outputs": [
    {
     "name": "stdout",
     "output_type": "stream",
     "text": [
      "dict_values(['Alice', 25, 'New York'])\n"
     ]
    }
   ],
   "source": [
    "values = person.values()\n",
    "print(values)"
   ]
  },
  {
   "cell_type": "code",
   "execution_count": 86,
   "id": "e9abd022",
   "metadata": {},
   "outputs": [
    {
     "name": "stdout",
     "output_type": "stream",
     "text": [
      "dict_items([('name', 'Alice'), ('age', 25), ('city', 'New York')])\n"
     ]
    }
   ],
   "source": [
    "items = person.items()\n",
    "print(items)"
   ]
  },
  {
   "cell_type": "code",
   "execution_count": 87,
   "id": "893800cf",
   "metadata": {},
   "outputs": [
    {
     "name": "stdout",
     "output_type": "stream",
     "text": [
      "25\n",
      "{'name': 'Alice', 'city': 'New York'}\n"
     ]
    }
   ],
   "source": [
    "# Removing values\n",
    "print(person.pop('age'))\n",
    "print(person)"
   ]
  },
  {
   "cell_type": "code",
   "execution_count": 88,
   "id": "a24bedc7",
   "metadata": {},
   "outputs": [
    {
     "name": "stdout",
     "output_type": "stream",
     "text": [
      "{'name': 'Alice'}\n"
     ]
    }
   ],
   "source": [
    "# Delete keys\n",
    "del person['city']\n",
    "print(person)"
   ]
  },
  {
   "cell_type": "code",
   "execution_count": 89,
   "id": "e2e7e1e2",
   "metadata": {},
   "outputs": [
    {
     "ename": "KeyError",
     "evalue": "1",
     "output_type": "error",
     "traceback": [
      "\u001b[1;31m---------------------------------------------------------------------------\u001b[0m",
      "\u001b[1;31mKeyError\u001b[0m                                  Traceback (most recent call last)",
      "\u001b[1;32m<ipython-input-89-cb6ef1d6a60c>\u001b[0m in \u001b[0;36m<module>\u001b[1;34m\u001b[0m\n\u001b[1;32m----> 1\u001b[1;33m \u001b[0mperson\u001b[0m\u001b[1;33m[\u001b[0m\u001b[1;36m1\u001b[0m\u001b[1;33m]\u001b[0m\u001b[1;33m\u001b[0m\u001b[1;33m\u001b[0m\u001b[0m\n\u001b[0m",
      "\u001b[1;31mKeyError\u001b[0m: 1"
     ]
    }
   ],
   "source": [
    "person[1]"
   ]
  },
  {
   "cell_type": "code",
   "execution_count": 90,
   "id": "7f50dbd9",
   "metadata": {},
   "outputs": [
    {
     "name": "stdout",
     "output_type": "stream",
     "text": [
      "{1: 1, 3: 9, 5: 25, 7: 49, 9: 81}\n"
     ]
    }
   ],
   "source": [
    "# Membership Test for Dictionary Keys\n",
    "squares = {1: 1, 3: 9, 5: 25, 7: 49, 9: 81}\n",
    "print(squares)"
   ]
  },
  {
   "cell_type": "code",
   "execution_count": 93,
   "id": "a2fd1baf",
   "metadata": {},
   "outputs": [
    {
     "name": "stdout",
     "output_type": "stream",
     "text": [
      "True\n",
      "True\n",
      "False\n",
      "True\n"
     ]
    }
   ],
   "source": [
    "print(1 in squares)\n",
    "print(2 not in squares)\n",
    "print(49 in squares)\n",
    "print(49 in squares.values())"
   ]
  },
  {
   "cell_type": "code",
   "execution_count": 94,
   "id": "db90181a",
   "metadata": {
    "scrolled": true
   },
   "outputs": [
    {
     "name": "stdout",
     "output_type": "stream",
     "text": [
      "1 1\n",
      "3 9\n",
      "5 25\n",
      "7 49\n",
      "9 81\n"
     ]
    }
   ],
   "source": [
    "# Iterating through a Dictionary\n",
    "for key in squares:\n",
    "    print(key, squares[key])"
   ]
  },
  {
   "cell_type": "code",
   "execution_count": 95,
   "id": "430a5e85",
   "metadata": {},
   "outputs": [
    {
     "name": "stdout",
     "output_type": "stream",
     "text": [
      "1\n",
      "3\n",
      "5\n",
      "7\n",
      "9\n"
     ]
    }
   ],
   "source": [
    "for key in squares.keys():\n",
    "    print(key)"
   ]
  },
  {
   "cell_type": "code",
   "execution_count": 96,
   "id": "73f1ffed",
   "metadata": {},
   "outputs": [
    {
     "name": "stdout",
     "output_type": "stream",
     "text": [
      "1\n",
      "9\n",
      "25\n",
      "49\n",
      "81\n"
     ]
    }
   ],
   "source": [
    "for value in squares.values():\n",
    "    print(value)"
   ]
  },
  {
   "cell_type": "code",
   "execution_count": 97,
   "id": "547df8b3",
   "metadata": {},
   "outputs": [
    {
     "name": "stdout",
     "output_type": "stream",
     "text": [
      "(1, 1)\n",
      "(3, 9)\n",
      "(5, 25)\n",
      "(7, 49)\n",
      "(9, 81)\n"
     ]
    }
   ],
   "source": [
    "for item in squares.items():\n",
    "    print(item)"
   ]
  },
  {
   "cell_type": "code",
   "execution_count": 99,
   "id": "f2ba300f",
   "metadata": {},
   "outputs": [],
   "source": [
    "# Use numbers as key, but be careful\n",
    "my_dict = {3: 9, 6: 36, 9: 81}"
   ]
  },
  {
   "cell_type": "code",
   "execution_count": 100,
   "id": "a0a39179",
   "metadata": {},
   "outputs": [
    {
     "name": "stdout",
     "output_type": "stream",
     "text": [
      "9\n"
     ]
    }
   ],
   "source": [
    "# Retrieve key\n",
    "print(my_dict[3])"
   ]
  },
  {
   "cell_type": "code",
   "execution_count": 101,
   "id": "5100cb33",
   "metadata": {},
   "outputs": [
    {
     "ename": "KeyError",
     "evalue": "2",
     "output_type": "error",
     "traceback": [
      "\u001b[1;31m---------------------------------------------------------------------------\u001b[0m",
      "\u001b[1;31mKeyError\u001b[0m                                  Traceback (most recent call last)",
      "\u001b[1;32m<ipython-input-101-4bb4cc445fbb>\u001b[0m in \u001b[0;36m<module>\u001b[1;34m\u001b[0m\n\u001b[0;32m      1\u001b[0m \u001b[1;31m# Retrive index (ERROR)\u001b[0m\u001b[1;33m\u001b[0m\u001b[1;33m\u001b[0m\u001b[1;33m\u001b[0m\u001b[0m\n\u001b[1;32m----> 2\u001b[1;33m \u001b[0mprint\u001b[0m\u001b[1;33m(\u001b[0m\u001b[0mmy_dict\u001b[0m\u001b[1;33m[\u001b[0m\u001b[1;36m2\u001b[0m\u001b[1;33m]\u001b[0m\u001b[1;33m)\u001b[0m\u001b[1;33m\u001b[0m\u001b[1;33m\u001b[0m\u001b[0m\n\u001b[0m",
      "\u001b[1;31mKeyError\u001b[0m: 2"
     ]
    }
   ],
   "source": [
    "# Retrive index (ERROR)\n",
    "print(my_dict[2])"
   ]
  },
  {
   "cell_type": "code",
   "execution_count": 102,
   "id": "f572bff7",
   "metadata": {},
   "outputs": [
    {
     "name": "stdout",
     "output_type": "stream",
     "text": [
      "{3: 9, 6: 36, 9: 81, (8, 7): 15}\n"
     ]
    }
   ],
   "source": [
    "# use a tuple with immutable elements (e.g. number, string)\n",
    "my_tuple = (8, 7)\n",
    "my_dict[my_tuple] = 15\n",
    "print(my_dict)"
   ]
  },
  {
   "cell_type": "code",
   "execution_count": 103,
   "id": "75b786f1",
   "metadata": {},
   "outputs": [
    {
     "ename": "TypeError",
     "evalue": "unhashable type: 'list'",
     "output_type": "error",
     "traceback": [
      "\u001b[1;31m---------------------------------------------------------------------------\u001b[0m",
      "\u001b[1;31mTypeError\u001b[0m                                 Traceback (most recent call last)",
      "\u001b[1;32m<ipython-input-103-0b111cd2a532>\u001b[0m in \u001b[0;36m<module>\u001b[1;34m\u001b[0m\n\u001b[0;32m      1\u001b[0m \u001b[1;31m# list is not immutable (ERROR)\u001b[0m\u001b[1;33m\u001b[0m\u001b[1;33m\u001b[0m\u001b[1;33m\u001b[0m\u001b[0m\n\u001b[0;32m      2\u001b[0m \u001b[0mmy_list\u001b[0m \u001b[1;33m=\u001b[0m \u001b[1;33m[\u001b[0m\u001b[1;36m8\u001b[0m\u001b[1;33m,\u001b[0m \u001b[1;36m7\u001b[0m\u001b[1;33m]\u001b[0m\u001b[1;33m\u001b[0m\u001b[1;33m\u001b[0m\u001b[0m\n\u001b[1;32m----> 3\u001b[1;33m \u001b[0mmy_dict\u001b[0m \u001b[1;33m=\u001b[0m \u001b[1;33m{\u001b[0m\u001b[0mmy_list\u001b[0m\u001b[1;33m:\u001b[0m \u001b[1;36m15\u001b[0m\u001b[1;33m}\u001b[0m\u001b[1;33m\u001b[0m\u001b[1;33m\u001b[0m\u001b[0m\n\u001b[0m",
      "\u001b[1;31mTypeError\u001b[0m: unhashable type: 'list'"
     ]
    }
   ],
   "source": [
    "# list is not immutable (ERROR)\n",
    "my_list = [8, 7]\n",
    "my_dict = {my_list: 15}"
   ]
  },
  {
   "cell_type": "code",
   "execution_count": 104,
   "id": "e0217a56",
   "metadata": {},
   "outputs": [],
   "source": [
    "# Using a dictionary to count occurrences of elements\n",
    "numbers = [1, 2, 3, 2, 1, 1, 4, 5, 6, 5, 5]"
   ]
  },
  {
   "cell_type": "code",
   "execution_count": 105,
   "id": "27682668",
   "metadata": {},
   "outputs": [
    {
     "name": "stdout",
     "output_type": "stream",
     "text": [
      "{1: 3, 2: 2, 3: 1, 4: 1, 5: 3, 6: 1}\n"
     ]
    }
   ],
   "source": [
    "counts = {}\n",
    "\n",
    "for num in numbers:\n",
    "    if num in counts:\n",
    "        counts[num] += 1\n",
    "    else:\n",
    "        counts[num] = 1\n",
    "\n",
    "print(counts)"
   ]
  },
  {
   "cell_type": "markdown",
   "id": "cd32c759",
   "metadata": {},
   "source": [
    "#### JSON Format"
   ]
  },
  {
   "cell_type": "code",
   "execution_count": null,
   "id": "2e88f716",
   "metadata": {},
   "outputs": [],
   "source": [
    "# Example of reading json as a dict()\n",
    "# import json\n",
    "\n",
    "# with open('data.json', 'r') as json_file:\n",
    "#     data = json.load(json_file)\n",
    "\n",
    "# print(data)"
   ]
  },
  {
   "cell_type": "markdown",
   "id": "e3c7c87e",
   "metadata": {},
   "source": [
    "### LeetCode 1"
   ]
  },
  {
   "cell_type": "code",
   "execution_count": 106,
   "id": "9a96d7ef",
   "metadata": {},
   "outputs": [],
   "source": [
    "# Solution 1\n",
    "def twoSum(nums, target):\n",
    "    dict1 = {}\n",
    "    for i in range(len(nums)):\n",
    "        dict1[nums[i]] = i\n",
    "    for i in range(len(nums)):\n",
    "        complement = target - nums[i]\n",
    "        if (complement in dict1) and (dict1[complement]) != i:\n",
    "            return [i, dict1[complement]]"
   ]
  },
  {
   "cell_type": "code",
   "execution_count": 216,
   "id": "a0fc916d",
   "metadata": {},
   "outputs": [],
   "source": [
    "# Solution 2\n",
    "def twoSum(nums, target):\n",
    "    dict1 = {}\n",
    "    for i in range(len(nums)):\n",
    "        complement = target - nums[i]\n",
    "        if complement in dict1:\n",
    "            return [i, dict1[complement]]\n",
    "        dict1[nums[i]] = i"
   ]
  },
  {
   "cell_type": "code",
   "execution_count": 217,
   "id": "844f6230",
   "metadata": {},
   "outputs": [
    {
     "name": "stdout",
     "output_type": "stream",
     "text": [
      "[1, 0]\n",
      "[2, 1]\n",
      "[1, 0]\n"
     ]
    }
   ],
   "source": [
    "# Test Case 1\n",
    "nums = [2, 7, 11, 15]\n",
    "target = 9\n",
    "print(twoSum(nums, target))\n",
    "\n",
    "# Test Case 2\n",
    "nums = [3, 2, 4]\n",
    "target = 6\n",
    "print(twoSum(nums, target))\n",
    "\n",
    "# Test Case 3\n",
    "nums = [3, 3]\n",
    "target = 6\n",
    "print(twoSum(nums, target))"
   ]
  },
  {
   "cell_type": "markdown",
   "id": "27bb190a",
   "metadata": {},
   "source": [
    "### LeetCode 169"
   ]
  },
  {
   "cell_type": "code",
   "execution_count": 218,
   "id": "e3acd94c",
   "metadata": {},
   "outputs": [],
   "source": [
    "def majorityElement(nums):\n",
    "\n",
    "    freq = dict()\n",
    "    \n",
    "    for elem in nums:\n",
    "        if elem in freq:\n",
    "            freq[elem] += 1\n",
    "        else:\n",
    "            freq[elem] = 1\n",
    "\n",
    "    for key in freq.keys():\n",
    "        if freq[key] > (len(nums) / 2):\n",
    "            return key\n",
    "        \n",
    "    return -1"
   ]
  },
  {
   "cell_type": "code",
   "execution_count": 219,
   "id": "f8f0c8de",
   "metadata": {},
   "outputs": [
    {
     "name": "stdout",
     "output_type": "stream",
     "text": [
      "3\n",
      "2\n"
     ]
    }
   ],
   "source": [
    "# Test Case 1\n",
    "nums = [3, 2, 3]\n",
    "print(majorityElement(nums))\n",
    "\n",
    "# Test Case 2\n",
    "nums = [2, 2, 1, 1, 1, 2, 2]\n",
    "print(majorityElement(nums))"
   ]
  },
  {
   "cell_type": "markdown",
   "id": "12bfd6ff",
   "metadata": {},
   "source": [
    "### Modules"
   ]
  },
  {
   "cell_type": "markdown",
   "id": "25002ec1",
   "metadata": {},
   "source": [
    "#### Built-in Modules"
   ]
  },
  {
   "cell_type": "code",
   "execution_count": 113,
   "id": "e48bd0a0",
   "metadata": {},
   "outputs": [],
   "source": [
    "import math"
   ]
  },
  {
   "cell_type": "code",
   "execution_count": 114,
   "id": "2618588d",
   "metadata": {},
   "outputs": [
    {
     "name": "stdout",
     "output_type": "stream",
     "text": [
      "4.0\n"
     ]
    }
   ],
   "source": [
    "print(math.sqrt(16))"
   ]
  },
  {
   "cell_type": "code",
   "execution_count": 115,
   "id": "d6a9ac76",
   "metadata": {},
   "outputs": [
    {
     "name": "stdout",
     "output_type": "stream",
     "text": [
      "24\n"
     ]
    }
   ],
   "source": [
    "print(math.factorial(4))"
   ]
  },
  {
   "cell_type": "code",
   "execution_count": 116,
   "id": "b8b71e8a",
   "metadata": {},
   "outputs": [
    {
     "name": "stdout",
     "output_type": "stream",
     "text": [
      "1.2246467991473532e-16\n"
     ]
    }
   ],
   "source": [
    "print(math.sin(math.pi))"
   ]
  },
  {
   "cell_type": "code",
   "execution_count": 117,
   "id": "de55beb6",
   "metadata": {},
   "outputs": [
    {
     "name": "stdout",
     "output_type": "stream",
     "text": [
      "3\n"
     ]
    }
   ],
   "source": [
    "print(math.ceil(2.3))"
   ]
  },
  {
   "cell_type": "code",
   "execution_count": 118,
   "id": "c16d8d22",
   "metadata": {},
   "outputs": [],
   "source": [
    "from math import sqrt"
   ]
  },
  {
   "cell_type": "code",
   "execution_count": 119,
   "id": "1f28602e",
   "metadata": {},
   "outputs": [
    {
     "name": "stdout",
     "output_type": "stream",
     "text": [
      "4.0\n"
     ]
    }
   ],
   "source": [
    "print(sqrt(16))"
   ]
  },
  {
   "cell_type": "code",
   "execution_count": 120,
   "id": "2fe76164",
   "metadata": {},
   "outputs": [],
   "source": [
    "import random"
   ]
  },
  {
   "cell_type": "code",
   "execution_count": 129,
   "id": "e7c4cd0a",
   "metadata": {},
   "outputs": [
    {
     "name": "stdout",
     "output_type": "stream",
     "text": [
      "5\n"
     ]
    }
   ],
   "source": [
    "print(random.randint(1, 10))"
   ]
  },
  {
   "cell_type": "markdown",
   "id": "3d4b88c2",
   "metadata": {},
   "source": [
    "#### User-Defined Modules"
   ]
  },
  {
   "cell_type": "code",
   "execution_count": 130,
   "id": "a6d087a5",
   "metadata": {},
   "outputs": [],
   "source": [
    "import math_calculator as mc"
   ]
  },
  {
   "cell_type": "code",
   "execution_count": 131,
   "id": "ceba68c3",
   "metadata": {},
   "outputs": [
    {
     "data": {
      "text/plain": [
       "3.14"
      ]
     },
     "execution_count": 131,
     "metadata": {},
     "output_type": "execute_result"
    }
   ],
   "source": [
    "mc.pi"
   ]
  },
  {
   "cell_type": "code",
   "execution_count": 133,
   "id": "fb669698",
   "metadata": {},
   "outputs": [
    {
     "data": {
      "text/plain": [
       "'John'"
      ]
     },
     "execution_count": 133,
     "metadata": {},
     "output_type": "execute_result"
    }
   ],
   "source": [
    "mc.person1['name']"
   ]
  },
  {
   "cell_type": "code",
   "execution_count": 136,
   "id": "b2352f2a",
   "metadata": {},
   "outputs": [
    {
     "data": {
      "text/plain": [
       "100"
      ]
     },
     "execution_count": 136,
     "metadata": {},
     "output_type": "execute_result"
    }
   ],
   "source": [
    "mc.find_sqaure(10)"
   ]
  },
  {
   "cell_type": "code",
   "execution_count": 137,
   "id": "af18cb91",
   "metadata": {},
   "outputs": [],
   "source": [
    "from math_calculator import find_square_root"
   ]
  },
  {
   "cell_type": "code",
   "execution_count": 138,
   "id": "0c1c8235",
   "metadata": {},
   "outputs": [
    {
     "data": {
      "text/plain": [
       "7.0"
      ]
     },
     "execution_count": 138,
     "metadata": {},
     "output_type": "execute_result"
    }
   ],
   "source": [
    "find_square_root(49)"
   ]
  },
  {
   "cell_type": "markdown",
   "id": "4b20d162",
   "metadata": {},
   "source": [
    "### Lambda Function, map(), filter()"
   ]
  },
  {
   "cell_type": "markdown",
   "id": "0c1afaa6",
   "metadata": {},
   "source": [
    "#### Lambda Function"
   ]
  },
  {
   "cell_type": "code",
   "execution_count": 139,
   "id": "abb0ef96",
   "metadata": {},
   "outputs": [],
   "source": [
    "# Normal functions\n",
    "def add_1(a, b):\n",
    "    return a + b"
   ]
  },
  {
   "cell_type": "code",
   "execution_count": 140,
   "id": "2675bd9e",
   "metadata": {},
   "outputs": [
    {
     "name": "stdout",
     "output_type": "stream",
     "text": [
      "15\n"
     ]
    }
   ],
   "source": [
    "added_val_1 = add_1(5, 10)\n",
    "print(added_val_1)"
   ]
  },
  {
   "cell_type": "code",
   "execution_count": 141,
   "id": "e7b09ddb",
   "metadata": {},
   "outputs": [],
   "source": [
    "# Lambda function\n",
    "add_2 = lambda a, b: a + b"
   ]
  },
  {
   "cell_type": "code",
   "execution_count": 142,
   "id": "5090734a",
   "metadata": {},
   "outputs": [
    {
     "name": "stdout",
     "output_type": "stream",
     "text": [
      "15\n"
     ]
    }
   ],
   "source": [
    "added_val_2 = add_2(5, 10)\n",
    "print(added_val_2)"
   ]
  },
  {
   "cell_type": "code",
   "execution_count": 143,
   "id": "7b2de33f",
   "metadata": {},
   "outputs": [
    {
     "name": "stdout",
     "output_type": "stream",
     "text": [
      "<class 'function'>\n",
      "<class 'function'>\n"
     ]
    }
   ],
   "source": [
    "# Compare results\n",
    "print(type(add_1))\n",
    "print(type(add_2))"
   ]
  },
  {
   "cell_type": "code",
   "execution_count": 144,
   "id": "46cb1d27",
   "metadata": {},
   "outputs": [],
   "source": [
    "# Another example\n",
    "def greet1():\n",
    "    print(\"Hello World\")"
   ]
  },
  {
   "cell_type": "code",
   "execution_count": 145,
   "id": "2660ab54",
   "metadata": {},
   "outputs": [],
   "source": [
    "greet2 = lambda : print(\"Hello World\")"
   ]
  },
  {
   "cell_type": "code",
   "execution_count": 146,
   "id": "1d539925",
   "metadata": {},
   "outputs": [],
   "source": [
    "greet3 = lambda name: print(\"Hello \" + name)"
   ]
  },
  {
   "cell_type": "code",
   "execution_count": 148,
   "id": "be24db9a",
   "metadata": {},
   "outputs": [
    {
     "name": "stdout",
     "output_type": "stream",
     "text": [
      "Hello World\n",
      "Hello World\n",
      "Hello New World\n"
     ]
    }
   ],
   "source": [
    "greet1()\n",
    "greet2()\n",
    "greet3(\"New World\")"
   ]
  },
  {
   "cell_type": "code",
   "execution_count": 150,
   "id": "e26c7cca",
   "metadata": {},
   "outputs": [
    {
     "name": "stdout",
     "output_type": "stream",
     "text": [
      "4\n",
      "20\n",
      "8\n"
     ]
    }
   ],
   "source": [
    "# What is the output?\n",
    "\n",
    "# Anohter example\n",
    "print((lambda x: x + x)(2)) # 4\n",
    "\n",
    "# Anohter example\n",
    "func = lambda a, b: (\n",
    "    b - a if a <= b else a * b\n",
    ")\n",
    "\n",
    "print(func(10, 2)) # 20\n",
    "print(func(2, 10)) # 8"
   ]
  },
  {
   "cell_type": "markdown",
   "id": "dc2b3925",
   "metadata": {},
   "source": [
    "#### map()"
   ]
  },
  {
   "cell_type": "code",
   "execution_count": 151,
   "id": "e7f5d684",
   "metadata": {},
   "outputs": [],
   "source": [
    "# Example - with normal Python function\n",
    "numbers = [2, 4, 8, 6, 8, 10]"
   ]
  },
  {
   "cell_type": "code",
   "execution_count": 153,
   "id": "d47342b3",
   "metadata": {},
   "outputs": [],
   "source": [
    "def square(number):\n",
    "    return number * number"
   ]
  },
  {
   "cell_type": "code",
   "execution_count": 154,
   "id": "471381e7",
   "metadata": {},
   "outputs": [],
   "source": [
    "numbersSquare_list = list(map(square, numbers))\n",
    "numbersSquare_set = set(map(square, numbers))"
   ]
  },
  {
   "cell_type": "code",
   "execution_count": 155,
   "id": "d0fa3c10",
   "metadata": {},
   "outputs": [
    {
     "name": "stdout",
     "output_type": "stream",
     "text": [
      "[4, 16, 64, 36, 64, 100]\n",
      "{64, 100, 4, 36, 16}\n"
     ]
    }
   ],
   "source": [
    "print(numbersSquare_list)\n",
    "print(numbersSquare_set)"
   ]
  },
  {
   "cell_type": "code",
   "execution_count": 156,
   "id": "0f3aa864",
   "metadata": {},
   "outputs": [
    {
     "name": "stdout",
     "output_type": "stream",
     "text": [
      "[1, 4, 9, 16]\n"
     ]
    }
   ],
   "source": [
    "# Combined with Lambda function\n",
    "numbers = (1, 2, 3, 4)\n",
    "numbersSquare = list(map(lambda x: x * x, numbers))\n",
    "print(numbersSquare)"
   ]
  },
  {
   "cell_type": "code",
   "execution_count": 157,
   "id": "3c9419da",
   "metadata": {},
   "outputs": [
    {
     "name": "stdout",
     "output_type": "stream",
     "text": [
      "[100, 20]\n"
     ]
    }
   ],
   "source": [
    "# Iterating through functions\n",
    "def square(x):\n",
    "    return (x * x)\n",
    "\n",
    "def double(x):\n",
    "    return (x + x)\n",
    "\n",
    "# list of functions\n",
    "funcs = [square, double]\n",
    "\n",
    "value = list(map(lambda x: x(10), funcs))\n",
    "\n",
    "print(value)"
   ]
  },
  {
   "cell_type": "code",
   "execution_count": 158,
   "id": "0b4355f3",
   "metadata": {},
   "outputs": [
    {
     "name": "stdout",
     "output_type": "stream",
     "text": [
      "[1, 4, 9, 16, 25]\n"
     ]
    }
   ],
   "source": [
    "# Write a code to square all numbers\n",
    "# numbers = [1, 2, 3, 4, 5]\n",
    "\n",
    "numbers = [1, 2, 3, 4, 5]\n",
    "\n",
    "squared = map(lambda x: x ** 2, numbers)\n",
    "\n",
    "squared_list = list(squared)\n",
    "\n",
    "print(squared_list)"
   ]
  },
  {
   "cell_type": "code",
   "execution_count": 159,
   "id": "347a3a29",
   "metadata": {},
   "outputs": [
    {
     "name": "stdout",
     "output_type": "stream",
     "text": [
      "[2, 4, 6, 8, 10]\n"
     ]
    }
   ],
   "source": [
    "# Write a code to double all numbers\n",
    "# numbers = [1, 2, 3, 4, 5]\n",
    "\n",
    "numbers = [1, 2, 3, 4, 5]\n",
    "\n",
    "doubled = map(lambda x: x * 2, numbers)\n",
    "\n",
    "doubled_list = list(doubled)\n",
    "\n",
    "print(doubled_list)"
   ]
  },
  {
   "cell_type": "markdown",
   "id": "6f391693",
   "metadata": {},
   "source": [
    "#### filter()"
   ]
  },
  {
   "cell_type": "code",
   "execution_count": 160,
   "id": "27ecc85a",
   "metadata": {},
   "outputs": [],
   "source": [
    "# Example\n",
    "scores = [66, 90, 68, 59, 76, 60, 88, 74, 81, 65]"
   ]
  },
  {
   "cell_type": "code",
   "execution_count": 161,
   "id": "a8b65b5e",
   "metadata": {},
   "outputs": [],
   "source": [
    "def is_A_student(score):\n",
    "    return score > 75"
   ]
  },
  {
   "cell_type": "code",
   "execution_count": 162,
   "id": "25cb63ae",
   "metadata": {},
   "outputs": [],
   "source": [
    "filtered_scores = filter(is_A_student, scores)"
   ]
  },
  {
   "cell_type": "code",
   "execution_count": 163,
   "id": "25e97c23",
   "metadata": {},
   "outputs": [],
   "source": [
    "over_75 = list(filtered_scores)"
   ]
  },
  {
   "cell_type": "code",
   "execution_count": 164,
   "id": "bc965a76",
   "metadata": {},
   "outputs": [
    {
     "name": "stdout",
     "output_type": "stream",
     "text": [
      "[90, 76, 88, 81]\n"
     ]
    }
   ],
   "source": [
    "print(over_75)"
   ]
  },
  {
   "cell_type": "code",
   "execution_count": 165,
   "id": "1cc74cc9",
   "metadata": {},
   "outputs": [
    {
     "name": "stdout",
     "output_type": "stream",
     "text": [
      "<filter object at 0x00000232829274C0>\n"
     ]
    }
   ],
   "source": [
    "print(filtered_scores)"
   ]
  },
  {
   "cell_type": "code",
   "execution_count": 167,
   "id": "ba1b3524",
   "metadata": {},
   "outputs": [
    {
     "name": "stdout",
     "output_type": "stream",
     "text": [
      "[-5, -4, -3, -2, -1]\n"
     ]
    }
   ],
   "source": [
    "# What is the output?\n",
    "# Write the same code with lambda function\n",
    "\n",
    "# Another example\n",
    "def less_zero(x):\n",
    "    return x < 0\n",
    "\n",
    "number_list = list(range(-5, 5))\n",
    "less_than_zero = list(filter(less_zero, number_list))\n",
    "print(less_than_zero)"
   ]
  },
  {
   "cell_type": "code",
   "execution_count": 168,
   "id": "9494248d",
   "metadata": {},
   "outputs": [
    {
     "name": "stdout",
     "output_type": "stream",
     "text": [
      "[-5, -4, -3, -2, -1]\n"
     ]
    }
   ],
   "source": [
    "number_list = list(range(-5, 5))\n",
    "less_than_zero = list(filter(lambda x: x < 0, number_list))\n",
    "print(less_than_zero)"
   ]
  },
  {
   "cell_type": "code",
   "execution_count": 170,
   "id": "b560ae09",
   "metadata": {},
   "outputs": [
    {
     "name": "stdout",
     "output_type": "stream",
     "text": [
      "[2, 4, 6, 8]\n"
     ]
    }
   ],
   "source": [
    "# Write a code to keep even numbers\n",
    "# numbers = [1, 2, 3, 4, 5, 6, 7, 8]\n",
    "\n",
    "numbers = [1, 2, 3, 4, 5, 6, 7, 8]\n",
    "\n",
    "def is_even(num):\n",
    "    if num % 2 == 0:\n",
    "        return True\n",
    "    else:\n",
    "        return False\n",
    "\n",
    "# even_nums = list(filter(is_even, numbers))\n",
    "even_nums = list(filter(lambda x: x % 2 == 0, numbers))\n",
    "\n",
    "print(even_nums)"
   ]
  },
  {
   "cell_type": "code",
   "execution_count": 172,
   "id": "65cc81d0",
   "metadata": {},
   "outputs": [
    {
     "name": "stdout",
     "output_type": "stream",
     "text": [
      "['a', 'e', 'i', 'o']\n"
     ]
    }
   ],
   "source": [
    "# Write a code to keep vowels\n",
    "# letters = ['a', 'b', 'd', 'e', 'i', 'j', 'o']\n",
    "# vowels = ['a', 'e', 'i', 'o', 'u']\n",
    "\n",
    "letters = ['a', 'b', 'd', 'e', 'i', 'j', 'o']\n",
    "vowels = ['a', 'e', 'i', 'o', 'u']\n",
    "\n",
    "def filter_vowels(letter):\n",
    "    if letter in vowels:\n",
    "        return True\n",
    "    else:\n",
    "        return False\n",
    "\n",
    "# filtered_vowels = list(filter(filter_vowels, letters))\n",
    "filtered_vowels = list(filter(lambda x: x in vowels, letters))\n",
    "\n",
    "print(filtered_vowels)"
   ]
  },
  {
   "cell_type": "markdown",
   "id": "730c6084",
   "metadata": {},
   "source": [
    "### Scope of Variables"
   ]
  },
  {
   "cell_type": "code",
   "execution_count": 173,
   "id": "562528f0",
   "metadata": {},
   "outputs": [
    {
     "name": "stdout",
     "output_type": "stream",
     "text": [
      "4\n",
      "5\n",
      "4\n"
     ]
    }
   ],
   "source": [
    "# Example of a local variable\n",
    "def my_function():\n",
    "    x = 5 # Local variable\n",
    "    print(x)\n",
    "\n",
    "x = 4 # Global variable\n",
    "print(x)\n",
    "my_function()\n",
    "print(x)"
   ]
  },
  {
   "cell_type": "code",
   "execution_count": 174,
   "id": "aef5a730",
   "metadata": {},
   "outputs": [
    {
     "name": "stdout",
     "output_type": "stream",
     "text": [
      "Python is great!\n",
      "It's awesome\n",
      "It's awesome\n"
     ]
    }
   ],
   "source": [
    "# This function modifies global variable 's'\n",
    "def f():\n",
    "    global s # Global variable\n",
    "    print(s)\n",
    "    s = \"It's awesome\"\n",
    "    print(s)\n",
    "\n",
    "# Global Scope\n",
    "s = \"Python is great!\" # Global variable\n",
    "f()\n",
    "print(s)"
   ]
  },
  {
   "cell_type": "code",
   "execution_count": 177,
   "id": "3020f423",
   "metadata": {},
   "outputs": [
    {
     "name": "stdout",
     "output_type": "stream",
     "text": [
      "abc\n",
      "xyz\n",
      "pqr\n"
     ]
    }
   ],
   "source": [
    "# Example\n",
    "s1 = \"abc\" # Global variable\n",
    "\n",
    "def f():\n",
    "    s3 = \"pqr\" # Local variable\n",
    "    print(s1)\n",
    "    print(s2)\n",
    "    print(s3)\n",
    "\n",
    "# Global scope\n",
    "s2 = \"xyz\" # Global variable\n",
    "f()"
   ]
  },
  {
   "cell_type": "code",
   "execution_count": 178,
   "id": "ad56077c",
   "metadata": {},
   "outputs": [
    {
     "name": "stdout",
     "output_type": "stream",
     "text": [
      "1\n",
      "1\n",
      "1\n",
      "2\n",
      "1\n",
      "3\n",
      "3\n"
     ]
    }
   ],
   "source": [
    "# What is the output?\n",
    "\n",
    "a = 1 # Global variable\n",
    "\n",
    "def f():\n",
    "    print(a)\n",
    "\n",
    "def g():\n",
    "    a = 2 # Local variable\n",
    "    print(a)\n",
    "\n",
    "def h():\n",
    "    global a\n",
    "    a = 3 # Global variable\n",
    "    print(a)\n",
    "\n",
    "print(a)\n",
    "f()\n",
    "print(a)\n",
    "g()\n",
    "print(a)\n",
    "h()\n",
    "print(a)"
   ]
  },
  {
   "cell_type": "markdown",
   "id": "69b642f4",
   "metadata": {},
   "source": [
    "### Call by Value"
   ]
  },
  {
   "cell_type": "code",
   "execution_count": 179,
   "id": "478d227e",
   "metadata": {},
   "outputs": [
    {
     "name": "stdout",
     "output_type": "stream",
     "text": [
      "10\n",
      "11\n"
     ]
    }
   ],
   "source": [
    "# Example 1 - number\n",
    "def modify_value(x):\n",
    "    x += 1\n",
    "    return x\n",
    "\n",
    "original_variable = 10\n",
    "result = modify_value(original_variable)\n",
    "print(original_variable)  # Output: 10 (original variable is not changed)\n",
    "print(result)             # Output: 11 (the modified value is returned)"
   ]
  },
  {
   "cell_type": "code",
   "execution_count": 180,
   "id": "74d1bf24",
   "metadata": {},
   "outputs": [
    {
     "name": "stdout",
     "output_type": "stream",
     "text": [
      "Original String: Hello\n",
      "Modified String: Hello\n"
     ]
    }
   ],
   "source": [
    "# Example 2 - string\n",
    "def modify_string(input_string):\n",
    "    input_string += \" World!\"\n",
    "\n",
    "original_string = \"Hello\"\n",
    "print(\"Original String:\", original_string)\n",
    "\n",
    "modify_string(original_string)\n",
    "\n",
    "print(\"Modified String:\", original_string)"
   ]
  },
  {
   "cell_type": "code",
   "execution_count": 237,
   "id": "eed28022",
   "metadata": {},
   "outputs": [
    {
     "name": "stdout",
     "output_type": "stream",
     "text": [
      "Original tuple: (1, 2, 3)\n",
      "Original tuple: (1, 2, 3)\n"
     ]
    }
   ],
   "source": [
    "# Example 2 - tuple\n",
    "def modify_tuple(input_tuple):\n",
    "    input_tuple = (4, 5, 6) # Local variable\n",
    "\n",
    "original_tuple = (1, 2, 3) # Global variable\n",
    "print(\"Original tuple:\", original_tuple)\n",
    "\n",
    "modify_tuple(original_tuple)\n",
    "\n",
    "print(\"Original tuple:\", original_tuple)"
   ]
  },
  {
   "cell_type": "markdown",
   "id": "ea828780",
   "metadata": {},
   "source": [
    "### Call by Reference"
   ]
  },
  {
   "cell_type": "code",
   "execution_count": 181,
   "id": "40a6f5ae",
   "metadata": {},
   "outputs": [
    {
     "name": "stdout",
     "output_type": "stream",
     "text": [
      "[1, 2, 3, 4]\n"
     ]
    }
   ],
   "source": [
    "# Example 1 - list\n",
    "def modify_list(lst):\n",
    "    lst.append(4)\n",
    "\n",
    "original_list = [1, 2, 3]\n",
    "modify_list(original_list)\n",
    "print(original_list)  # Output: [1, 2, 3, 4] (the original list is modified)"
   ]
  },
  {
   "cell_type": "code",
   "execution_count": 182,
   "id": "fa55c413",
   "metadata": {},
   "outputs": [
    {
     "name": "stdout",
     "output_type": "stream",
     "text": [
      "Original Dictionary: {'key1': 'value1', 'key2': 'value2'}\n",
      "Modified Dictionary: {'key1': 'value1', 'key2': 'new_value'}\n"
     ]
    }
   ],
   "source": [
    "# Example 2 - dictionary\n",
    "def modify_dict(input_dict):\n",
    "    input_dict['key2'] = 'new_value'\n",
    "\n",
    "original_dict = {'key1': 'value1', 'key2': 'value2'}\n",
    "print(\"Original Dictionary:\", original_dict)\n",
    "\n",
    "modify_dict(original_dict)\n",
    "\n",
    "print(\"Modified Dictionary:\", original_dict)"
   ]
  },
  {
   "cell_type": "code",
   "execution_count": 187,
   "id": "f9dd4895",
   "metadata": {},
   "outputs": [
    {
     "name": "stdout",
     "output_type": "stream",
     "text": [
      "Original Set: {1, 2, 3, 4}\n",
      "Modified Set: {1, 2, 3, 4, 5}\n"
     ]
    }
   ],
   "source": [
    "# Example 3 - set\n",
    "def modify_set(input_set):\n",
    "    input_set.add(5)\n",
    "\n",
    "original_set = {1, 2, 3, 4}\n",
    "print(\"Original Set:\", original_set)\n",
    "\n",
    "modify_set(original_set)\n",
    "\n",
    "print(\"Modified Set:\", original_set)"
   ]
  }
 ],
 "metadata": {
  "kernelspec": {
   "display_name": "Python 3",
   "language": "python",
   "name": "python3"
  },
  "language_info": {
   "codemirror_mode": {
    "name": "ipython",
    "version": 3
   },
   "file_extension": ".py",
   "mimetype": "text/x-python",
   "name": "python",
   "nbconvert_exporter": "python",
   "pygments_lexer": "ipython3",
   "version": "3.8.8"
  }
 },
 "nbformat": 4,
 "nbformat_minor": 5
}
