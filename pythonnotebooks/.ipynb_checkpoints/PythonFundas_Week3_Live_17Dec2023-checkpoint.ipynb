{
 "cells": [
  {
   "cell_type": "markdown",
   "id": "579d5303",
   "metadata": {},
   "source": [
    "# 17/Dec/2023: Live - Week3 Class on Python Fundamentals"
   ]
  },
  {
   "cell_type": "code",
   "execution_count": null,
   "id": "5f8d42d3",
   "metadata": {},
   "outputs": [],
   "source": [
    "# scope of variable\n",
    "\n",
    "def example_function():\n",
    "    local_var = 5\n",
    "    print(local_var)\n",
    "    \n",
    "example_function()\n",
    "print(local_var) ## should through error because its not available outside of the function\n"
   ]
  },
  {
   "cell_type": "code",
   "execution_count": null,
   "id": "b25626f4",
   "metadata": {},
   "outputs": [],
   "source": [
    "NonLocal varibales : variables defined in an outer function but not in the global scope\n",
    "    Used in nested fuction "
   ]
  },
  {
   "cell_type": "code",
   "execution_count": null,
   "id": "2fa7389f",
   "metadata": {},
   "outputs": [],
   "source": [
    "def outer_function():\n",
    "    nonlocal_var = 10\n",
    "    def inner_function():\n",
    "        nonlocal nonlocal_var\n",
    "        nonlocal_var += 5\n",
    "    inner_function()\n",
    "    print(nonlocal_var)\n",
    "    \n",
    "outer_function()"
   ]
  },
  {
   "cell_type": "code",
   "execution_count": null,
   "id": "971fad87",
   "metadata": {},
   "outputs": [],
   "source": [
    "global_var =20\n",
    "\n",
    "def example_function():\n",
    "    global_var += 5\n",
    "    print(global_var)# available here because its a global variable \n",
    "\n",
    "example_function()\n",
    "print(global_var) # still available here"
   ]
  },
  {
   "cell_type": "markdown",
   "id": "251d96a1",
   "metadata": {},
   "source": [
    "## OOP Concepts"
   ]
  },
  {
   "cell_type": "code",
   "execution_count": 2,
   "id": "03ab9b31",
   "metadata": {},
   "outputs": [
    {
     "name": "stdout",
     "output_type": "stream",
     "text": [
      " wooof!!! \n"
     ]
    }
   ],
   "source": [
    "class Dog :\n",
    "    def bark(self):\n",
    "        print(\" wooof!!! \")\n",
    "\n",
    "mydog = Dog()\n",
    "mydog.bark()\n",
    "#output woof!!!"
   ]
  },
  {
   "cell_type": "code",
   "execution_count": null,
   "id": "a6b41e01",
   "metadata": {},
   "outputs": [],
   "source": [
    "class Student :\n",
    "    \n",
    "    def __init__(self, age, name, gpa):\n",
    "        self.age = age\n",
    "        self.name = name\n",
    "        self.gpa = gpa\n",
    "    \n",
    "    ## Modify the representation with providing the name\n",
    "    \n",
    "    def __repr__(self) :\n",
    "        return \"student name is :\", self.name, \" and their gap is \", self.gpa)\n",
    "    \n",
    "    \n",
    "    \n",
    "    "
   ]
  },
  {
   "cell_type": "code",
   "execution_count": null,
   "id": "ec176dfb",
   "metadata": {},
   "outputs": [],
   "source": [
    "class Course:\n",
    "    def __init__(self, name):\n",
    "        self.name = name\n",
    "    \n",
    "    # write a method to enroll students\n",
    "    def add_a_student(self, student_obj):\n",
    "        self.student = student_obj\n",
    "    \n",
    "    #write a metho to find thee student from their gpa --> return top_student\n",
    "    def find_top(self):\n",
    "        "
   ]
  },
  {
   "cell_type": "code",
   "execution_count": null,
   "id": "657b3c5d",
   "metadata": {},
   "outputs": [],
   "source": [
    "studentA = Student(25,\"Mary\", 4)\n",
    "studentB = Student(28,\"Sarah\", 3)\n",
    "studentC = Student(27,\"Jill\", 2.5)"
   ]
  },
  {
   "cell_type": "code",
   "execution_count": null,
   "id": "cd16d980",
   "metadata": {},
   "outputs": [],
   "source": []
  },
  {
   "cell_type": "markdown",
   "id": "c3af16d1",
   "metadata": {},
   "source": [
    "# Sort Functions"
   ]
  },
  {
   "cell_type": "code",
   "execution_count": 3,
   "id": "6162d2b2",
   "metadata": {},
   "outputs": [
    {
     "name": "stdout",
     "output_type": "stream",
     "text": [
      "[[0, 4], [1, 2], [1, 3], [6, 3]]\n"
     ]
    }
   ],
   "source": [
    "points = [[1,2],[0,4],[6,3],[1,3]]\n",
    "\n",
    "sorted_points = sorted(points)\n",
    "print(sorted_points)"
   ]
  },
  {
   "cell_type": "code",
   "execution_count": 5,
   "id": "fce1234a",
   "metadata": {},
   "outputs": [
    {
     "name": "stdout",
     "output_type": "stream",
     "text": [
      "[[1, 2], [6, 3], [1, 3], [0, 4]]\n"
     ]
    }
   ],
   "source": [
    "sorted_points = sorted(points, key = lambda x : x[1], reverse = False)\n",
    "print(sorted_points)"
   ]
  },
  {
   "cell_type": "code",
   "execution_count": 6,
   "id": "eac99078",
   "metadata": {},
   "outputs": [
    {
     "name": "stdout",
     "output_type": "stream",
     "text": [
      "[[0, 4], [6, 3], [1, 3], [1, 2]]\n"
     ]
    }
   ],
   "source": [
    "sorted_points = sorted(points, key = lambda x : x[1], reverse = True)\n",
    "print(sorted_points)"
   ]
  },
  {
   "cell_type": "code",
   "execution_count": 8,
   "id": "db965435",
   "metadata": {},
   "outputs": [],
   "source": [
    "class Emp:\n",
    "    def __init__(self, name,dept,age):\n",
    "        self.name = name\n",
    "        self.dept = dept\n",
    "        self.age=age\n",
    "        \n",
    "    def __repr__(self):\n",
    "        return self.name + \" : \"+ self.dept+\" : \"+ self.age"
   ]
  },
  {
   "cell_type": "code",
   "execution_count": null,
   "id": "9d308530",
   "metadata": {},
   "outputs": [],
   "source": [
    "employee = [ Emp()]"
   ]
  },
  {
   "cell_type": "code",
   "execution_count": null,
   "id": "cb233916",
   "metadata": {},
   "outputs": [],
   "source": []
  },
  {
   "cell_type": "markdown",
   "id": "e83baff1",
   "metadata": {},
   "source": [
    "## Exception Handling"
   ]
  },
  {
   "cell_type": "markdown",
   "id": "f24998b1",
   "metadata": {},
   "source": [
    "# Common Exceptions :\n",
    "Syntax Error \n",
    "\n",
    "Type Error \n",
    "\n",
    "Value Error \n",
    "\n",
    "FileNotFoundError \n"
   ]
  },
  {
   "cell_type": "code",
   "execution_count": 10,
   "id": "4b659cdd",
   "metadata": {},
   "outputs": [],
   "source": [
    "try :\n",
    "    pass\n",
    "except :\n",
    "    pass\n",
    "else:\n",
    "    pass\n",
    "finally :\n",
    "    pass"
   ]
  },
  {
   "cell_type": "code",
   "execution_count": null,
   "id": "5fc1c686",
   "metadata": {},
   "outputs": [],
   "source": [
    "try :\n",
    "    x = 5/0\n",
    "    print(5)\n",
    "except ZeroDivisionError:\n",
    "    "
   ]
  },
  {
   "cell_type": "code",
   "execution_count": 21,
   "id": "1f6a1d89",
   "metadata": {},
   "outputs": [
    {
     "name": "stdout",
     "output_type": "stream",
     "text": [
      "30\n"
     ]
    }
   ],
   "source": [
    "class Employee:\n",
    "    def __init__(self,id,age,name):\n",
    "        self.id=id\n",
    "        self.age=age\n",
    "        self.name = name\n",
    "    \n",
    "    def printID(self):\n",
    "        print(self.age)\n",
    "    \n",
    "    def printAge(self):\n",
    "        print(self.age)\n",
    "\n",
    "\n",
    "emp1= Employee('E001',30,\"test\")\n",
    "emp2= Employee('E002',35,\"narasimha\")\n",
    "emp1.printID()"
   ]
  },
  {
   "cell_type": "code",
   "execution_count": 32,
   "id": "1da9770c",
   "metadata": {},
   "outputs": [
    {
     "name": "stdout",
     "output_type": "stream",
     "text": [
      "['apple', 'ten', '1', '3456', 'as']\n",
      "['1', 'as', 'ten', '3456', 'apple']\n"
     ]
    }
   ],
   "source": [
    "def  sort_str_list_by_len(strlist) :\n",
    "    sorted_list = sorted(strlist, key = len)\n",
    "    return sorted_list\n",
    "\n",
    "slits =[\"apple\",\"ten\",\"1\",\"3456\",\"as\"]\n",
    "print(slits)\n",
    "print(sort_str_list_by_len(slits))"
   ]
  },
  {
   "cell_type": "code",
   "execution_count": 36,
   "id": "52f7befc",
   "metadata": {},
   "outputs": [
    {
     "name": "stdout",
     "output_type": "stream",
     "text": [
      "['apple', 'ten', '1', '3456', 'as']\n",
      "['1', '3456', 'apple', 'as', 'ten']\n"
     ]
    }
   ],
   "source": [
    "def  sort_str_list_by_len(strlist) :\n",
    "    strlist.sort()\n",
    "    return strlist\n",
    "\n",
    "slits =[\"apple\",\"ten\",\"1\",\"3456\",\"as\"]\n",
    "print(slits)\n",
    "print(sort_str_list_by_len(slits))"
   ]
  },
  {
   "cell_type": "code",
   "execution_count": 41,
   "id": "a0a8b3ec",
   "metadata": {},
   "outputs": [
    {
     "name": "stdout",
     "output_type": "stream",
     "text": [
      "5.0\n",
      " This is the block executes irrespective of the exception or not\n"
     ]
    }
   ],
   "source": [
    "def printexception(x,y):\n",
    "    try:\n",
    "        print(x/y)\n",
    "    \n",
    "    except :\n",
    "        print(\" some error\")\n",
    "        \n",
    "    finally :\n",
    "        print(\" This is the block executes irrespective of the exception or not\")\n",
    "        \n",
    "printexception(5,1)\n"
   ]
  },
  {
   "cell_type": "code",
   "execution_count": 55,
   "id": "336b0686",
   "metadata": {},
   "outputs": [
    {
     "name": "stdout",
     "output_type": "stream",
     "text": [
      "thisisthebestprogram\n"
     ]
    }
   ],
   "source": [
    "with open(\"/Users/narasimha/Documents/text.txt\",\"r\") as fileobj :\n",
    "    maxword=\"\"\n",
    "    for line in fileobj :\n",
    "        wordlist = line.strip().split()\n",
    "        if len(maxword) < len(max(wordlist, key = len)) :\n",
    "            maxword = max(wordlist, key = len)\n",
    "    print(maxword)\n",
    "    \n",
    "\n",
    "\n",
    "\n"
   ]
  },
  {
   "cell_type": "code",
   "execution_count": 57,
   "id": "7aa84376",
   "metadata": {},
   "outputs": [
    {
     "name": "stdout",
     "output_type": "stream",
     "text": [
      "please enter your first number :wrewrwre\n",
      "please enter your second number :fhgfhg\n",
      " Error in receiving values \n",
      " in side the finally block \n"
     ]
    }
   ],
   "source": [
    "try:\n",
    "    var1 = input(\"please enter your first number :\")\n",
    "    var2 =  input(\"please enter your second number :\")\n",
    "    num1 = int(var1)\n",
    "    num2 = int(var2)\n",
    "    result = num1/num2\n",
    "    print(\" result is \" , result)\n",
    "except :\n",
    "    print(\" Error in receiving values \") \n",
    "\n",
    "finally :\n",
    "    print(\" in side the finally block \") "
   ]
  },
  {
   "cell_type": "code",
   "execution_count": 58,
   "id": "d07c83ef",
   "metadata": {},
   "outputs": [
    {
     "name": "stdout",
     "output_type": "stream",
     "text": [
      "{'id': '0001', 'type': 'donut', 'name': 'Cake', 'ppu': 0.55, 'batters': {'batter': [{'id': '1001', 'type': 'Regular'}, {'id': '1002', 'type': 'Chocolate'}, {'id': '1003', 'type': 'Blueberry'}, {'id': '1004', 'type': \"Devil's Food\"}]}, 'topping': [{'id': '5001', 'type': 'None'}, {'id': '5002', 'type': 'Glazed'}, {'id': '5005', 'type': 'Sugar'}, {'id': '5007', 'type': 'Powdered Sugar'}, {'id': '5006', 'type': 'Chocolate with Sprinkles'}, {'id': '5003', 'type': 'Chocolate'}, {'id': '5004', 'type': 'Maple'}]}\n"
     ]
    }
   ],
   "source": [
    "import json\n",
    "\n",
    "with open('/Users/narasimha/Documents/test.json', 'r') as file:\n",
    "    data = json.load(file)\n",
    "    print(data)\n"
   ]
  },
  {
   "cell_type": "code",
   "execution_count": 59,
   "id": "b4570dce",
   "metadata": {},
   "outputs": [
    {
     "name": "stderr",
     "output_type": "stream",
     "text": [
      "Traceback (most recent call last):\n",
      "  File \"/var/folders/0n/cll9yts17cs2z0tv2szc_l780000gn/T/ipykernel_6723/3664021397.py\", line 5, in <module>\n",
      "    x = 1 / 0\n",
      "        ~~^~~\n",
      "ZeroDivisionError: division by zero\n"
     ]
    }
   ],
   "source": [
    "import traceback\n",
    "\n",
    "try:\n",
    "    # Some code that may raise an exception\n",
    "    x = 1 / 0\n",
    "except Exception:\n",
    "    traceback.print_exc()"
   ]
  },
  {
   "cell_type": "code",
   "execution_count": null,
   "id": "e8ee3087",
   "metadata": {},
   "outputs": [],
   "source": []
  }
 ],
 "metadata": {
  "kernelspec": {
   "display_name": "Python 3 (ipykernel)",
   "language": "python",
   "name": "python3"
  },
  "language_info": {
   "codemirror_mode": {
    "name": "ipython",
    "version": 3
   },
   "file_extension": ".py",
   "mimetype": "text/x-python",
   "name": "python",
   "nbconvert_exporter": "python",
   "pygments_lexer": "ipython3",
   "version": "3.11.5"
  }
 },
 "nbformat": 4,
 "nbformat_minor": 5
}
