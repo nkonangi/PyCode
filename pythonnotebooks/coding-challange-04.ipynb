{
 "cells": [
  {
   "cell_type": "markdown",
   "metadata": {},
   "source": [
    "# Coding Challange - 04"
   ]
  },
  {
   "cell_type": "markdown",
   "metadata": {},
   "source": [
    "### Question 1:\n",
    "\n",
    "Write a python class Pet that is initialized with the name and species of the pet. It contains an instance method to display the info on the screen. Define two other classes Dog and Cat. Call the instance method of Pet class using the Dog and Cat objects.\n",
    "\n",
    "#### Expected Output:\n",
    "\n",
    "Name: Kitty\n",
    "<br>Species: Persian Cat\n",
    "\n",
    "Name: Bruno\n",
    "<br>Species: German Shepherd"
   ]
  },
  {
   "cell_type": "code",
   "execution_count": 1,
   "metadata": {},
   "outputs": [
    {
     "name": "stdout",
     "output_type": "stream",
     "text": [
      "Name of the pet :  snoopy\n",
      "Name of the species :  whiteflurry\n",
      "Name of the pet :  billy\n",
      "Name of the species :  jungerpilli\n"
     ]
    }
   ],
   "source": [
    "class Pet :\n",
    "    \n",
    "    def __init__(self, name, species):\n",
    "        self.name = name\n",
    "        self.species = species\n",
    "    def information(self):\n",
    "        print(\"Name of the pet : \", self.name)\n",
    "        print(\"Name of the species : \", self.species)\n",
    "        \n",
    "class Dog(Pet):\n",
    "    def __init__(self, name, species):\n",
    "        self.name = name\n",
    "        self.species = species\n",
    "        \n",
    "class Cat(Pet):\n",
    "    def __init__(self, name, species):\n",
    "        self.name = name\n",
    "        self.species = species\n",
    "\n",
    "mydog = Dog(\"snoopy\", \"whiteflurry\")\n",
    "mycat = Cat(\"billy\", \"jungerpilli\")\n",
    "\n",
    "mydog.information()\n",
    "mycat.information()\n",
    "                "
   ]
  },
  {
   "cell_type": "markdown",
   "metadata": {},
   "source": [
    "### Question 2:\n",
    "\n",
    "Write a python function pattern to print a pattern using '0' such that its base and height contain an equal number of '0.'\n",
    "\n",
    "#### Sample Input:\n",
    "\n",
    "5\n",
    "\n",
    "#### Expected Output:\n",
    "\n",
    "   0\n",
    "   <br>00\n",
    "  <br>000\n",
    " <br>0000\n",
    "<br>00000"
   ]
  },
  {
   "cell_type": "code",
   "execution_count": 9,
   "metadata": {},
   "outputs": [
    {
     "name": "stdout",
     "output_type": "stream",
     "text": [
      "0\n",
      "00\n",
      "000\n"
     ]
    }
   ],
   "source": [
    "def printzeros(num):\n",
    "    for i in range(1,num+1):\n",
    "        print(\"0\" * i)\n",
    "\n",
    "printzeros(3)"
   ]
  },
  {
   "cell_type": "markdown",
   "metadata": {},
   "source": [
    "### Question 3:\n",
    "\n",
    "Create a class with two methods, the first one to get the input string from the user, and the second one print the odd indexed letters from the input string.\n",
    "\n",
    "#### Expected Output:\n",
    "\n",
    "Enter a string: Learning Journal\n",
    "<br>erigJunl"
   ]
  },
  {
   "cell_type": "code",
   "execution_count": 15,
   "metadata": {},
   "outputs": [
    {
     "name": "stdout",
     "output_type": "stream",
     "text": [
      "Enter a stringLearning Journal\n",
      "erigJunl\n"
     ]
    }
   ],
   "source": [
    "class StrPlay :\n",
    "    inputstr=\"\"\n",
    "    def __init__(self):\n",
    "        pass\n",
    "\n",
    "    def getInput(self):\n",
    "        self.inputstr = input(\"Enter a string\")\n",
    "\n",
    "    def oddChars(self):\n",
    "        print(self.inputstr[1::2])\n",
    "\n",
    "str1 = StrPlay()\n",
    "str1.getInput()\n",
    "str1.oddChars()"
   ]
  },
  {
   "cell_type": "markdown",
   "metadata": {},
   "source": [
    "### Question 4:\n",
    "\n",
    "Write a lambda function to find the palindromes from the list given below.\n",
    "\n",
    "words_list = [\"refer\", \"python\", \"level\", \"join\", \"notebook\", \"dad\"]\n",
    "\n",
    "#### Expected Output:\n",
    "\n",
    "Palindromes:  ['refer', 'level', 'dad']"
   ]
  },
  {
   "cell_type": "code",
   "execution_count": 24,
   "metadata": {},
   "outputs": [
    {
     "name": "stdout",
     "output_type": "stream",
     "text": [
      "refer\n",
      "refer\n",
      "[<filter object at 0x107a74c70>]\n",
      "['refer', 'level', 'dad']\n"
     ]
    }
   ],
   "source": [
    "x = \"refer\"\n",
    "print(x)\n",
    "print(x[::-1])\n",
    "\n",
    "words_list = [\"refer\", \"python\", \"level\", \"join\", \"notebook\", \"dad\"]\n",
    "list1 = list(filter(lambda x : x == x[::-1], words_list))\n",
    "print(list1)"
   ]
  },
  {
   "cell_type": "markdown",
   "metadata": {},
   "source": [
    "### Question 5:\n",
    "\n",
    "Write a python class Date with an instance method get_date to print the date. Define another class, Time, which again contains an instance method get_time to print the time given below. Call both the classes using the object of Time class.\n",
    "\n",
    "Time: 10:30:00\n",
    "<br>Date: 2020-02-25\n",
    "\n",
    "#### Expected Output:\n",
    "\n",
    "10:30:00\n",
    "<br>2020-02-25"
   ]
  },
  {
   "cell_type": "code",
   "execution_count": null,
   "metadata": {},
   "outputs": [],
   "source": [
    "from datetime import time\n",
    "class Date(time) :\n",
    "    get_date(self):\n",
    "        pr  int(\"Date\": )\n",
    "class Time:\n",
    "    get_time(self):\n",
    "        print(\"Time\")\n",
    "    "
   ]
  },
  {
   "cell_type": "markdown",
   "metadata": {},
   "source": [
    "### Question 6:\n",
    "\n",
    "Create two modules student.py and merit.py. The student.py module should contain a Student class that is initialized with name and roll number. It should also contain an instance method getMarks, which contains an argument to get the number of subjects. The getMarks function should ask the user to enter the marks of the student. The merit.py module should contain an instance method to check if the student's average marks are above 90. If it is above 90, give him/her the merit. Otherwise, print 'not eligible.' Print the message along with the student's name and roll number.\n",
    "\n",
    "#### Expected Output:\n",
    "\n",
    "Enter the name of the Student: David\n",
    "<br>Enter the roll number of the Student: 23\n",
    "<br>Enter the number of Subjects: 3\n",
    "<br>Enter marks1: 96\n",
    "<br>Enter marks2: 85\n",
    "<br>Enter marks3: 82\n",
    "<br>David with Roll No: 23, is not eligible."
   ]
  },
  {
   "cell_type": "code",
   "execution_count": null,
   "metadata": {},
   "outputs": [],
   "source": []
  },
  {
   "cell_type": "markdown",
   "metadata": {},
   "source": [
    "### Question 7:\n",
    "\n",
    "We have a dictionary of OTT Platforms, and its index is given below. Take the subscription of all the even indexed OTT platforms from 1 to 10. Since our dictionary is not updated, we have only five platforms, so using a try-except block of code handle exceptions and print the message 'Key Out of Bound. Update the list.' However, print a message 'Take these subscriptions' for the platforms mentioned in the output.\n",
    "\n",
    "my_dict = {1 : 'HBO Max', 2 : 'Netflix', 3 : 'Prime Video', 4 : 'Hotstar + Disney', 5 : 'Hulu TV'}\n",
    "\n",
    "#### Expected Output:\n",
    "\n",
    "Netflix\n",
    "<br>Hotstar + Disney\n",
    "<br>Key Out of Bound. Update the list.\n",
    "<br>Take these subscriptions."
   ]
  },
  {
   "cell_type": "code",
   "execution_count": null,
   "metadata": {},
   "outputs": [],
   "source": []
  },
  {
   "cell_type": "markdown",
   "metadata": {},
   "source": [
    "### Question 8:\n",
    "\n",
    "Write a python function to add the digits of a positive integer repeatedly until you get the result as a single digit.\n",
    "\n",
    "#### Expected Output:\n",
    "\n",
    "Enter a number:98\n",
    "<br>8"
   ]
  },
  {
   "cell_type": "code",
   "execution_count": null,
   "metadata": {},
   "outputs": [],
   "source": []
  },
  {
   "cell_type": "markdown",
   "metadata": {},
   "source": [
    "### Question 9:\n",
    "\n",
    "Write a python program to print the factorial of a number.\n",
    "\n",
    "#### Expected Output:\n",
    "\n",
    "Enter a number: 5\n",
    "<br>120"
   ]
  },
  {
   "cell_type": "code",
   "execution_count": null,
   "metadata": {},
   "outputs": [],
   "source": []
  },
  {
   "cell_type": "markdown",
   "metadata": {},
   "source": [
    "### Question 10:\n",
    "\n",
    "Write a python function to print the longest string between the two strings given below.\n",
    "\n",
    "first_str = 'Learning'\n",
    "<br>second_str = 'Journal'\n",
    "\n",
    "#### Expected Output:\n",
    "\n",
    "Learning"
   ]
  },
  {
   "cell_type": "code",
   "execution_count": null,
   "metadata": {},
   "outputs": [],
   "source": []
  }
 ],
 "metadata": {
  "kernelspec": {
   "display_name": "Python 3 (ipykernel)",
   "language": "python",
   "name": "python3"
  },
  "language_info": {
   "codemirror_mode": {
    "name": "ipython",
    "version": 3
   },
   "file_extension": ".py",
   "mimetype": "text/x-python",
   "name": "python",
   "nbconvert_exporter": "python",
   "pygments_lexer": "ipython3",
   "version": "3.11.5"
  }
 },
 "nbformat": 4,
 "nbformat_minor": 4
}
