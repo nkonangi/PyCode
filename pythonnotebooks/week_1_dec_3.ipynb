{
 "cells": [
  {
   "cell_type": "code",
   "execution_count": 1,
   "id": "6d0a233e-317b-4078-9bdc-4acddd1fc5bb",
   "metadata": {
    "tags": []
   },
   "outputs": [],
   "source": [
    "a = 10"
   ]
  },
  {
   "cell_type": "code",
   "execution_count": 2,
   "id": "fdc9d179-0ab0-4086-ab4b-d0fbf5d04308",
   "metadata": {
    "tags": []
   },
   "outputs": [
    {
     "data": {
      "text/plain": [
       "int"
      ]
     },
     "execution_count": 2,
     "metadata": {},
     "output_type": "execute_result"
    }
   ],
   "source": [
    "type(a)"
   ]
  },
  {
   "cell_type": "code",
   "execution_count": 3,
   "id": "2be13c62-d6bf-4a6f-85c6-43506283a991",
   "metadata": {
    "tags": []
   },
   "outputs": [],
   "source": [
    "a = 10.0"
   ]
  },
  {
   "cell_type": "code",
   "execution_count": 4,
   "id": "65a1464e-595e-4880-99fa-ee5f49b2781b",
   "metadata": {
    "tags": []
   },
   "outputs": [
    {
     "data": {
      "text/plain": [
       "float"
      ]
     },
     "execution_count": 4,
     "metadata": {},
     "output_type": "execute_result"
    }
   ],
   "source": [
    "type(a)"
   ]
  },
  {
   "cell_type": "code",
   "execution_count": 5,
   "id": "9caa7be5-e80c-4d1c-9414-1cbc362b741d",
   "metadata": {
    "tags": []
   },
   "outputs": [],
   "source": [
    "b = \"hello, how are you?\""
   ]
  },
  {
   "cell_type": "code",
   "execution_count": 6,
   "id": "688b042d-18ec-47b4-b82f-ef60c96a7c04",
   "metadata": {
    "tags": []
   },
   "outputs": [
    {
     "data": {
      "text/plain": [
       "'hello, how are you?'"
      ]
     },
     "execution_count": 6,
     "metadata": {},
     "output_type": "execute_result"
    }
   ],
   "source": [
    "b"
   ]
  },
  {
   "cell_type": "code",
   "execution_count": 7,
   "id": "75830cac-3938-4580-bcf6-530c45198812",
   "metadata": {
    "tags": []
   },
   "outputs": [],
   "source": [
    "c = True"
   ]
  },
  {
   "cell_type": "code",
   "execution_count": 8,
   "id": "d8c30bd7-14b9-4d65-ac14-141d06120085",
   "metadata": {
    "tags": []
   },
   "outputs": [
    {
     "data": {
      "text/plain": [
       "str"
      ]
     },
     "execution_count": 8,
     "metadata": {},
     "output_type": "execute_result"
    }
   ],
   "source": [
    "type(b)"
   ]
  },
  {
   "cell_type": "code",
   "execution_count": 9,
   "id": "4c0237d0-4b5e-424c-b4dc-0b746481a8b5",
   "metadata": {
    "tags": []
   },
   "outputs": [
    {
     "data": {
      "text/plain": [
       "bool"
      ]
     },
     "execution_count": 9,
     "metadata": {},
     "output_type": "execute_result"
    }
   ],
   "source": [
    "type(c)"
   ]
  },
  {
   "cell_type": "code",
   "execution_count": 11,
   "id": "5fc5f1e8-28bf-4c77-b4c4-aa07b4a96d55",
   "metadata": {
    "tags": []
   },
   "outputs": [
    {
     "name": "stdout",
     "output_type": "stream",
     "text": [
      "hello, how are you?\n",
      "True\n"
     ]
    }
   ],
   "source": [
    "print(b)\n",
    "print(c)"
   ]
  },
  {
   "cell_type": "code",
   "execution_count": 15,
   "id": "89e68f6c-35c1-4013-ab3f-48b7b31f92a4",
   "metadata": {
    "tags": []
   },
   "outputs": [
    {
     "name": "stdout",
     "output_type": "stream",
     "text": [
      "10\n"
     ]
    }
   ],
   "source": [
    "# This is a single line comment \n",
    "\n",
    "'''\n",
    "This is my multi-line comment and this\n",
    "is a true multi-line comment.\n",
    "'''\n",
    "print(a)"
   ]
  },
  {
   "cell_type": "code",
   "execution_count": 20,
   "id": "5d483db0-5f2c-406c-9300-4bb640c13ed8",
   "metadata": {
    "tags": []
   },
   "outputs": [
    {
     "name": "stdout",
     "output_type": "stream",
     "text": [
      "20\n"
     ]
    }
   ],
   "source": [
    "a = 10\n",
    "b = 10\n",
    "print(a+b)"
   ]
  },
  {
   "cell_type": "code",
   "execution_count": 21,
   "id": "22d19bd1-48bd-4277-a779-0da7a190c352",
   "metadata": {
    "tags": []
   },
   "outputs": [
    {
     "data": {
      "text/plain": [
       "True"
      ]
     },
     "execution_count": 21,
     "metadata": {},
     "output_type": "execute_result"
    }
   ],
   "source": [
    "a == b ## only checks variable content"
   ]
  },
  {
   "cell_type": "code",
   "execution_count": 22,
   "id": "3427a772-c491-4b58-8359-dadac737c923",
   "metadata": {
    "tags": []
   },
   "outputs": [
    {
     "data": {
      "text/plain": [
       "True"
      ]
     },
     "execution_count": 22,
     "metadata": {},
     "output_type": "execute_result"
    }
   ],
   "source": [
    "a is b ### checks variable content and data type"
   ]
  },
  {
   "cell_type": "code",
   "execution_count": 24,
   "id": "5bbbada4-37c2-4fea-bed0-a3fc9249e4a4",
   "metadata": {
    "tags": []
   },
   "outputs": [],
   "source": [
    "c = 3"
   ]
  },
  {
   "cell_type": "code",
   "execution_count": 25,
   "id": "fd668133-9ecd-448b-ae74-28153dce4ce3",
   "metadata": {
    "tags": []
   },
   "outputs": [
    {
     "data": {
      "text/plain": [
       "3.3333333333333335"
      ]
     },
     "execution_count": 25,
     "metadata": {},
     "output_type": "execute_result"
    }
   ],
   "source": [
    "a / c # regular division"
   ]
  },
  {
   "cell_type": "code",
   "execution_count": 26,
   "id": "2ce7f0b4-c956-496a-a840-d7328c10cae2",
   "metadata": {
    "tags": []
   },
   "outputs": [
    {
     "data": {
      "text/plain": [
       "3"
      ]
     },
     "execution_count": 26,
     "metadata": {},
     "output_type": "execute_result"
    }
   ],
   "source": [
    "a // c # floor division"
   ]
  },
  {
   "cell_type": "code",
   "execution_count": 27,
   "id": "f575d0ec-8454-4c38-975b-d27e8e6d5bcc",
   "metadata": {
    "tags": []
   },
   "outputs": [
    {
     "name": "stdin",
     "output_type": "stream",
     "text": [
      " Hi there.\n"
     ]
    }
   ],
   "source": [
    "user_input = input()"
   ]
  },
  {
   "cell_type": "code",
   "execution_count": 29,
   "id": "1622abfc-9016-41e9-bd5b-437224ff2c05",
   "metadata": {
    "tags": []
   },
   "outputs": [
    {
     "data": {
      "text/plain": [
       "str"
      ]
     },
     "execution_count": 29,
     "metadata": {},
     "output_type": "execute_result"
    }
   ],
   "source": [
    "type(user_input)"
   ]
  },
  {
   "cell_type": "code",
   "execution_count": 28,
   "id": "3e3fee9d-f470-45f9-be3d-78d890c24d1a",
   "metadata": {
    "tags": []
   },
   "outputs": [
    {
     "name": "stdout",
     "output_type": "stream",
     "text": [
      "Hi there.\n"
     ]
    }
   ],
   "source": [
    "print(user_input)"
   ]
  },
  {
   "cell_type": "code",
   "execution_count": 30,
   "id": "ab7626a5-4f39-4dd4-b16f-b56719706672",
   "metadata": {
    "tags": []
   },
   "outputs": [
    {
     "name": "stdin",
     "output_type": "stream",
     "text": [
      "Hello, what is your name? Javier\n"
     ]
    }
   ],
   "source": [
    "user_input = input(\"Hello, what is your name?\")"
   ]
  },
  {
   "cell_type": "code",
   "execution_count": 31,
   "id": "97a86837-85ff-4b58-b2d0-652d0bcf184d",
   "metadata": {
    "tags": []
   },
   "outputs": [
    {
     "name": "stdout",
     "output_type": "stream",
     "text": [
      "Javier\n"
     ]
    }
   ],
   "source": [
    "print(user_input)"
   ]
  },
  {
   "cell_type": "code",
   "execution_count": 32,
   "id": "f5d947e8-b241-42b3-8619-2a9f304aeb7f",
   "metadata": {
    "tags": []
   },
   "outputs": [
    {
     "name": "stdin",
     "output_type": "stream",
     "text": [
      "Hello, how old are you? 35\n"
     ]
    }
   ],
   "source": [
    "user_input = input(\"Hello, how old are you?\")"
   ]
  },
  {
   "cell_type": "code",
   "execution_count": 33,
   "id": "6dedaa64-29fd-460d-b658-ef08edbe7ca0",
   "metadata": {
    "tags": []
   },
   "outputs": [
    {
     "data": {
      "text/plain": [
       "str"
      ]
     },
     "execution_count": 33,
     "metadata": {},
     "output_type": "execute_result"
    }
   ],
   "source": [
    "type(user_input)"
   ]
  },
  {
   "cell_type": "code",
   "execution_count": 34,
   "id": "4e511303-07d2-4185-8706-55dced7ac986",
   "metadata": {
    "tags": []
   },
   "outputs": [
    {
     "ename": "TypeError",
     "evalue": "'>' not supported between instances of 'str' and 'int'",
     "output_type": "error",
     "traceback": [
      "\u001b[0;31m---------------------------------------------------------------------------\u001b[0m",
      "\u001b[0;31mTypeError\u001b[0m                                 Traceback (most recent call last)",
      "Cell \u001b[0;32mIn[34], line 1\u001b[0m\n\u001b[0;32m----> 1\u001b[0m user_input \u001b[38;5;241m>\u001b[39m \u001b[38;5;241m18\u001b[39m\n",
      "\u001b[0;31mTypeError\u001b[0m: '>' not supported between instances of 'str' and 'int'"
     ]
    }
   ],
   "source": [
    "user_input > 18"
   ]
  },
  {
   "cell_type": "code",
   "execution_count": 35,
   "id": "2e9c60fd-d404-4f6d-8a44-c85a375289ab",
   "metadata": {
    "tags": []
   },
   "outputs": [],
   "source": [
    "user_input = int(user_input)"
   ]
  },
  {
   "cell_type": "code",
   "execution_count": 36,
   "id": "7ddff794-9418-45af-bafe-310abb5f60fb",
   "metadata": {
    "tags": []
   },
   "outputs": [
    {
     "data": {
      "text/plain": [
       "int"
      ]
     },
     "execution_count": 36,
     "metadata": {},
     "output_type": "execute_result"
    }
   ],
   "source": [
    "type(user_input)"
   ]
  },
  {
   "cell_type": "code",
   "execution_count": 37,
   "id": "6dea69f0-3485-4f74-8f0b-79fdfe1a7704",
   "metadata": {
    "tags": []
   },
   "outputs": [
    {
     "data": {
      "text/plain": [
       "True"
      ]
     },
     "execution_count": 37,
     "metadata": {},
     "output_type": "execute_result"
    }
   ],
   "source": [
    "user_input > 18"
   ]
  },
  {
   "cell_type": "code",
   "execution_count": 38,
   "id": "252fbd96-30fe-4942-bdd3-251dd7a10f02",
   "metadata": {
    "tags": []
   },
   "outputs": [
    {
     "name": "stdout",
     "output_type": "stream",
     "text": [
      "17.3\n"
     ]
    }
   ],
   "source": [
    "a = 10\n",
    "b = 7.3\n",
    "print(a+b)"
   ]
  },
  {
   "cell_type": "code",
   "execution_count": 39,
   "id": "3c2a1496-9f9e-425e-9911-b67a182ce8e2",
   "metadata": {
    "tags": []
   },
   "outputs": [],
   "source": [
    "user_input = str(user_input)"
   ]
  },
  {
   "cell_type": "code",
   "execution_count": 40,
   "id": "89fcebd3-4ab2-479f-8eca-461917c575a5",
   "metadata": {
    "tags": []
   },
   "outputs": [
    {
     "name": "stdout",
     "output_type": "stream",
     "text": [
      "<class 'str'>\n",
      "35\n"
     ]
    }
   ],
   "source": [
    "print(type(user_input))\n",
    "print(user_input)"
   ]
  },
  {
   "cell_type": "code",
   "execution_count": 41,
   "id": "c7e12e0f-52bc-450f-91be-24cb274bfa2c",
   "metadata": {
    "tags": []
   },
   "outputs": [
    {
     "ename": "TypeError",
     "evalue": "unsupported operand type(s) for +: 'int' and 'str'",
     "output_type": "error",
     "traceback": [
      "\u001b[0;31m---------------------------------------------------------------------------\u001b[0m",
      "\u001b[0;31mTypeError\u001b[0m                                 Traceback (most recent call last)",
      "Cell \u001b[0;32mIn[41], line 1\u001b[0m\n\u001b[0;32m----> 1\u001b[0m a \u001b[38;5;241m+\u001b[39m user_input\n",
      "\u001b[0;31mTypeError\u001b[0m: unsupported operand type(s) for +: 'int' and 'str'"
     ]
    }
   ],
   "source": [
    "a + user_input ## output = 1035 "
   ]
  },
  {
   "cell_type": "code",
   "execution_count": 42,
   "id": "7161f527-ef3d-43ec-9322-112d1c21e22d",
   "metadata": {
    "tags": []
   },
   "outputs": [
    {
     "ename": "TypeError",
     "evalue": "can only concatenate str (not \"int\") to str",
     "output_type": "error",
     "traceback": [
      "\u001b[0;31m---------------------------------------------------------------------------\u001b[0m",
      "\u001b[0;31mTypeError\u001b[0m                                 Traceback (most recent call last)",
      "Cell \u001b[0;32mIn[42], line 1\u001b[0m\n\u001b[0;32m----> 1\u001b[0m user_input \u001b[38;5;241m+\u001b[39m a\n",
      "\u001b[0;31mTypeError\u001b[0m: can only concatenate str (not \"int\") to str"
     ]
    }
   ],
   "source": [
    "user_input + a ## output = 3510"
   ]
  },
  {
   "cell_type": "code",
   "execution_count": null,
   "id": "99216f1d-9d1f-43eb-bab2-5546d3ec6a3d",
   "metadata": {},
   "outputs": [],
   "source": [
    "### operand + actually works in two days depending the data type of the operands. If both operands are numeric is add operation, if both operands are str, it works as a concatenation."
   ]
  },
  {
   "cell_type": "code",
   "execution_count": 43,
   "id": "90a3214f-a8be-4b25-b06e-2a34fcd890c9",
   "metadata": {
    "tags": []
   },
   "outputs": [
    {
     "data": {
      "text/plain": [
       "45"
      ]
     },
     "execution_count": 43,
     "metadata": {},
     "output_type": "execute_result"
    }
   ],
   "source": [
    "a + int(user_input)"
   ]
  },
  {
   "cell_type": "code",
   "execution_count": 44,
   "id": "0326b0e0-9707-4287-b866-3488eb0fd195",
   "metadata": {
    "tags": []
   },
   "outputs": [
    {
     "data": {
      "text/plain": [
       "'3510'"
      ]
     },
     "execution_count": 44,
     "metadata": {},
     "output_type": "execute_result"
    }
   ],
   "source": [
    "user_input + str(a)"
   ]
  },
  {
   "cell_type": "code",
   "execution_count": 45,
   "id": "b369cff7-7411-4506-b371-6d58a91244c7",
   "metadata": {
    "tags": []
   },
   "outputs": [
    {
     "data": {
      "text/plain": [
       "False"
      ]
     },
     "execution_count": 45,
     "metadata": {},
     "output_type": "execute_result"
    }
   ],
   "source": [
    "bool(0)"
   ]
  },
  {
   "cell_type": "code",
   "execution_count": 46,
   "id": "02d94bb2-eb2e-4cb9-9d3d-f04bf117cb07",
   "metadata": {
    "tags": []
   },
   "outputs": [
    {
     "data": {
      "text/plain": [
       "True"
      ]
     },
     "execution_count": 46,
     "metadata": {},
     "output_type": "execute_result"
    }
   ],
   "source": [
    "bool(1)"
   ]
  },
  {
   "cell_type": "code",
   "execution_count": 47,
   "id": "726f4b85-1e12-4557-b6e1-7b7458c4b937",
   "metadata": {
    "tags": []
   },
   "outputs": [
    {
     "data": {
      "text/plain": [
       "True"
      ]
     },
     "execution_count": 47,
     "metadata": {},
     "output_type": "execute_result"
    }
   ],
   "source": [
    "bool(1000)"
   ]
  },
  {
   "cell_type": "code",
   "execution_count": 48,
   "id": "fba15c01-b267-40cb-87f3-8c4b975a0b32",
   "metadata": {
    "tags": []
   },
   "outputs": [
    {
     "data": {
      "text/plain": [
       "True"
      ]
     },
     "execution_count": 48,
     "metadata": {},
     "output_type": "execute_result"
    }
   ],
   "source": [
    "bool(-1000)"
   ]
  },
  {
   "cell_type": "code",
   "execution_count": 49,
   "id": "4f83882e-e37c-45b1-acc3-80fa9ee2714b",
   "metadata": {
    "tags": []
   },
   "outputs": [
    {
     "data": {
      "text/plain": [
       "4"
      ]
     },
     "execution_count": 49,
     "metadata": {},
     "output_type": "execute_result"
    }
   ],
   "source": [
    "int(4.6)"
   ]
  },
  {
   "cell_type": "code",
   "execution_count": 50,
   "id": "e793fd39-3547-4fe2-8166-07ab1972df92",
   "metadata": {
    "tags": []
   },
   "outputs": [
    {
     "data": {
      "text/plain": [
       "4"
      ]
     },
     "execution_count": 50,
     "metadata": {},
     "output_type": "execute_result"
    }
   ],
   "source": [
    "int(4.9)"
   ]
  },
  {
   "cell_type": "code",
   "execution_count": 63,
   "id": "d27c77f7-5d48-4730-84f8-209e622e58ac",
   "metadata": {
    "tags": []
   },
   "outputs": [
    {
     "data": {
      "text/plain": [
       "4"
      ]
     },
     "execution_count": 63,
     "metadata": {},
     "output_type": "execute_result"
    }
   ],
   "source": [
    "int(4.999999999999999) ## remember the number of decimals matters, if there are 16 9s it will be 5 instead, rounding up."
   ]
  },
  {
   "cell_type": "code",
   "execution_count": 65,
   "id": "b27196ad-4250-4fe8-a873-023060d48427",
   "metadata": {
    "tags": []
   },
   "outputs": [
    {
     "name": "stdout",
     "output_type": "stream",
     "text": [
      "The user cannot vote\n"
     ]
    }
   ],
   "source": [
    "age = 10\n",
    "if age >= 18:\n",
    "    print(\"The user can vote\")\n",
    "else:\n",
    "    print(\"The user cannot vote\")"
   ]
  },
  {
   "cell_type": "code",
   "execution_count": 71,
   "id": "204e645c-c3ce-4e8f-9a1e-1309e0582249",
   "metadata": {
    "tags": []
   },
   "outputs": [
    {
     "name": "stdout",
     "output_type": "stream",
     "text": [
      "The user can vote\n",
      "Congratulations for your first time voting\n"
     ]
    }
   ],
   "source": [
    "age = 18\n",
    "if age >= 18:\n",
    "    print(\"The user can vote\")\n",
    "    if age>=50:\n",
    "        print(\"The user has more experience voting\")\n",
    "    elif age == 18:\n",
    "        print(\"Congratulations for your first time voting\")\n",
    "    elif age< 50: \n",
    "        print(\"The user has less experince voting\")\n",
    "else:\n",
    "    print(\"The user cannot vote\")"
   ]
  },
  {
   "cell_type": "code",
   "execution_count": 75,
   "id": "24827152-78b0-4a35-aba4-77136753e1ef",
   "metadata": {
    "tags": []
   },
   "outputs": [
    {
     "name": "stdout",
     "output_type": "stream",
     "text": [
      "The user cannot vote\n"
     ]
    }
   ],
   "source": [
    "age = 12\n",
    "if age==18:\n",
    "    print(\"The user can vote\")\n",
    "    print(\"Congratulations for your first time voting\")\n",
    "elif age>=50:\n",
    "    print(\"The user can vote\")\n",
    "    print(\"The user has more experience voting\")\n",
    "elif age<50 and age>18:\n",
    "    print(\"The user can vote\")\n",
    "    print(\"The user has less experince voting\")\n",
    "else:\n",
    "    print(\"The user cannot vote\")\n",
    "    "
   ]
  },
  {
   "cell_type": "code",
   "execution_count": 76,
   "id": "106b10d1-8888-441d-a815-bd458198e0e9",
   "metadata": {
    "tags": []
   },
   "outputs": [
    {
     "name": "stdout",
     "output_type": "stream",
     "text": [
      "Hi there, this is iteration: 0\n",
      "Hi there, this is iteration: 1\n",
      "Hi there, this is iteration: 2\n",
      "Hi there, this is iteration: 3\n",
      "Hi there, this is iteration: 4\n"
     ]
    }
   ],
   "source": [
    "for i in range(5):\n",
    "    print(\"Hi there, this is iteration:\",i)"
   ]
  },
  {
   "cell_type": "code",
   "execution_count": 82,
   "id": "e918cfe2-f0e2-4020-b4bc-aac628f23402",
   "metadata": {
    "tags": []
   },
   "outputs": [
    {
     "name": "stdout",
     "output_type": "stream",
     "text": [
      "Hi there, this is iteration: 1\n",
      "Hi there, this is iteration: 2\n",
      "Hi there, this is iteration: 3\n",
      "Hi there, this is iteration: 4\n"
     ]
    }
   ],
   "source": [
    "for i in range(1,5):\n",
    "    print(\"Hi there, this is iteration:\",i)"
   ]
  },
  {
   "cell_type": "code",
   "execution_count": 81,
   "id": "6393a569-6be2-4130-afa4-13c924de7d7a",
   "metadata": {
    "tags": []
   },
   "outputs": [
    {
     "name": "stdout",
     "output_type": "stream",
     "text": [
      "Hi there, this is iteration: 1\n",
      "Hi there, this is iteration: 3\n"
     ]
    }
   ],
   "source": [
    "for i in range(1,5,2):\n",
    "    print(\"Hi there, this is iteration:\",i)"
   ]
  },
  {
   "cell_type": "code",
   "execution_count": 83,
   "id": "c56f973d-c7a7-4f54-b540-068f4b0e875f",
   "metadata": {
    "tags": []
   },
   "outputs": [],
   "source": [
    "for i in range(3,1):\n",
    "    print(\"Hi there, this is iteration:\",i)"
   ]
  },
  {
   "cell_type": "code",
   "execution_count": 86,
   "id": "82b7c7cc-1576-4c38-87d9-32b8f5f5be66",
   "metadata": {
    "tags": []
   },
   "outputs": [
    {
     "name": "stdout",
     "output_type": "stream",
     "text": [
      "Hi there, this is iteration: 3 10 7.3 3\n",
      "Hi there, this is iteration: 2 10 7.3 3\n",
      "Hi there, this is iteration: 1 10 7.3 3\n"
     ]
    }
   ],
   "source": [
    "for i in range(3,0,-1):\n",
    "    print(\"Hi there, this is iteration:\",i,a,b,c)"
   ]
  },
  {
   "cell_type": "code",
   "execution_count": 79,
   "id": "06ea8588-e724-4256-923d-097d6b5fac17",
   "metadata": {
    "tags": []
   },
   "outputs": [
    {
     "name": "stdout",
     "output_type": "stream",
     "text": [
      "Hi there, this is iteration: 0\n",
      "Hi there, this is iteration: 1\n",
      "Hi there, this is iteration: 2\n",
      "Hi there, this is iteration: 3\n",
      "Hi there, this is iteration: 4\n"
     ]
    }
   ],
   "source": [
    "counter = 0\n",
    "while counter < 5:\n",
    "    print(\"Hi there, this is iteration:\",counter)\n",
    "    counter+=1 # counter = counter + 1   "
   ]
  },
  {
   "cell_type": "code",
   "execution_count": 88,
   "id": "11086283-ebaf-4352-b371-59efffa355ae",
   "metadata": {
    "tags": []
   },
   "outputs": [
    {
     "name": "stdout",
     "output_type": "stream",
     "text": [
      "iteration: 0\n",
      "iteration: 1\n",
      "iteration: 2\n",
      "iteration: 3\n"
     ]
    }
   ],
   "source": [
    "for i in range(5):\n",
    "    print(\"iteration:\",i)\n",
    "    if i ==3:\n",
    "        break"
   ]
  },
  {
   "cell_type": "code",
   "execution_count": 90,
   "id": "34f21d07-2390-4a30-b574-511b130a3c99",
   "metadata": {
    "tags": []
   },
   "outputs": [],
   "source": [
    "for i in range(5):\n",
    "    break\n",
    "    if i ==3:\n",
    "        print(\"iteration:\",i)\n",
    "        "
   ]
  },
  {
   "cell_type": "code",
   "execution_count": 92,
   "id": "20f74440-cbd7-4377-aafe-d43b1e3c7817",
   "metadata": {
    "tags": []
   },
   "outputs": [
    {
     "name": "stdout",
     "output_type": "stream",
     "text": [
      "0 0\n",
      "0 1\n",
      "0 2\n",
      "0 3\n",
      "1 0\n",
      "1 1\n",
      "1 2\n",
      "1 3\n",
      "2 0\n",
      "2 1\n",
      "2 2\n",
      "2 3\n",
      "3 0\n",
      "4 0\n",
      "4 1\n",
      "4 2\n",
      "4 3\n"
     ]
    }
   ],
   "source": [
    "for i in range(5):\n",
    "    for j in range(4):\n",
    "        print(i,j)\n",
    "        if i==3:\n",
    "            break"
   ]
  },
  {
   "cell_type": "code",
   "execution_count": 93,
   "id": "22e3f5b3-f966-425e-a6fe-6722e1302439",
   "metadata": {
    "tags": []
   },
   "outputs": [
    {
     "name": "stdout",
     "output_type": "stream",
     "text": [
      "0 0\n",
      "0 1\n",
      "0 2\n",
      "0 3\n",
      "1 0\n",
      "1 1\n",
      "1 2\n",
      "1 3\n",
      "2 0\n",
      "2 1\n",
      "2 2\n",
      "2 3\n",
      "4 0\n",
      "4 1\n",
      "4 2\n",
      "4 3\n"
     ]
    }
   ],
   "source": [
    "for i in range(5):\n",
    "    for j in range(4):\n",
    "        if i==3:\n",
    "            continue\n",
    "        print(i,j)"
   ]
  },
  {
   "cell_type": "code",
   "execution_count": 96,
   "id": "10059707-d1a3-48a4-b1a0-66797c4398a8",
   "metadata": {
    "tags": []
   },
   "outputs": [
    {
     "name": "stdout",
     "output_type": "stream",
     "text": [
      "1 2 3 \n",
      "4 5 6 \n",
      "7 8 9 \n"
     ]
    }
   ],
   "source": [
    "matrix = [[1,2,3],[4,5,6],[7,8,9]]\n",
    "for row in matrix:\n",
    "    for element in row:\n",
    "        print(element,end=' ')\n",
    "    print()\n",
    "    "
   ]
  },
  {
   "cell_type": "code",
   "execution_count": 98,
   "id": "797abbd8-4bd8-4d0b-9786-93270b12a47c",
   "metadata": {
    "tags": []
   },
   "outputs": [
    {
     "name": "stdout",
     "output_type": "stream",
     "text": [
      "2 32\n"
     ]
    }
   ],
   "source": [
    "number = 64 \n",
    "found_pair = False\n",
    "##Output 2 and 32\n",
    "for i in range(2,number):\n",
    "    if found_pair == True:\n",
    "        break\n",
    "    for j in range(2,number):\n",
    "        if i*j==number:\n",
    "            print(i,j)\n",
    "            found_pair = True\n",
    "            break\n",
    "        \n",
    "    "
   ]
  },
  {
   "cell_type": "code",
   "execution_count": 107,
   "id": "df2f98fe-ed00-4a90-bf2b-afe7b3af8bd8",
   "metadata": {
    "tags": []
   },
   "outputs": [],
   "source": [
    "def returning_nothing(name):\n",
    "    print(\"Hello, \",name,\"!\")\n",
    "    return"
   ]
  },
  {
   "cell_type": "code",
   "execution_count": 110,
   "id": "36117da8-f8b8-4c7c-bfcf-264c098d9e44",
   "metadata": {
    "tags": []
   },
   "outputs": [],
   "source": [
    "def greet(name):\n",
    "    result = \"Hello, \"+ name + \"!\"\n",
    "    return result"
   ]
  },
  {
   "cell_type": "code",
   "execution_count": 112,
   "id": "f68f757c-db53-4a3a-92a3-a2144933e83e",
   "metadata": {
    "tags": []
   },
   "outputs": [],
   "source": [
    "def power(base, exponent):\n",
    "    result = base**exponent\n",
    "    return result"
   ]
  },
  {
   "cell_type": "code",
   "execution_count": 103,
   "id": "1ae22fe4-acb2-49b7-9c29-121c16d79be1",
   "metadata": {
    "tags": []
   },
   "outputs": [
    {
     "name": "stdout",
     "output_type": "stream",
     "text": [
      "Hello,  Ramesh !\n"
     ]
    }
   ],
   "source": [
    "returning_nothing(\"Ramesh\")"
   ]
  },
  {
   "cell_type": "code",
   "execution_count": 108,
   "id": "cddc76d6-1d8a-45cf-82a8-2b4205de3693",
   "metadata": {
    "tags": []
   },
   "outputs": [
    {
     "name": "stdout",
     "output_type": "stream",
     "text": [
      "Hello,  Ramesh !\n",
      "None\n"
     ]
    }
   ],
   "source": [
    "output = returning_nothing(\"Ramesh\")\n",
    "print(output) ## None is null value in python"
   ]
  },
  {
   "cell_type": "code",
   "execution_count": 111,
   "id": "b4cf5979-4076-4883-aa2f-2a60e4a5b61d",
   "metadata": {
    "tags": []
   },
   "outputs": [
    {
     "name": "stdout",
     "output_type": "stream",
     "text": [
      "Hello, Ramesh!\n"
     ]
    }
   ],
   "source": [
    "print(greet(\"Ramesh\"))"
   ]
  },
  {
   "cell_type": "code",
   "execution_count": 113,
   "id": "71c0e000-61ea-4312-9946-c9c4e5834cff",
   "metadata": {
    "tags": []
   },
   "outputs": [
    {
     "data": {
      "text/plain": [
       "16"
      ]
     },
     "execution_count": 113,
     "metadata": {},
     "output_type": "execute_result"
    }
   ],
   "source": [
    "power(4,2) # 16"
   ]
  },
  {
   "cell_type": "code",
   "execution_count": 114,
   "id": "4867fa51-d91d-403b-b201-066d2f07818b",
   "metadata": {
    "tags": []
   },
   "outputs": [
    {
     "data": {
      "text/plain": [
       "8"
      ]
     },
     "execution_count": 114,
     "metadata": {},
     "output_type": "execute_result"
    }
   ],
   "source": [
    "power(2,3) # 8"
   ]
  },
  {
   "cell_type": "code",
   "execution_count": 115,
   "id": "e12a93f6-91d3-4c0b-a4c0-7f23536d5605",
   "metadata": {
    "tags": []
   },
   "outputs": [],
   "source": [
    "def power(base, exponent=2):\n",
    "    result = base**exponent\n",
    "    return result"
   ]
  },
  {
   "cell_type": "code",
   "execution_count": 117,
   "id": "610eec66-52f6-481e-881a-dd273a47c7ad",
   "metadata": {
    "tags": []
   },
   "outputs": [
    {
     "data": {
      "text/plain": [
       "16"
      ]
     },
     "execution_count": 117,
     "metadata": {},
     "output_type": "execute_result"
    }
   ],
   "source": [
    "power(4)"
   ]
  },
  {
   "cell_type": "code",
   "execution_count": 118,
   "id": "5b8ee740-ca0f-43a9-97be-495730fa1996",
   "metadata": {
    "tags": []
   },
   "outputs": [
    {
     "data": {
      "text/plain": [
       "8"
      ]
     },
     "execution_count": 118,
     "metadata": {},
     "output_type": "execute_result"
    }
   ],
   "source": [
    "power(2,3) # 8"
   ]
  },
  {
   "cell_type": "code",
   "execution_count": 120,
   "id": "743ae433-e6eb-4433-b4e6-2c22da1ab0a7",
   "metadata": {
    "tags": []
   },
   "outputs": [
    {
     "ename": "SyntaxError",
     "evalue": "non-default argument follows default argument (91098466.py, line 1)",
     "output_type": "error",
     "traceback": [
      "\u001b[0;36m  Cell \u001b[0;32mIn[120], line 1\u001b[0;36m\u001b[0m\n\u001b[0;31m    def do_something_withthis(a,b=1,c):\u001b[0m\n\u001b[0m                                    ^\u001b[0m\n\u001b[0;31mSyntaxError\u001b[0m\u001b[0;31m:\u001b[0m non-default argument follows default argument\n"
     ]
    }
   ],
   "source": [
    "def do_something_withthis(a,b=1,c):\n",
    "    return a+b+c"
   ]
  },
  {
   "cell_type": "code",
   "execution_count": 121,
   "id": "81f34d69-8e31-4edb-8e8a-8ca1dc8d91ab",
   "metadata": {
    "tags": []
   },
   "outputs": [],
   "source": [
    "def do_something_withthis(a,c,b=1):\n",
    "    return a+b+c"
   ]
  },
  {
   "cell_type": "code",
   "execution_count": 122,
   "id": "31877b00-c214-41f8-95bd-ced34663671c",
   "metadata": {
    "tags": []
   },
   "outputs": [
    {
     "data": {
      "text/plain": [
       "7"
      ]
     },
     "execution_count": 122,
     "metadata": {},
     "output_type": "execute_result"
    }
   ],
   "source": [
    "do_something_withthis(2,4)"
   ]
  },
  {
   "cell_type": "code",
   "execution_count": 128,
   "id": "156d8ced-7ef0-4e93-990d-3816b3c768fe",
   "metadata": {
    "tags": []
   },
   "outputs": [],
   "source": [
    "first_list = [1,3,4,\"car\",\"bike\",True]"
   ]
  },
  {
   "cell_type": "code",
   "execution_count": 129,
   "id": "2f6bafbf-5ccb-4114-8df3-a87cddbcac1e",
   "metadata": {
    "tags": []
   },
   "outputs": [
    {
     "data": {
      "text/plain": [
       "[1, 3, 4, 'car', 'bike', True]"
      ]
     },
     "execution_count": 129,
     "metadata": {},
     "output_type": "execute_result"
    }
   ],
   "source": [
    "first_list"
   ]
  },
  {
   "cell_type": "code",
   "execution_count": 130,
   "id": "3ddff0d7-0cef-4041-b113-91a0c06c2ff9",
   "metadata": {
    "tags": []
   },
   "outputs": [],
   "source": [
    "first_list.remove(4)"
   ]
  },
  {
   "cell_type": "code",
   "execution_count": 131,
   "id": "93c23c48-05b8-446e-815b-0302e3b630b8",
   "metadata": {
    "tags": []
   },
   "outputs": [
    {
     "data": {
      "text/plain": [
       "[1, 3, 'car', 'bike', True]"
      ]
     },
     "execution_count": 131,
     "metadata": {},
     "output_type": "execute_result"
    }
   ],
   "source": [
    "first_list"
   ]
  },
  {
   "cell_type": "code",
   "execution_count": 132,
   "id": "57950d23-8754-4205-a11a-efe5b1fe3d39",
   "metadata": {
    "tags": []
   },
   "outputs": [],
   "source": [
    "first_list = [1,3,4,\"car\",\"bike\",True,4]"
   ]
  },
  {
   "cell_type": "code",
   "execution_count": 133,
   "id": "13e10030-bfbc-4317-b215-b07c9584a0d7",
   "metadata": {
    "tags": []
   },
   "outputs": [],
   "source": [
    "first_list.remove(4)"
   ]
  },
  {
   "cell_type": "code",
   "execution_count": 134,
   "id": "709d5f26-2204-4513-a03a-bd4432c384b1",
   "metadata": {
    "tags": []
   },
   "outputs": [
    {
     "data": {
      "text/plain": [
       "[1, 3, 'car', 'bike', True, 4]"
      ]
     },
     "execution_count": 134,
     "metadata": {},
     "output_type": "execute_result"
    }
   ],
   "source": [
    "first_list"
   ]
  },
  {
   "cell_type": "code",
   "execution_count": 135,
   "id": "76c1c0b4-a40d-49e5-81d7-f1996a2dcab2",
   "metadata": {
    "tags": []
   },
   "outputs": [],
   "source": [
    "del first_list[4]"
   ]
  },
  {
   "cell_type": "code",
   "execution_count": 136,
   "id": "44206de9-86c1-4d82-9b16-b536d8c49c6a",
   "metadata": {
    "tags": []
   },
   "outputs": [
    {
     "data": {
      "text/plain": [
       "[1, 3, 'car', 'bike', 4]"
      ]
     },
     "execution_count": 136,
     "metadata": {},
     "output_type": "execute_result"
    }
   ],
   "source": [
    "first_list"
   ]
  },
  {
   "cell_type": "code",
   "execution_count": 138,
   "id": "d479ea02-a5b5-4e36-8e18-b1358bd6b55a",
   "metadata": {
    "tags": []
   },
   "outputs": [
    {
     "data": {
      "text/plain": [
       "['car', 'bike']"
      ]
     },
     "execution_count": 138,
     "metadata": {},
     "output_type": "execute_result"
    }
   ],
   "source": [
    "first_list[2:4]"
   ]
  },
  {
   "cell_type": "code",
   "execution_count": 139,
   "id": "032cc8a9-1586-4441-94c2-52d607063898",
   "metadata": {
    "tags": []
   },
   "outputs": [
    {
     "name": "stdout",
     "output_type": "stream",
     "text": [
      "1\n",
      "3\n",
      "car\n",
      "bike\n",
      "4\n"
     ]
    }
   ],
   "source": [
    "for i in range(len(first_list)):\n",
    "    print(first_list[i])"
   ]
  },
  {
   "cell_type": "code",
   "execution_count": 140,
   "id": "162526e0-b2e0-4b82-8495-6482094162a2",
   "metadata": {
    "tags": []
   },
   "outputs": [
    {
     "name": "stdout",
     "output_type": "stream",
     "text": [
      "1\n",
      "3\n",
      "car\n",
      "bike\n",
      "4\n"
     ]
    }
   ],
   "source": [
    "for item in first_list:\n",
    "    print(item)"
   ]
  },
  {
   "cell_type": "code",
   "execution_count": 144,
   "id": "ac7baf89-832d-45d6-8a05-8167b36b07c3",
   "metadata": {
    "tags": []
   },
   "outputs": [],
   "source": [
    "even_nums_list = [i for i in range(101) if i%2==0]"
   ]
  },
  {
   "cell_type": "code",
   "execution_count": 145,
   "id": "8facecd3-cd75-4189-a773-983e2fe09816",
   "metadata": {
    "collapsed": true,
    "jupyter": {
     "outputs_hidden": true
    },
    "tags": []
   },
   "outputs": [
    {
     "data": {
      "text/plain": [
       "[0,\n",
       " 2,\n",
       " 4,\n",
       " 6,\n",
       " 8,\n",
       " 10,\n",
       " 12,\n",
       " 14,\n",
       " 16,\n",
       " 18,\n",
       " 20,\n",
       " 22,\n",
       " 24,\n",
       " 26,\n",
       " 28,\n",
       " 30,\n",
       " 32,\n",
       " 34,\n",
       " 36,\n",
       " 38,\n",
       " 40,\n",
       " 42,\n",
       " 44,\n",
       " 46,\n",
       " 48,\n",
       " 50,\n",
       " 52,\n",
       " 54,\n",
       " 56,\n",
       " 58,\n",
       " 60,\n",
       " 62,\n",
       " 64,\n",
       " 66,\n",
       " 68,\n",
       " 70,\n",
       " 72,\n",
       " 74,\n",
       " 76,\n",
       " 78,\n",
       " 80,\n",
       " 82,\n",
       " 84,\n",
       " 86,\n",
       " 88,\n",
       " 90,\n",
       " 92,\n",
       " 94,\n",
       " 96,\n",
       " 98,\n",
       " 100]"
      ]
     },
     "execution_count": 145,
     "metadata": {},
     "output_type": "execute_result"
    }
   ],
   "source": [
    "even_nums_list"
   ]
  },
  {
   "cell_type": "code",
   "execution_count": 146,
   "id": "dfa9bba5-b0d5-4109-9bd5-b1c2ec2bb5fa",
   "metadata": {
    "tags": []
   },
   "outputs": [],
   "source": [
    "list_nums = [1,2,3,4,5,6,7,8,9,10]"
   ]
  },
  {
   "cell_type": "code",
   "execution_count": 147,
   "id": "fa6b8d81-88af-47fa-bfc0-bb03c90a8d0c",
   "metadata": {
    "tags": []
   },
   "outputs": [
    {
     "data": {
      "text/plain": [
       "[2, 3, 4]"
      ]
     },
     "execution_count": 147,
     "metadata": {},
     "output_type": "execute_result"
    }
   ],
   "source": [
    "list_nums[1:4]"
   ]
  },
  {
   "cell_type": "code",
   "execution_count": 148,
   "id": "1bda5c4f-b549-4797-9771-d246d2a2d721",
   "metadata": {
    "tags": []
   },
   "outputs": [
    {
     "data": {
      "text/plain": [
       "[2, 4]"
      ]
     },
     "execution_count": 148,
     "metadata": {},
     "output_type": "execute_result"
    }
   ],
   "source": [
    "list_nums[1:5:2]"
   ]
  },
  {
   "cell_type": "code",
   "execution_count": 149,
   "id": "f169c6dd-b562-4dad-aa6e-4e9d78d42091",
   "metadata": {
    "tags": []
   },
   "outputs": [
    {
     "data": {
      "text/plain": [
       "[6, 7]"
      ]
     },
     "execution_count": 149,
     "metadata": {},
     "output_type": "execute_result"
    }
   ],
   "source": [
    "list_nums[-5:-3]"
   ]
  },
  {
   "cell_type": "code",
   "execution_count": 150,
   "id": "9f11d18f-a5cb-488d-ae16-b26ae1a77d4e",
   "metadata": {
    "tags": []
   },
   "outputs": [
    {
     "data": {
      "text/plain": [
       "[10, 9, 8, 7, 6, 5, 4, 3, 2, 1]"
      ]
     },
     "execution_count": 150,
     "metadata": {},
     "output_type": "execute_result"
    }
   ],
   "source": [
    "list_nums[::-1]"
   ]
  },
  {
   "cell_type": "code",
   "execution_count": 151,
   "id": "49626c6a-8d0d-494c-8bc1-919e4194fd47",
   "metadata": {
    "tags": []
   },
   "outputs": [],
   "source": [
    "list_nums.reverse()"
   ]
  },
  {
   "cell_type": "code",
   "execution_count": 152,
   "id": "b14a5b7b-5d42-4fb7-a87f-fea3f65e1b51",
   "metadata": {
    "tags": []
   },
   "outputs": [
    {
     "data": {
      "text/plain": [
       "[10, 9, 8, 7, 6, 5, 4, 3, 2, 1]"
      ]
     },
     "execution_count": 152,
     "metadata": {},
     "output_type": "execute_result"
    }
   ],
   "source": [
    "list_nums"
   ]
  },
  {
   "cell_type": "code",
   "execution_count": 156,
   "id": "69645e9c-7392-4a18-9c20-ca097887ae9f",
   "metadata": {
    "tags": []
   },
   "outputs": [
    {
     "name": "stdout",
     "output_type": "stream",
     "text": [
      "['the', 'sky', 'is', 'blue']\n",
      "['blue', 'is', 'sky', 'the']\n",
      "blue is sky the\n"
     ]
    }
   ],
   "source": [
    "sentence = \"the sky is blue\" # blue is sky the\n",
    "list_sentence = sentence.split(\" \")\n",
    "print(list_sentence)\n",
    "list_sentence.reverse() ## list_sentence[::-1]\n",
    "print(list_sentence)\n",
    "print(\" \".join(list_sentence))"
   ]
  },
  {
   "cell_type": "code",
   "execution_count": 162,
   "id": "abf2bd27-dd2d-4a6b-9c54-a8c4575fee69",
   "metadata": {
    "tags": []
   },
   "outputs": [
    {
     "name": "stdout",
     "output_type": "stream",
     "text": [
      "-1\n"
     ]
    }
   ],
   "source": [
    "haystack = \"sadbutsad\"\n",
    "needle = \"bad\"\n",
    "if needle in haystack:\n",
    "    output = haystack.index(needle)\n",
    "    print(output)\n",
    "else:\n",
    "    print(-1)"
   ]
  },
  {
   "cell_type": "code",
   "execution_count": null,
   "id": "6888a90d-ee77-42aa-8c90-6d478515ef35",
   "metadata": {},
   "outputs": [],
   "source": []
  }
 ],
 "metadata": {
  "kernelspec": {
   "display_name": "Python 3 (ipykernel)",
   "language": "python",
   "name": "python3"
  },
  "language_info": {
   "codemirror_mode": {
    "name": "ipython",
    "version": 3
   },
   "file_extension": ".py",
   "mimetype": "text/x-python",
   "name": "python",
   "nbconvert_exporter": "python",
   "pygments_lexer": "ipython3",
   "version": "3.11.4"
  }
 },
 "nbformat": 4,
 "nbformat_minor": 5
}
