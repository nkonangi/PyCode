{
 "cells": [
  {
   "cell_type": "markdown",
   "id": "4626660a",
   "metadata": {},
   "source": [
    "# Python - Week 2 - Assignment Review"
   ]
  },
  {
   "cell_type": "markdown",
   "id": "548c2de9",
   "metadata": {},
   "source": [
    "#### MCQ-1"
   ]
  },
  {
   "cell_type": "code",
   "execution_count": 2,
   "id": "303aaaa4",
   "metadata": {},
   "outputs": [],
   "source": [
    "s=\"interview kickstart\" "
   ]
  },
  {
   "cell_type": "code",
   "execution_count": 5,
   "id": "014dc94f",
   "metadata": {},
   "outputs": [
    {
     "name": "stdout",
     "output_type": "stream",
     "text": [
      "inter\n"
     ]
    }
   ],
   "source": [
    "print(s[:5])"
   ]
  },
  {
   "cell_type": "markdown",
   "id": "4c87071a",
   "metadata": {},
   "source": [
    "#### MCQ-2"
   ]
  },
  {
   "cell_type": "code",
   "execution_count": 56,
   "id": "b334b380",
   "metadata": {},
   "outputs": [
    {
     "name": "stdout",
     "output_type": "stream",
     "text": [
      "2\n"
     ]
    }
   ],
   "source": [
    "str1 = \"my isname isisis jameis isis bond\";\n",
    "sub = \"is\";\n",
    "print(str1.count(sub, 4, 14))"
   ]
  },
  {
   "cell_type": "markdown",
   "id": "6fc218b1",
   "metadata": {},
   "source": [
    "#### MCQ-3"
   ]
  },
  {
   "cell_type": "code",
   "execution_count": 14,
   "id": "62e7d385",
   "metadata": {},
   "outputs": [
    {
     "data": {
      "text/plain": [
       "'232232'"
      ]
     },
     "execution_count": 14,
     "metadata": {},
     "output_type": "execute_result"
    }
   ],
   "source": [
    "def example(a):\n",
    "    a = str(a)\n",
    "    a = a + '2'\n",
    "    a *= 2 \n",
    "    return a \n",
    "\n",
    "example(23)"
   ]
  },
  {
   "cell_type": "markdown",
   "id": "436734ac",
   "metadata": {},
   "source": [
    "#### MCQ-4"
   ]
  },
  {
   "cell_type": "code",
   "execution_count": 20,
   "id": "90270145",
   "metadata": {},
   "outputs": [
    {
     "name": "stdout",
     "output_type": "stream",
     "text": [
      "[[1, 2], [3, 4]]\n",
      "<class 'list'>\n"
     ]
    }
   ],
   "source": [
    "# L = [1, 23, 'hello', True] # list\n",
    "# L = {1, 23, 'hello', 1} # set\n",
    "# L = (1, 23, 'hello', 1) # tuple\n",
    "# D = {'a':1, 'b':2}\n",
    "\n",
    "L = [[1, 2], [3, 4]]\n",
    "\n",
    "print(L)\n",
    "print(type(L))"
   ]
  },
  {
   "cell_type": "markdown",
   "id": "570b3de4",
   "metadata": {},
   "source": [
    "#### MCQ-5"
   ]
  },
  {
   "cell_type": "code",
   "execution_count": 24,
   "id": "82b6dc8d",
   "metadata": {},
   "outputs": [
    {
     "name": "stdout",
     "output_type": "stream",
     "text": [
      "{3}\n",
      "{1, 2, 3, 5}\n",
      "{2, 5}\n"
     ]
    }
   ],
   "source": [
    "set1={2,5,3}\n",
    "set2={3,1}\n",
    "# set3={}\n",
    "\n",
    "set_intersection = set1 & set2 # intersection\n",
    "set_union = set1 | set2 # union\n",
    "set_diff = set1 - set2 # difference\n",
    "\n",
    "print(set_intersection)\n",
    "print(set_union)\n",
    "print(set_diff)"
   ]
  },
  {
   "cell_type": "markdown",
   "id": "30869a7f",
   "metadata": {},
   "source": [
    "#### MCQ-6"
   ]
  },
  {
   "cell_type": "code",
   "execution_count": 33,
   "id": "05dfb153",
   "metadata": {},
   "outputs": [
    {
     "name": "stdout",
     "output_type": "stream",
     "text": [
      "{'a': 1, 'b': 4, 'c': 3}\n"
     ]
    }
   ],
   "source": [
    "my_dict = {}\n",
    "\n",
    "my_dict['a'] = 1\n",
    "my_dict['b'] = 2\n",
    "my_dict['c'] = 3\n",
    "my_dict['b'] = 4\n",
    "\n",
    "print(my_dict)\n",
    "\n",
    "# Pop items using .popitem()\n",
    "item1 = my_dict.popitem()\n",
    "item2 = my_dict.popitem()\n",
    "\n",
    "my_dict['d'] = 4\n",
    "\n",
    "item3 = my_dict.popitem()\n",
    "\n",
    "print(my_dict)\n",
    "print(item1)\n",
    "print(item2)\n",
    "print(item3)"
   ]
  },
  {
   "cell_type": "markdown",
   "id": "a5cce82b",
   "metadata": {},
   "source": [
    "#### MCQ-7"
   ]
  },
  {
   "cell_type": "code",
   "execution_count": 38,
   "id": "7c386c11",
   "metadata": {},
   "outputs": [
    {
     "ename": "NameError",
     "evalue": "name 'demo1' is not defined",
     "output_type": "error",
     "traceback": [
      "\u001b[1;31m---------------------------------------------------------------------------\u001b[0m",
      "\u001b[1;31mNameError\u001b[0m                                 Traceback (most recent call last)",
      "\u001b[1;32m<ipython-input-38-26fb45bdd6b2>\u001b[0m in \u001b[0;36m<module>\u001b[1;34m\u001b[0m\n\u001b[1;32m----> 1\u001b[1;33m \u001b[1;32mclass\u001b[0m \u001b[0mdemo1\u001b[0m\u001b[1;33m(\u001b[0m\u001b[0mdict\u001b[0m\u001b[1;33m)\u001b[0m\u001b[1;33m:\u001b[0m\u001b[1;33m\u001b[0m\u001b[1;33m\u001b[0m\u001b[0m\n\u001b[0m\u001b[0;32m      2\u001b[0m \u001b[1;33m\u001b[0m\u001b[0m\n\u001b[0;32m      3\u001b[0m     \u001b[1;32mdef\u001b[0m \u001b[0m__test__\u001b[0m\u001b[1;33m(\u001b[0m\u001b[0mself\u001b[0m\u001b[1;33m,\u001b[0m \u001b[0mkey\u001b[0m\u001b[1;33m)\u001b[0m\u001b[1;33m:\u001b[0m\u001b[1;33m\u001b[0m\u001b[1;33m\u001b[0m\u001b[0m\n\u001b[0;32m      4\u001b[0m         \u001b[1;32mreturn\u001b[0m \u001b[1;33m[\u001b[0m\u001b[1;33m]\u001b[0m\u001b[1;33m\u001b[0m\u001b[1;33m\u001b[0m\u001b[0m\n\u001b[0;32m      5\u001b[0m \u001b[1;33m\u001b[0m\u001b[0m\n",
      "\u001b[1;32m<ipython-input-38-26fb45bdd6b2>\u001b[0m in \u001b[0;36mdemo1\u001b[1;34m()\u001b[0m\n\u001b[0;32m      4\u001b[0m         \u001b[1;32mreturn\u001b[0m \u001b[1;33m[\u001b[0m\u001b[1;33m]\u001b[0m\u001b[1;33m\u001b[0m\u001b[1;33m\u001b[0m\u001b[0m\n\u001b[0;32m      5\u001b[0m \u001b[1;33m\u001b[0m\u001b[0m\n\u001b[1;32m----> 6\u001b[1;33m     \u001b[0ma\u001b[0m \u001b[1;33m=\u001b[0m \u001b[0mdemo1\u001b[0m\u001b[1;33m(\u001b[0m\u001b[1;33m)\u001b[0m\u001b[1;33m\u001b[0m\u001b[1;33m\u001b[0m\u001b[0m\n\u001b[0m\u001b[0;32m      7\u001b[0m     \u001b[0ma\u001b[0m\u001b[1;33m.\u001b[0m\u001b[0m__test__\u001b[0m\u001b[1;33m(\u001b[0m\u001b[1;34m'test'\u001b[0m\u001b[1;33m)\u001b[0m\u001b[1;33m\u001b[0m\u001b[1;33m\u001b[0m\u001b[0m\n\u001b[0;32m      8\u001b[0m     \u001b[0ma\u001b[0m\u001b[1;33m[\u001b[0m\u001b[1;34m'test'\u001b[0m\u001b[1;33m]\u001b[0m \u001b[1;33m=\u001b[0m \u001b[1;36m7\u001b[0m\u001b[1;33m\u001b[0m\u001b[1;33m\u001b[0m\u001b[0m\n",
      "\u001b[1;31mNameError\u001b[0m: name 'demo1' is not defined"
     ]
    }
   ],
   "source": [
    "class demo1(dict):\n",
    "    \n",
    "    def __test__(self, key):\n",
    "        return []\n",
    "\n",
    "    a = demo1()\n",
    "    a.__test__('test')\n",
    "    a['test'] = 7\n",
    "    print(a)"
   ]
  },
  {
   "cell_type": "code",
   "execution_count": 37,
   "id": "825b9086",
   "metadata": {},
   "outputs": [
    {
     "name": "stdout",
     "output_type": "stream",
     "text": [
      "{'test': 7}\n"
     ]
    }
   ],
   "source": [
    "class demo(dict):\n",
    "    \n",
    "    def __test__(self, key):\n",
    "        return []\n",
    "\n",
    "    a = demo()\n",
    "    a.__test__('test')\n",
    "    a['test'] = 7\n",
    "    print(a)"
   ]
  },
  {
   "cell_type": "markdown",
   "id": "394f060d",
   "metadata": {},
   "source": [
    "#### MCQ-8"
   ]
  },
  {
   "cell_type": "code",
   "execution_count": 48,
   "id": "1dd5363c",
   "metadata": {},
   "outputs": [
    {
     "name": "stdout",
     "output_type": "stream",
     "text": [
      "['a', 'b', 'c', 'd', 'e', 'f', 'g']\n"
     ]
    }
   ],
   "source": [
    "listOne  =  ['a', 'b', 'c', 'd']\n",
    "listTwo =  ['e', 'f', 'g']\n",
    "\n",
    "newList = listOne + listTwo\n",
    "print(newList)\n",
    "\n",
    "# newList = extend(listOne, listTwo)\n",
    "# print(newList)\n",
    "\n",
    "# newList = listOne.extend(listTwo)\n",
    "# print(newList)\n",
    "\n",
    "# listOne.extend(listTwo)\n",
    "# newList = listOne\n",
    "# print(newList)\n",
    "# print(listOne)\n",
    "\n",
    "# newList.extend(listOne, listTwo)\n",
    "# print(newList)"
   ]
  },
  {
   "cell_type": "markdown",
   "id": "27c347b2",
   "metadata": {},
   "source": [
    "#### 2 Sum in a Sorted Array"
   ]
  },
  {
   "cell_type": "code",
   "execution_count": null,
   "id": "1dd5c233",
   "metadata": {},
   "outputs": [],
   "source": [
    "# Brute force with Nested for loops\n",
    "def pair_sum_sorted_array(numbers, target):\n",
    "\n",
    "    # Iterate over each number in the array\n",
    "    for i in range(len(numbers)):\n",
    "\n",
    "        # For each number, iterate over the rest of the numbers in the array\n",
    "        for j in range(i+1, len(numbers)):\n",
    "\n",
    "            # If the two numbers add up to the target, return their indices\n",
    "            if numbers[i] + numbers[j] == target:\n",
    "\n",
    "                return [i, j]\n",
    "            \n",
    "    # If no pair of numbers add up to the target, return [-1, -1]\n",
    "    return [-1, -1]"
   ]
  },
  {
   "cell_type": "code",
   "execution_count": null,
   "id": "466ce10a",
   "metadata": {},
   "outputs": [],
   "source": [
    "# Two Pointers\n",
    "\n",
    "def pair_sum_sorted_array(numbers, target):\n",
    "\n",
    "    # Set up two pointers: 'start' at the beginning of the array and 'end' at the end of the array\n",
    "    start = 0\n",
    "    end = len(numbers)-1\n",
    "\n",
    "    # While the 'start' pointer is less than the 'end' pointer\n",
    "    while start < end:\n",
    "\n",
    "        # Calculate the current sum of the values pointed by the 'start' and 'end' pointers\n",
    "        csum = numbers[start] + numbers[end]\n",
    "        \n",
    "        # If the current sum is less than the target\n",
    "        if csum < target:\n",
    "\n",
    "            # Move the 'start' pointer one step towards the end\n",
    "            start += 1\n",
    "\n",
    "        # Else if the current sum is more than the target\n",
    "        elif csum > target:\n",
    "\n",
    "            # Move the 'end' pointer one step towards the start\n",
    "            end -= 1\n",
    "\n",
    "        # Else (the current sum is exactly equal to the target)\n",
    "        else:\n",
    "\n",
    "            # Return the indices of the two numbers that add up to the target\n",
    "            return [start, end]\n",
    "            \n",
    "    # If no pair sums up to the target, return [-1, -1]\n",
    "    return [-1, -1]"
   ]
  },
  {
   "cell_type": "markdown",
   "id": "74a95faa",
   "metadata": {},
   "source": [
    "#### Majority Element"
   ]
  },
  {
   "cell_type": "code",
   "execution_count": null,
   "id": "88d6583b",
   "metadata": {},
   "outputs": [],
   "source": [
    "# Brute-Force\n",
    "import math\n",
    "\n",
    "def majority_element(nums):\n",
    "    \"\"\"\n",
    "    Args:\n",
    "     nums(list_int32): A list of integers.\n",
    "    Returns:\n",
    "     int32: The majority element if it exists, or 0 if no majority element exists.\n",
    "    \"\"\"\n",
    "    for elem in nums:\n",
    "        if nums.count(elem) > math.floor(len(nums)/2):\n",
    "            return elem"
   ]
  },
  {
   "cell_type": "code",
   "execution_count": null,
   "id": "67b26300",
   "metadata": {},
   "outputs": [],
   "source": [
    "# Dictionary Approach\n",
    "def majority_element(nums):\n",
    "    # Initialize a dictionary to hold the counts of each number\n",
    "    counts = {}\n",
    "\n",
    "    # Iterate over the array\n",
    "    for num in nums:\n",
    "\n",
    "        # If the number is not in the dictionary, add it with a count of 1\n",
    "        # If the number is already in the dictionary, increment its count\n",
    "        if num not in counts:\n",
    "            counts[num] = 1\n",
    "        else:\n",
    "            counts[num] += 1\n",
    "\n",
    "        # If the count of the current number is more than half the size of the array,\n",
    "        # return it as the majority element\n",
    "        if counts[num] > len(nums) // 2:\n",
    "            return num"
   ]
  },
  {
   "cell_type": "markdown",
   "id": "d78e623c",
   "metadata": {},
   "source": [
    "#### Check if Arrays Contains Duplicates"
   ]
  },
  {
   "cell_type": "code",
   "execution_count": null,
   "id": "c3dabacd",
   "metadata": {},
   "outputs": [],
   "source": [
    "# Nested for loops\n",
    "def check_if_array_contains_duplicate(nums):\n",
    "    for i in range(len(nums)):\n",
    "        for j in range(i+1, len(nums)):\n",
    "            if nums[i] == nums[j]:\n",
    "                return True\n",
    "    return False"
   ]
  },
  {
   "cell_type": "code",
   "execution_count": null,
   "id": "5315d9fa",
   "metadata": {},
   "outputs": [],
   "source": [
    "# Set Approach\n",
    "def check_if_array_contains_duplicate(nums):\n",
    "\n",
    "    # Convert the list of numbers to a set. A set in Python only stores unique elements,\n",
    "    # so any duplicates in the original list will be automatically removed in the set.\n",
    "    set1 = set(nums)\n",
    "\n",
    "    # Compare the lengths of the original list and the set.\n",
    "    # If the lengths are equal, it means that all elements in the list were unique.\n",
    "    # So, return False to indicate that there are no duplicates.\n",
    "    if len(nums) == len(set1):\n",
    "        return False\n",
    "    \n",
    "    # If the lengths are not equal, it means that some elements in the list were duplicates,\n",
    "    # as those duplicates have been removed in the set. So, return True to indicate that there are duplicates.\n",
    "    else:\n",
    "        return True"
   ]
  },
  {
   "cell_type": "code",
   "execution_count": null,
   "id": "55b80f6b",
   "metadata": {},
   "outputs": [],
   "source": [
    "# Sorting\n",
    "def check_if_array_contains_duplicate(nums):\n",
    "\n",
    "    # Sort the array\n",
    "    nums.sort()\n",
    "\n",
    "    for i in range(len(nums) - 1):\n",
    "\n",
    "        # If any element is the same as the next one, return True\n",
    "        if nums[i] == nums[i + 1]:\n",
    "            return True\n",
    "\n",
    "    # If no duplicates are found, return False\n",
    "    return False"
   ]
  },
  {
   "cell_type": "markdown",
   "id": "7f2dcee6",
   "metadata": {},
   "source": [
    "#### Intersection of Two Sorted Arrays"
   ]
  },
  {
   "cell_type": "code",
   "execution_count": null,
   "id": "60458686",
   "metadata": {},
   "outputs": [],
   "source": [
    "# Set Approach\n",
    "def get_intersection(numbers1, numbers2):\n",
    "\n",
    "    # Convert the input arrays into sets to remove duplicates\n",
    "    set1 = set(numbers1)\n",
    "    set2 = set(numbers2)\n",
    "\n",
    "    # Find the intersection of the two sets\n",
    "    intersection = set1.intersection(set2)\n",
    "    # intersection = set1 & set2\n",
    "\n",
    "    # Sort the intersection and convert it back to a list\n",
    "    result = sorted(list(intersection))\n",
    "\n",
    "    # Return the result or [-1] if the intersection is empty\n",
    "    if result:\n",
    "        return result\n",
    "    else:\n",
    "        return [-1]\n",
    "    # return result if result else [-1] (Optional)"
   ]
  },
  {
   "cell_type": "code",
   "execution_count": null,
   "id": "0d083d39",
   "metadata": {},
   "outputs": [],
   "source": [
    "# Two Pointer Approach\n",
    "def get_intersection(numbers1, numbers2):\n",
    "\n",
    "    intersection = []\n",
    "\n",
    "    ind1 = 0\n",
    "    ind2 = 0\n",
    "\n",
    "    while ind1 < len(numbers1) and ind2 < len(numbers2):\n",
    "\n",
    "        if numbers1[ind1] == numbers2[ind2]:\n",
    "            intersection.append(numbers1[ind1])\n",
    "\n",
    "            # Skipping the duplicate entries in both the arrays to avoid duplicate entries in result.\n",
    "            ind1 += 1\n",
    "            while ind1 < len(numbers1) and numbers1[ind1] == numbers1[ind1 - 1]:\n",
    "                ind1 += 1\n",
    "\n",
    "            ind2 += 1\n",
    "            while ind2 < len(numbers2) and numbers2[ind2] == numbers2[ind2 - 1]:\n",
    "                ind2 += 1\n",
    "\n",
    "        elif numbers1[ind1] < numbers2[ind2]:\n",
    "            ind1 += 1\n",
    "            \n",
    "        else:\n",
    "            ind2 += 1\n",
    "\n",
    "    return intersection if intersection else [-1]"
   ]
  },
  {
   "cell_type": "markdown",
   "id": "380280e0",
   "metadata": {},
   "source": [
    "#### Single Number"
   ]
  },
  {
   "cell_type": "code",
   "execution_count": null,
   "id": "7e365606",
   "metadata": {},
   "outputs": [],
   "source": [
    "# Using Dict\n",
    "def single_number(arr):\n",
    "\n",
    "    dict_1 = {}\n",
    "    \n",
    "    for x in arr:\n",
    "        if(x in dict_1):\n",
    "            dict_1[x] += 1 \n",
    "        else:\n",
    "            dict_1[x] = 1 \n",
    "            \n",
    "    for k,v in dict_1.items():\n",
    "        if(v == 1):\n",
    "            return k"
   ]
  },
  {
   "cell_type": "code",
   "execution_count": null,
   "id": "c0d23659",
   "metadata": {},
   "outputs": [],
   "source": [
    "# Math and Set \n",
    "def single_number(arr):\n",
    "    return 2 * sum(set(arr)) - sum(arr)"
   ]
  },
  {
   "cell_type": "markdown",
   "id": "aa98821e",
   "metadata": {},
   "source": [
    "#### Squares of a Sorted Array"
   ]
  },
  {
   "cell_type": "code",
   "execution_count": null,
   "id": "b968d7bb",
   "metadata": {},
   "outputs": [],
   "source": [
    "# Sorting \n",
    "def generate_sorted_array_of_squares(numbers):\n",
    "\n",
    "    # Iterate over the array\n",
    "    for i in range(len(numbers)):\n",
    "\n",
    "        # Square each number in the array\n",
    "        numbers[i] = numbers[i] * numbers[i]\n",
    "    \n",
    "    # Sort the array\n",
    "    numbers.sort()\n",
    "    \n",
    "    # Return the sorted array of squares\n",
    "    return numbers"
   ]
  },
  {
   "cell_type": "code",
   "execution_count": null,
   "id": "9d86f21d",
   "metadata": {},
   "outputs": [],
   "source": [
    "# Two pointers approach\n",
    "def generate_sorted_array_of_squares(numbers):\n",
    "\n",
    "    # Initialize pointers at the start and end of the array\n",
    "    start, end = 0, len(numbers) - 1\n",
    "\n",
    "    # Initialize the result array with the same length as the input array\n",
    "    result = [0] * len(numbers)\n",
    "    \n",
    "    # Initialize a pointer for the result array at the end\n",
    "    res_pointer = len(numbers) - 1\n",
    "    \n",
    "    # While the start pointer is less than or equal to the end pointer\n",
    "    while start <= end:\n",
    "\n",
    "        # Square the numbers at the start and end pointers\n",
    "        start_square = numbers[start] ** 2\n",
    "        end_square = numbers[end] ** 2\n",
    "        \n",
    "        # If the square at the start is greater than the square at the end\n",
    "        if start_square > end_square:\n",
    "\n",
    "            # Add the square at the start to the result array\n",
    "            result[res_pointer] = start_square\n",
    "\n",
    "            # Move the start pointer forward\n",
    "            start += 1\n",
    "        else:\n",
    "            # Otherwise, add the square at the end to the result array\n",
    "            result[res_pointer] = end_square\n",
    "\n",
    "            # Move the end pointer backward\n",
    "            end -= 1\n",
    "        \n",
    "        # Move the result pointer backward\n",
    "        res_pointer -= 1\n",
    "    \n",
    "    # Return the result array\n",
    "    return result"
   ]
  },
  {
   "cell_type": "markdown",
   "id": "6dab7d53",
   "metadata": {},
   "source": [
    "##### Maximum Sum Subarray"
   ]
  },
  {
   "cell_type": "code",
   "execution_count": null,
   "id": "6093c603",
   "metadata": {},
   "outputs": [],
   "source": [
    "# Using Brute force\n",
    "import math\n",
    "\n",
    "def find_maximum_sum_subarray(numbers):\n",
    "\n",
    "    # Set value to a negative number\n",
    "    max_subarray = -math.inf\n",
    "\n",
    "    # Iterate through the list\n",
    "    for i in range(len(numbers)):\n",
    "\n",
    "        # Initiate current subarray\n",
    "        current_subarray = 0\n",
    "\n",
    "        # Check all subarrays from the current index\n",
    "        for j in range(i, len(numbers)):\n",
    "            \n",
    "            # Add elements to the current subarray\n",
    "            current_subarray += numbers[j]\n",
    "\n",
    "            # Update the maximum value if needed\n",
    "            max_subarray = max(max_subarray, current_subarray)\n",
    "        \n",
    "    return max_subarray"
   ]
  },
  {
   "cell_type": "code",
   "execution_count": null,
   "id": "063f2a9b",
   "metadata": {},
   "outputs": [],
   "source": [
    "# Using Kadane's algorithm (Optional)\n",
    "\n",
    "def find_maximum_sum_subarray(numbers):\n",
    "\n",
    "    # Initialize the maximum subarray sum to negative infinity\n",
    "    ret = float(\"-inf\")\n",
    "    \n",
    "    # Initialize the current subarray sum to 0\n",
    "    curr = 0\n",
    "    \n",
    "    # Iterate over the array\n",
    "    for num in numbers:\n",
    "        \n",
    "        # Add the current number to the current subarray sum\n",
    "        curr += num\n",
    "        \n",
    "        # If the current number is greater than the current subarray sum\n",
    "        # it means it's better to start a new subarray from the current number\n",
    "        if num > curr:\n",
    "            curr = num\n",
    "        \n",
    "        # Update the maximum subarray sum\n",
    "        ret = max(ret, curr)\n",
    "    \n",
    "    # Return the maximum subarray sum\n",
    "    return ret"
   ]
  },
  {
   "cell_type": "markdown",
   "id": "ef68d11c",
   "metadata": {},
   "source": [
    "#### Find Winner"
   ]
  },
  {
   "cell_type": "code",
   "execution_count": null,
   "id": "70c0fe6d",
   "metadata": {},
   "outputs": [],
   "source": [
    "# Brute Force\n",
    "def find_winner(votes):\n",
    "\n",
    "    winner = \"\"\n",
    "    max_votes = 1\n",
    "    \n",
    "    # Find the maximum vote\n",
    "    for name in votes:\n",
    "        \n",
    "        # Count the list for the current name\n",
    "        count = votes.count(name)\n",
    "\n",
    "        # Find the maximum vote\n",
    "        if count > max_votes:\n",
    "            max_votes = count             \n",
    "    \n",
    "\n",
    "    for name in votes:\n",
    "        \n",
    "        # Count the list for the current name\n",
    "        count = votes.count(name)\n",
    "\n",
    "        if count == max_votes:\n",
    "\n",
    "            # If no winner so far, set winner\n",
    "            if winner ==\"\":\n",
    "                winner = name \n",
    "\n",
    "            # If winner not unique, choose the lower lexicographically\n",
    "            elif name < winner:\n",
    "                winner = name\n",
    "                # winner = min(winner, name) # Optional\n",
    "            \n",
    "    return winner"
   ]
  },
  {
   "cell_type": "code",
   "execution_count": null,
   "id": "864d943f",
   "metadata": {},
   "outputs": [],
   "source": [
    "# Using lists\n",
    "def find_winner(votes):\n",
    "\n",
    "    winners_list = []\n",
    "    max_votes = 0\n",
    "    \n",
    "    # Find the max vote\n",
    "    for vote in votes:\n",
    "        if(votes.count(vote) >= max_votes):\n",
    "            max_votes = votes.count(vote)\n",
    "\n",
    "    # Find the list of winners\n",
    "    for vote in votes:\n",
    "        if(votes.count(vote) == max_votes):\n",
    "            winners_list.append(vote)\n",
    "            \n",
    "    return min(winners_list)"
   ]
  },
  {
   "cell_type": "code",
   "execution_count": null,
   "id": "804adb2c",
   "metadata": {},
   "outputs": [],
   "source": [
    "# Using dictionary\n",
    "def find_winner(votes):\n",
    "\n",
    "    # Create a dictionary, containing the number of votes of each candidate\n",
    "    vote_count = {}\n",
    "\n",
    "    # Populate the dictionary with vote counts\n",
    "    for candidate in votes:\n",
    "\n",
    "        # Increment of the count of votes.\n",
    "        if candidate in vote_count:\n",
    "            vote_count[candidate] += 1\n",
    "        else:\n",
    "            vote_count[candidate] = 1\n",
    "\n",
    "    # Find the maximum number of votes\n",
    "    max_votes = max(vote_count.values())\n",
    "\n",
    "    voters_list = []\n",
    "\n",
    "    for candidate in vote_count.keys():\n",
    "        if vote_count[candidate] == max_votes:\n",
    "            voters_list.append(candidate)\n",
    "\n",
    "    # return lexicographical smallest candidate name\n",
    "    return(min(voters_list))"
   ]
  }
 ],
 "metadata": {
  "kernelspec": {
   "display_name": "Python 3",
   "language": "python",
   "name": "python3"
  },
  "language_info": {
   "codemirror_mode": {
    "name": "ipython",
    "version": 3
   },
   "file_extension": ".py",
   "mimetype": "text/x-python",
   "name": "python",
   "nbconvert_exporter": "python",
   "pygments_lexer": "ipython3",
   "version": "3.8.8"
  }
 },
 "nbformat": 4,
 "nbformat_minor": 5
}
